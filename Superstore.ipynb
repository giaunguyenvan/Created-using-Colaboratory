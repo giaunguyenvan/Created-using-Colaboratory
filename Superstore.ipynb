{
  "nbformat": 4,
  "nbformat_minor": 0,
  "metadata": {
    "colab": {
      "name": "Superstore.ipynb",
      "provenance": [],
      "collapsed_sections": [],
      "toc_visible": true,
      "authorship_tag": "ABX9TyNMPwIqNF2vXIA/jgZGl2G5",
      "include_colab_link": true
    },
    "kernelspec": {
      "name": "python3",
      "display_name": "Python 3"
    }
  },
  "cells": [
    {
      "cell_type": "markdown",
      "metadata": {
        "id": "view-in-github",
        "colab_type": "text"
      },
      "source": [
        "<a href=\"https://colab.research.google.com/github/nnbphuong/datascience4biz/blob/master/Superstore.ipynb\" target=\"_parent\"><img src=\"https://colab.research.google.com/assets/colab-badge.svg\" alt=\"Open In Colab\"/></a>"
      ]
    },
    {
      "cell_type": "markdown",
      "metadata": {
        "id": "7JpiHnyoK76v",
        "colab_type": "text"
      },
      "source": [
        "# CASE: SUPERSTORE\n",
        "\n",
        "\n",
        "---\n",
        "\n"
      ]
    },
    {
      "cell_type": "code",
      "metadata": {
        "id": "tmPDcESSMW_6",
        "colab_type": "code",
        "colab": {}
      },
      "source": [
        "import pandas as pd\n",
        "url = 'https://gist.githubusercontent.com/nnbphuong/38db511db14542f3ba9ef16e69d3814c/raw/3a77ff9d97c504d3ec3210b12fde7242b8c6ab63/Superstore.csv'\n",
        "superstore_df = pd.read_csv(url)\n",
        "superstore_df.head(2)"
      ],
      "execution_count": 0,
      "outputs": []
    },
    {
      "cell_type": "code",
      "metadata": {
        "id": "YvECuCQEtInJ",
        "colab_type": "code",
        "colab": {}
      },
      "source": [
        "superstore_df['Year'] = pd.DatetimeIndex(superstore_df['Order Date']).year\n",
        "superstore_df['Quarter'] = pd.DatetimeIndex(superstore_df['Order Date']).quarter\n",
        "superstore_df['Month'] = pd.DatetimeIndex(superstore_df['Order Date']).month\n",
        "superstore_df.head(2)"
      ],
      "execution_count": 0,
      "outputs": []
    },
    {
      "cell_type": "markdown",
      "metadata": {
        "id": "6-FENMP5eS5R",
        "colab_type": "text"
      },
      "source": [
        "# 1) Sort customer names in alphabetical order."
      ]
    },
    {
      "cell_type": "code",
      "metadata": {
        "id": "B-PMyT8YOE4X",
        "colab_type": "code",
        "colab": {}
      },
      "source": [
        "superstore_df.sort_values('Customer Name')"
      ],
      "execution_count": 0,
      "outputs": []
    },
    {
      "cell_type": "markdown",
      "metadata": {
        "id": "LpTdwDMtegw8",
        "colab_type": "text"
      },
      "source": [
        "# 2) How many customers do we have?"
      ]
    },
    {
      "cell_type": "code",
      "metadata": {
        "id": "5COlJE5MOfh4",
        "colab_type": "code",
        "colab": {}
      },
      "source": [
        "superstore_df['Customer Name'].value_counts()"
      ],
      "execution_count": 0,
      "outputs": []
    },
    {
      "cell_type": "code",
      "metadata": {
        "id": "eSqZbj7rQ8qx",
        "colab_type": "code",
        "colab": {}
      },
      "source": [
        "superstore_df['Customer Name'].describe()"
      ],
      "execution_count": 0,
      "outputs": []
    },
    {
      "cell_type": "code",
      "metadata": {
        "id": "_7Q6SR5rgMWR",
        "colab_type": "code",
        "colab": {}
      },
      "source": [
        "superstore_df['Customer Name'].nunique()"
      ],
      "execution_count": 0,
      "outputs": []
    },
    {
      "cell_type": "markdown",
      "metadata": {
        "id": "4n2-1uZDew_a",
        "colab_type": "text"
      },
      "source": [
        "# 3) What were the revenue?\n"
      ]
    },
    {
      "cell_type": "code",
      "metadata": {
        "id": "CPrOyDKXRO-m",
        "colab_type": "code",
        "colab": {}
      },
      "source": [
        "superstore_df['Sales'].sum()"
      ],
      "execution_count": 0,
      "outputs": []
    },
    {
      "cell_type": "markdown",
      "metadata": {
        "id": "-OG85uQ1e30Y",
        "colab_type": "text"
      },
      "source": [
        "# 4) What were our sales for the corporate segment? (What were our corporate sales?)"
      ]
    },
    {
      "cell_type": "code",
      "metadata": {
        "id": "uX9MKvOqi0kO",
        "colab_type": "code",
        "colab": {}
      },
      "source": [
        "superstore_df[superstore_df['Segment'] == 'Corporate'].head(2)"
      ],
      "execution_count": 0,
      "outputs": []
    },
    {
      "cell_type": "code",
      "metadata": {
        "id": "y4whKMzjR5w_",
        "colab_type": "code",
        "colab": {}
      },
      "source": [
        "superstore_df[superstore_df['Segment'] == 'Corporate']['Sales'].sum()"
      ],
      "execution_count": 0,
      "outputs": []
    },
    {
      "cell_type": "markdown",
      "metadata": {
        "id": "0zW1CwBUfCas",
        "colab_type": "text"
      },
      "source": [
        "# 5) What were our sales by month in 2018?"
      ]
    },
    {
      "cell_type": "code",
      "metadata": {
        "id": "bYzxL-HjcT0f",
        "colab_type": "code",
        "colab": {}
      },
      "source": [
        "superstore_df[superstore_df['Year'] == 2018]['Sales'].sum()"
      ],
      "execution_count": 0,
      "outputs": []
    },
    {
      "cell_type": "code",
      "metadata": {
        "id": "6zb6K_mLmn58",
        "colab_type": "code",
        "colab": {}
      },
      "source": [
        "superstore_df[(superstore_df['Year'] == 2018) & (superstore_df['Month'] == 1)]['Sales'].sum()"
      ],
      "execution_count": 0,
      "outputs": []
    },
    {
      "cell_type": "code",
      "metadata": {
        "id": "VI2bdnXuhduz",
        "colab_type": "code",
        "colab": {}
      },
      "source": [
        "superstore_df[superstore_df['Year'] == 2018].groupby('Month')['Sales'].sum()"
      ],
      "execution_count": 0,
      "outputs": []
    },
    {
      "cell_type": "markdown",
      "metadata": {
        "id": "5GjfFQE5fGTK",
        "colab_type": "text"
      },
      "source": [
        "# 6) What were sales in each state?"
      ]
    },
    {
      "cell_type": "code",
      "metadata": {
        "id": "fhBA7jQ2qwYU",
        "colab_type": "code",
        "colab": {}
      },
      "source": [
        "superstore_df.groupby('State')['Sales'].sum()"
      ],
      "execution_count": 0,
      "outputs": []
    },
    {
      "cell_type": "markdown",
      "metadata": {
        "id": "i7Co9qiffKNZ",
        "colab_type": "text"
      },
      "source": [
        "# 7) What were the top 5 cities based on sales?"
      ]
    },
    {
      "cell_type": "code",
      "metadata": {
        "id": "icfLXsPCr30s",
        "colab_type": "code",
        "colab": {}
      },
      "source": [
        "superstore_df.groupby('City')['Sales'].sum()"
      ],
      "execution_count": 0,
      "outputs": []
    },
    {
      "cell_type": "code",
      "metadata": {
        "id": "OWfK4fJDvztC",
        "colab_type": "code",
        "colab": {}
      },
      "source": [
        "superstore_df.groupby('City')['Sales'].sum().sort_values(ascending = False).head(5)"
      ],
      "execution_count": 0,
      "outputs": []
    },
    {
      "cell_type": "markdown",
      "metadata": {
        "id": "cyEhsPjzfO3P",
        "colab_type": "text"
      },
      "source": [
        "# 8) How much profit did we make? By quarter?"
      ]
    },
    {
      "cell_type": "code",
      "metadata": {
        "id": "RHa7_SRrr5rL",
        "colab_type": "code",
        "colab": {}
      },
      "source": [
        "superstore_df['Profit'].sum()"
      ],
      "execution_count": 0,
      "outputs": []
    },
    {
      "cell_type": "code",
      "metadata": {
        "id": "cjN0FuChwORN",
        "colab_type": "code",
        "colab": {}
      },
      "source": [
        "superstore_df.groupby(['Year', 'Quarter'])['Profit'].sum()"
      ],
      "execution_count": 0,
      "outputs": []
    },
    {
      "cell_type": "markdown",
      "metadata": {
        "id": "qL42c_wkfSTj",
        "colab_type": "text"
      },
      "source": [
        "# 9) What was the average profit per year?\n"
      ]
    },
    {
      "cell_type": "code",
      "metadata": {
        "id": "JG2aNGaFr7zx",
        "colab_type": "code",
        "colab": {}
      },
      "source": [
        "superstore_df.groupby(['Year'])['Profit'].mean()"
      ],
      "execution_count": 0,
      "outputs": []
    },
    {
      "cell_type": "markdown",
      "metadata": {
        "id": "Ek0ajvG6fchR",
        "colab_type": "text"
      },
      "source": [
        "# 10) Which orders had high profits?\n"
      ]
    },
    {
      "cell_type": "code",
      "metadata": {
        "id": "1AYlsSR1r-kF",
        "colab_type": "code",
        "colab": {}
      },
      "source": [
        "superstore_df.groupby(['Order ID'])['Profit'].sum().sort_values(ascending = False)"
      ],
      "execution_count": 0,
      "outputs": []
    },
    {
      "cell_type": "markdown",
      "metadata": {
        "id": "RDCF4LvxfX01",
        "colab_type": "text"
      },
      "source": [
        "# 11) In California, what were the top 10 cities based on sales in 2018?\n"
      ]
    },
    {
      "cell_type": "code",
      "metadata": {
        "id": "EFh-nEb2sAsz",
        "colab_type": "code",
        "colab": {}
      },
      "source": [
        "superstore_df[(superstore_df['State'] == 'California') & (superstore_df['Year'] == 2018)].groupby('City')['Sales'].sum().sort_values(ascending = False).head(10)"
      ],
      "execution_count": 0,
      "outputs": []
    },
    {
      "cell_type": "markdown",
      "metadata": {
        "id": "cqrPtS6tffqB",
        "colab_type": "text"
      },
      "source": [
        "# 12) Compare revenue and profit ratio for each category and subcategory."
      ]
    },
    {
      "cell_type": "code",
      "metadata": {
        "id": "A6AW5r7isFPB",
        "colab_type": "code",
        "colab": {}
      },
      "source": [
        "tmp = superstore_df.groupby(['Category', 'Sub-Category'])['Sales', 'Profit'].sum().reset_index()"
      ],
      "execution_count": 0,
      "outputs": []
    },
    {
      "cell_type": "code",
      "metadata": {
        "id": "qv6Aw2QVqqKg",
        "colab_type": "code",
        "colab": {}
      },
      "source": [
        "tmp['Profit Ratio'] = tmp['Profit']/tmp['Sales']\n",
        "tmp"
      ],
      "execution_count": 0,
      "outputs": []
    }
  ]
}