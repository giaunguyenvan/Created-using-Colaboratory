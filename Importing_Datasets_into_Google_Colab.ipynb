{
  "nbformat": 4,
  "nbformat_minor": 0,
  "metadata": {
    "colab": {
      "name": "Importing Datasets into Google Colab.ipynb",
      "provenance": [],
      "toc_visible": true,
      "authorship_tag": "ABX9TyM77MM++A6qWHxAO0gBZxpy",
      "include_colab_link": true
    },
    "kernelspec": {
      "name": "python3",
      "display_name": "Python 3"
    }
  },
  "cells": [
    {
      "cell_type": "markdown",
      "metadata": {
        "id": "view-in-github",
        "colab_type": "text"
      },
      "source": [
        "<a href=\"https://colab.research.google.com/github/nnbphuong/datascience4biz/blob/master/Importing_Datasets_into_Google_Colab.ipynb\" target=\"_parent\"><img src=\"https://colab.research.google.com/assets/colab-badge.svg\" alt=\"Open In Colab\"/></a>"
      ]
    },
    {
      "cell_type": "markdown",
      "metadata": {
        "id": "ZXkXF5-K5957",
        "colab_type": "text"
      },
      "source": [
        "#**IMPORTING DATASETS INTO GOOGLE COLAB**\n",
        "> Phuong Nguyen @ [DataScience.vn](https://datascience.vn)\n",
        "> \n",
        "> Dataset: [WestRoxbury.csv](https://drive.google.com/open?id=1-5zTPl_2dQHFBEsPPHD4cb7yAOPrwSbT)\n",
        "\n",
        "\n",
        "---\n",
        "\n"
      ]
    },
    {
      "cell_type": "markdown",
      "metadata": {
        "id": "8yB_ehhg51_M",
        "colab_type": "text"
      },
      "source": [
        "#Method 1: Uploading the Dataset from Local Filesystem"
      ]
    },
    {
      "cell_type": "code",
      "metadata": {
        "id": "PJZXV-QQxtW-",
        "colab_type": "code",
        "colab": {}
      },
      "source": [
        "from google.colab import files\n",
        "uploaded = files.upload()\n",
        "\n",
        "import pandas as pd\n",
        "import io\n",
        "housing_df = pd.read_csv(io.BytesIO(uploaded['WestRoxbury.csv']))\n",
        "housing_df.head()"
      ],
      "execution_count": 0,
      "outputs": []
    },
    {
      "cell_type": "markdown",
      "metadata": {
        "id": "TLOPg8gM7LoX",
        "colab_type": "text"
      },
      "source": [
        "#Method 2: Mounting Your Google Drive"
      ]
    },
    {
      "cell_type": "code",
      "metadata": {
        "id": "efNWlDB1ygtL",
        "colab_type": "code",
        "colab": {}
      },
      "source": [
        "from google.colab import drive\n",
        "drive.mount('/content/gdrive')\n",
        "\n",
        "import pandas as pd\n",
        "housing_df = pd.read_csv('/content/gdrive/My Drive/Colab Notebooks/Datasets/WestRoxbury.csv')\n",
        "housing_df.head()"
      ],
      "execution_count": 0,
      "outputs": []
    },
    {
      "cell_type": "markdown",
      "metadata": {
        "id": "LTL1EGIe853Q",
        "colab_type": "text"
      },
      "source": [
        "#Method 3: Reading the Dataset from Your Google Drive via PyDrive\n",
        "\n",
        "PyDrive: https://pypi.org/project/PyDrive/"
      ]
    },
    {
      "cell_type": "code",
      "metadata": {
        "id": "0QxlHC1g1vqZ",
        "colab_type": "code",
        "colab": {}
      },
      "source": [
        "from google.colab import auth\n",
        "auth.authenticate_user()\n",
        "\n",
        "from pydrive.auth import GoogleAuth\n",
        "from pydrive.drive import GoogleDrive\n",
        "from oauth2client.client import GoogleCredentials\n",
        "\n",
        "gauth = GoogleAuth()\n",
        "gauth.credentials = GoogleCredentials.get_application_default()\n",
        "drive = GoogleDrive(gauth)\n",
        "\n",
        "link = 'https://drive.google.com/open?id=1-5zTPl_2dQHFBEsPPHD4cb7yAOPrwSbT'\n",
        "fluff, id = link.split('=')\n",
        "downloaded = drive.CreateFile({'id':id}) \n",
        "downloaded.GetContentFile('WestRoxbury.csv')\n",
        "\n",
        "import pandas as pd\n",
        "housing_df = pd.read_csv('WestRoxbury.csv')\n",
        "housing_df.head()"
      ],
      "execution_count": 0,
      "outputs": []
    },
    {
      "cell_type": "markdown",
      "metadata": {
        "id": "pqiOKV5L7P3p",
        "colab_type": "text"
      },
      "source": [
        "#Method 4: Reading the Dataset from Your Google Sheet via gspread\n",
        "\n",
        "gspread: https://pypi.org/project/gspread/"
      ]
    },
    {
      "cell_type": "code",
      "metadata": {
        "id": "goFV5oaFy7kT",
        "colab_type": "code",
        "colab": {}
      },
      "source": [
        "from google.colab import auth\n",
        "auth.authenticate_user()\n",
        "\n",
        "import gspread\n",
        "from oauth2client.client import GoogleCredentials\n",
        "\n",
        "gc = gspread.authorize(GoogleCredentials.get_application_default())\n",
        "worksheet = gc.open('WestRoxbury').sheet1\n",
        "rows = worksheet.get_all_values()\n",
        "\n",
        "import pandas as pd\n",
        "housing_df = pd.DataFrame.from_records(rows)\n",
        "housing_df.head()"
      ],
      "execution_count": 0,
      "outputs": []
    },
    {
      "cell_type": "markdown",
      "metadata": {
        "id": "JwIMJCiS5s8b",
        "colab_type": "text"
      },
      "source": [
        "#Method 5: Cloning the Dataset from Github Gist\n",
        "Github Gist: https://gist.github.com/\n",
        "\n",
        "Demo: https://gist.github.com/nnbphuong/6fdcd466c618ad48d34d61450858798c\n",
        "\n",
        "How to get raw URL: https://prnt.sc/s08lca"
      ]
    },
    {
      "cell_type": "code",
      "metadata": {
        "id": "YekYUAnluxf6",
        "colab_type": "code",
        "colab": {}
      },
      "source": [
        "import pandas as pd\n",
        "\n",
        "url='https://gist.githubusercontent.com/nnbphuong/6fdcd466c618ad48d34d61450858798c/raw/a86d87a4c8f4472901828809fcc5f027174650af/WestRoxbury.csv'\n",
        "housing_df = pd.read_csv(url)\n",
        "housing_df.head()"
      ],
      "execution_count": 0,
      "outputs": []
    },
    {
      "cell_type": "markdown",
      "metadata": {
        "id": "XEP76FPsI4HO",
        "colab_type": "text"
      },
      "source": [
        "---\n",
        "Phuong Nguyen @ [DataScience.vn](https://datascience.vn)\n"
      ]
    }
  ]
}