{
  "nbformat": 4,
  "nbformat_minor": 0,
  "metadata": {
    "colab": {
      "name": "Working with DataFrames.ipynb",
      "provenance": [],
      "toc_visible": true,
      "authorship_tag": "ABX9TyMzQoeMscyxODvsNcKHl9Ws",
      "include_colab_link": true
    },
    "kernelspec": {
      "name": "python3",
      "display_name": "Python 3"
    }
  },
  "cells": [
    {
      "cell_type": "markdown",
      "metadata": {
        "id": "view-in-github",
        "colab_type": "text"
      },
      "source": [
        "<a href=\"https://colab.research.google.com/github/nnbphuong/datascience4biz/blob/master/Working_with_DataFrames.ipynb\" target=\"_parent\"><img src=\"https://colab.research.google.com/assets/colab-badge.svg\" alt=\"Open In Colab\"/></a>"
      ]
    },
    {
      "cell_type": "markdown",
      "metadata": {
        "id": "F5hOVxH4JM3l",
        "colab_type": "text"
      },
      "source": [
        "#**WORKING WITH DATAFRAMES**\n",
        "> Phuong Nguyen @ [DataScience.vn](https://datascience.vn)\n",
        "> \n",
        "> Dataset: https://gist.github.com/nnbphuong/6fdcd466c618ad48d34d61450858798c\n",
        "\n",
        "The data in WestRoxbury.csv includes information on single family owner-occupied homes in West Roxbury, a neighborhood in southwest Boston, MA, in 2014.\n",
        "\n",
        "*   TOTAL VALUE: Total assessed value for property, in thousands of USD\n",
        "*   TAX: Tax bill amount based on total assessed value multiplied by the tax rate, in USD\n",
        "*   LOT SQ FT: Total lot size of parcel (ft^2)\n",
        "*   YR BUILT: Year the property was built\n",
        "*   GROSS AREA: Gross floor area\n",
        "*   LIVING AREA: Total living area for residential properties (ft^2)\n",
        "*   FLOORS: Number of floors\n",
        "*   ROOMS: Total number of rooms\n",
        "*   BEDROOMS: Total number of bedrooms\n",
        "*   FULL BATH: Total number of full baths\n",
        "*   HALF BATH: Total number of half baths\n",
        "*   KITCHEN: Total number of kitchens\n",
        "*   FIREPLACE: Total number of fireplaces\n",
        "*   REMODEL: When the house was remodeled (recent/old/none)\n",
        "\n",
        "---\n",
        "\n"
      ]
    },
    {
      "cell_type": "markdown",
      "metadata": {
        "id": "9Th52U7cA8eW",
        "colab_type": "text"
      },
      "source": [
        "# Loading the Dataset into a DataFrame"
      ]
    },
    {
      "cell_type": "code",
      "metadata": {
        "id": "XSaWKfDl8i_c",
        "colab_type": "code",
        "colab": {}
      },
      "source": [
        "import pandas as pd\n",
        "housing_df = pd.read_csv(\"https://gist.githubusercontent.com/nnbphuong/6fdcd466c618ad48d34d61450858798c/raw/a86d87a4c8f4472901828809fcc5f027174650af/WestRoxbury.csv\")"
      ],
      "execution_count": null,
      "outputs": []
    },
    {
      "cell_type": "code",
      "metadata": {
        "id": "bjhiHJE4AeWQ",
        "colab_type": "code",
        "colab": {
          "base_uri": "https://localhost:8080/",
          "height": 35
        },
        "outputId": "b04a00ce-8f7a-4775-a11f-afcdb672f162"
      },
      "source": [
        "type(housing_df)"
      ],
      "execution_count": null,
      "outputs": [
        {
          "output_type": "execute_result",
          "data": {
            "text/plain": [
              "pandas.core.frame.DataFrame"
            ]
          },
          "metadata": {
            "tags": []
          },
          "execution_count": 2
        }
      ]
    },
    {
      "cell_type": "markdown",
      "metadata": {
        "id": "1vrUFzPKBOEG",
        "colab_type": "text"
      },
      "source": [
        "# Displaying First Few Records of the DataFrame"
      ]
    },
    {
      "cell_type": "code",
      "metadata": {
        "id": "-XaXS0HkDpmd",
        "colab_type": "code",
        "colab": {
          "base_uri": "https://localhost:8080/",
          "height": 224
        },
        "outputId": "6b3d4b31-2a6c-46c1-c6d2-3dd5cd0300d9"
      },
      "source": [
        "housing_df.head(5)"
      ],
      "execution_count": null,
      "outputs": [
        {
          "output_type": "execute_result",
          "data": {
            "text/html": [
              "<div>\n",
              "<style scoped>\n",
              "    .dataframe tbody tr th:only-of-type {\n",
              "        vertical-align: middle;\n",
              "    }\n",
              "\n",
              "    .dataframe tbody tr th {\n",
              "        vertical-align: top;\n",
              "    }\n",
              "\n",
              "    .dataframe thead th {\n",
              "        text-align: right;\n",
              "    }\n",
              "</style>\n",
              "<table border=\"1\" class=\"dataframe\">\n",
              "  <thead>\n",
              "    <tr style=\"text-align: right;\">\n",
              "      <th></th>\n",
              "      <th>TOTAL VALUE</th>\n",
              "      <th>TAX</th>\n",
              "      <th>LOT SQFT</th>\n",
              "      <th>YR BUILT</th>\n",
              "      <th>GROSS AREA</th>\n",
              "      <th>LIVING AREA</th>\n",
              "      <th>FLOORS</th>\n",
              "      <th>ROOMS</th>\n",
              "      <th>BEDROOMS</th>\n",
              "      <th>FULL BATH</th>\n",
              "      <th>HALF BATH</th>\n",
              "      <th>KITCHEN</th>\n",
              "      <th>FIREPLACE</th>\n",
              "      <th>REMODEL</th>\n",
              "    </tr>\n",
              "  </thead>\n",
              "  <tbody>\n",
              "    <tr>\n",
              "      <th>0</th>\n",
              "      <td>344.2</td>\n",
              "      <td>4330</td>\n",
              "      <td>9965</td>\n",
              "      <td>1880</td>\n",
              "      <td>2436</td>\n",
              "      <td>1352</td>\n",
              "      <td>2.0</td>\n",
              "      <td>6</td>\n",
              "      <td>3</td>\n",
              "      <td>1</td>\n",
              "      <td>1</td>\n",
              "      <td>1</td>\n",
              "      <td>0</td>\n",
              "      <td>None</td>\n",
              "    </tr>\n",
              "    <tr>\n",
              "      <th>1</th>\n",
              "      <td>412.6</td>\n",
              "      <td>5190</td>\n",
              "      <td>6590</td>\n",
              "      <td>1945</td>\n",
              "      <td>3108</td>\n",
              "      <td>1976</td>\n",
              "      <td>2.0</td>\n",
              "      <td>10</td>\n",
              "      <td>4</td>\n",
              "      <td>2</td>\n",
              "      <td>1</td>\n",
              "      <td>1</td>\n",
              "      <td>0</td>\n",
              "      <td>Recent</td>\n",
              "    </tr>\n",
              "    <tr>\n",
              "      <th>2</th>\n",
              "      <td>330.1</td>\n",
              "      <td>4152</td>\n",
              "      <td>7500</td>\n",
              "      <td>1890</td>\n",
              "      <td>2294</td>\n",
              "      <td>1371</td>\n",
              "      <td>2.0</td>\n",
              "      <td>8</td>\n",
              "      <td>4</td>\n",
              "      <td>1</td>\n",
              "      <td>1</td>\n",
              "      <td>1</td>\n",
              "      <td>0</td>\n",
              "      <td>None</td>\n",
              "    </tr>\n",
              "    <tr>\n",
              "      <th>3</th>\n",
              "      <td>498.6</td>\n",
              "      <td>6272</td>\n",
              "      <td>13773</td>\n",
              "      <td>1957</td>\n",
              "      <td>5032</td>\n",
              "      <td>2608</td>\n",
              "      <td>1.0</td>\n",
              "      <td>9</td>\n",
              "      <td>5</td>\n",
              "      <td>1</td>\n",
              "      <td>1</td>\n",
              "      <td>1</td>\n",
              "      <td>1</td>\n",
              "      <td>None</td>\n",
              "    </tr>\n",
              "    <tr>\n",
              "      <th>4</th>\n",
              "      <td>331.5</td>\n",
              "      <td>4170</td>\n",
              "      <td>5000</td>\n",
              "      <td>1910</td>\n",
              "      <td>2370</td>\n",
              "      <td>1438</td>\n",
              "      <td>2.0</td>\n",
              "      <td>7</td>\n",
              "      <td>3</td>\n",
              "      <td>2</td>\n",
              "      <td>0</td>\n",
              "      <td>1</td>\n",
              "      <td>0</td>\n",
              "      <td>None</td>\n",
              "    </tr>\n",
              "  </tbody>\n",
              "</table>\n",
              "</div>"
            ],
            "text/plain": [
              "   TOTAL VALUE    TAX  LOT SQFT   ...  KITCHEN  FIREPLACE  REMODEL\n",
              "0         344.2  4330       9965  ...        1          0     None\n",
              "1         412.6  5190       6590  ...        1          0   Recent\n",
              "2         330.1  4152       7500  ...        1          0     None\n",
              "3         498.6  6272      13773  ...        1          1     None\n",
              "4         331.5  4170       5000  ...        1          0     None\n",
              "\n",
              "[5 rows x 14 columns]"
            ]
          },
          "metadata": {
            "tags": []
          },
          "execution_count": 3
        }
      ]
    },
    {
      "cell_type": "code",
      "metadata": {
        "id": "ReEfa9PqDUqt",
        "colab_type": "code",
        "colab": {
          "base_uri": "https://localhost:8080/",
          "height": 489
        },
        "outputId": "7a289b1b-1e58-4679-d44a-70578ce0deb8"
      },
      "source": [
        "housing_df.head(5).transpose()"
      ],
      "execution_count": null,
      "outputs": [
        {
          "output_type": "execute_result",
          "data": {
            "text/html": [
              "<div>\n",
              "<style scoped>\n",
              "    .dataframe tbody tr th:only-of-type {\n",
              "        vertical-align: middle;\n",
              "    }\n",
              "\n",
              "    .dataframe tbody tr th {\n",
              "        vertical-align: top;\n",
              "    }\n",
              "\n",
              "    .dataframe thead th {\n",
              "        text-align: right;\n",
              "    }\n",
              "</style>\n",
              "<table border=\"1\" class=\"dataframe\">\n",
              "  <thead>\n",
              "    <tr style=\"text-align: right;\">\n",
              "      <th></th>\n",
              "      <th>0</th>\n",
              "      <th>1</th>\n",
              "      <th>2</th>\n",
              "      <th>3</th>\n",
              "      <th>4</th>\n",
              "    </tr>\n",
              "  </thead>\n",
              "  <tbody>\n",
              "    <tr>\n",
              "      <th>TOTAL VALUE</th>\n",
              "      <td>344.2</td>\n",
              "      <td>412.6</td>\n",
              "      <td>330.1</td>\n",
              "      <td>498.6</td>\n",
              "      <td>331.5</td>\n",
              "    </tr>\n",
              "    <tr>\n",
              "      <th>TAX</th>\n",
              "      <td>4330</td>\n",
              "      <td>5190</td>\n",
              "      <td>4152</td>\n",
              "      <td>6272</td>\n",
              "      <td>4170</td>\n",
              "    </tr>\n",
              "    <tr>\n",
              "      <th>LOT SQFT</th>\n",
              "      <td>9965</td>\n",
              "      <td>6590</td>\n",
              "      <td>7500</td>\n",
              "      <td>13773</td>\n",
              "      <td>5000</td>\n",
              "    </tr>\n",
              "    <tr>\n",
              "      <th>YR BUILT</th>\n",
              "      <td>1880</td>\n",
              "      <td>1945</td>\n",
              "      <td>1890</td>\n",
              "      <td>1957</td>\n",
              "      <td>1910</td>\n",
              "    </tr>\n",
              "    <tr>\n",
              "      <th>GROSS AREA</th>\n",
              "      <td>2436</td>\n",
              "      <td>3108</td>\n",
              "      <td>2294</td>\n",
              "      <td>5032</td>\n",
              "      <td>2370</td>\n",
              "    </tr>\n",
              "    <tr>\n",
              "      <th>LIVING AREA</th>\n",
              "      <td>1352</td>\n",
              "      <td>1976</td>\n",
              "      <td>1371</td>\n",
              "      <td>2608</td>\n",
              "      <td>1438</td>\n",
              "    </tr>\n",
              "    <tr>\n",
              "      <th>FLOORS</th>\n",
              "      <td>2</td>\n",
              "      <td>2</td>\n",
              "      <td>2</td>\n",
              "      <td>1</td>\n",
              "      <td>2</td>\n",
              "    </tr>\n",
              "    <tr>\n",
              "      <th>ROOMS</th>\n",
              "      <td>6</td>\n",
              "      <td>10</td>\n",
              "      <td>8</td>\n",
              "      <td>9</td>\n",
              "      <td>7</td>\n",
              "    </tr>\n",
              "    <tr>\n",
              "      <th>BEDROOMS</th>\n",
              "      <td>3</td>\n",
              "      <td>4</td>\n",
              "      <td>4</td>\n",
              "      <td>5</td>\n",
              "      <td>3</td>\n",
              "    </tr>\n",
              "    <tr>\n",
              "      <th>FULL BATH</th>\n",
              "      <td>1</td>\n",
              "      <td>2</td>\n",
              "      <td>1</td>\n",
              "      <td>1</td>\n",
              "      <td>2</td>\n",
              "    </tr>\n",
              "    <tr>\n",
              "      <th>HALF BATH</th>\n",
              "      <td>1</td>\n",
              "      <td>1</td>\n",
              "      <td>1</td>\n",
              "      <td>1</td>\n",
              "      <td>0</td>\n",
              "    </tr>\n",
              "    <tr>\n",
              "      <th>KITCHEN</th>\n",
              "      <td>1</td>\n",
              "      <td>1</td>\n",
              "      <td>1</td>\n",
              "      <td>1</td>\n",
              "      <td>1</td>\n",
              "    </tr>\n",
              "    <tr>\n",
              "      <th>FIREPLACE</th>\n",
              "      <td>0</td>\n",
              "      <td>0</td>\n",
              "      <td>0</td>\n",
              "      <td>1</td>\n",
              "      <td>0</td>\n",
              "    </tr>\n",
              "    <tr>\n",
              "      <th>REMODEL</th>\n",
              "      <td>None</td>\n",
              "      <td>Recent</td>\n",
              "      <td>None</td>\n",
              "      <td>None</td>\n",
              "      <td>None</td>\n",
              "    </tr>\n",
              "  </tbody>\n",
              "</table>\n",
              "</div>"
            ],
            "text/plain": [
              "                  0       1      2      3      4\n",
              "TOTAL VALUE   344.2   412.6  330.1  498.6  331.5\n",
              "TAX            4330    5190   4152   6272   4170\n",
              "LOT SQFT       9965    6590   7500  13773   5000\n",
              "YR BUILT       1880    1945   1890   1957   1910\n",
              "GROSS AREA     2436    3108   2294   5032   2370\n",
              "LIVING AREA    1352    1976   1371   2608   1438\n",
              "FLOORS            2       2      2      1      2\n",
              "ROOMS             6      10      8      9      7\n",
              "BEDROOMS          3       4      4      5      3\n",
              "FULL BATH         1       2      1      1      2\n",
              "HALF BATH         1       1      1      1      0\n",
              "KITCHEN           1       1      1      1      1\n",
              "FIREPLACE         0       0      0      1      0\n",
              "REMODEL        None  Recent   None   None   None"
            ]
          },
          "metadata": {
            "tags": []
          },
          "execution_count": 4
        }
      ]
    },
    {
      "cell_type": "markdown",
      "metadata": {
        "id": "VYvl5XS0DNK2",
        "colab_type": "text"
      },
      "source": [
        "# Finding Summary of the DataFrame"
      ]
    },
    {
      "cell_type": "code",
      "metadata": {
        "id": "H8rt3AzyQcP7",
        "colab_type": "code",
        "colab": {
          "base_uri": "https://localhost:8080/",
          "height": 35
        },
        "outputId": "67c8a045-ddc3-4163-9b11-4a0f694b18bc"
      },
      "source": [
        "housing_df.shape"
      ],
      "execution_count": null,
      "outputs": [
        {
          "output_type": "execute_result",
          "data": {
            "text/plain": [
              "(5802, 14)"
            ]
          },
          "metadata": {
            "tags": []
          },
          "execution_count": 5
        }
      ]
    },
    {
      "cell_type": "code",
      "metadata": {
        "id": "PwOuyHTTQgQ7",
        "colab_type": "code",
        "colab": {
          "base_uri": "https://localhost:8080/",
          "height": 267
        },
        "outputId": "a187a1a7-6071-4d12-e5cd-fd6c8936fa29"
      },
      "source": [
        "list(housing_df.columns)"
      ],
      "execution_count": null,
      "outputs": [
        {
          "output_type": "execute_result",
          "data": {
            "text/plain": [
              "['TOTAL VALUE ',\n",
              " 'TAX',\n",
              " 'LOT SQFT ',\n",
              " 'YR BUILT',\n",
              " 'GROSS AREA ',\n",
              " 'LIVING AREA',\n",
              " 'FLOORS ',\n",
              " 'ROOMS',\n",
              " 'BEDROOMS ',\n",
              " 'FULL BATH',\n",
              " 'HALF BATH',\n",
              " 'KITCHEN',\n",
              " 'FIREPLACE',\n",
              " 'REMODEL']"
            ]
          },
          "metadata": {
            "tags": []
          },
          "execution_count": 6
        }
      ]
    },
    {
      "cell_type": "code",
      "metadata": {
        "id": "P2v2VncjFHBO",
        "colab_type": "code",
        "colab": {
          "base_uri": "https://localhost:8080/",
          "height": 392
        },
        "outputId": "0386549c-7fc7-43d9-b95e-23844c557a9a"
      },
      "source": [
        "housing_df.info()"
      ],
      "execution_count": null,
      "outputs": [
        {
          "output_type": "stream",
          "text": [
            "<class 'pandas.core.frame.DataFrame'>\n",
            "RangeIndex: 5802 entries, 0 to 5801\n",
            "Data columns (total 14 columns):\n",
            " #   Column        Non-Null Count  Dtype  \n",
            "---  ------        --------------  -----  \n",
            " 0   TOTAL VALUE   5802 non-null   float64\n",
            " 1   TAX           5802 non-null   int64  \n",
            " 2   LOT SQFT      5802 non-null   int64  \n",
            " 3   YR BUILT      5802 non-null   int64  \n",
            " 4   GROSS AREA    5802 non-null   int64  \n",
            " 5   LIVING AREA   5802 non-null   int64  \n",
            " 6   FLOORS        5802 non-null   float64\n",
            " 7   ROOMS         5802 non-null   int64  \n",
            " 8   BEDROOMS      5802 non-null   int64  \n",
            " 9   FULL BATH     5802 non-null   int64  \n",
            " 10  HALF BATH     5802 non-null   int64  \n",
            " 11  KITCHEN       5802 non-null   int64  \n",
            " 12  FIREPLACE     5802 non-null   int64  \n",
            " 13  REMODEL       5802 non-null   object \n",
            "dtypes: float64(2), int64(11), object(1)\n",
            "memory usage: 634.7+ KB\n"
          ],
          "name": "stdout"
        }
      ]
    },
    {
      "cell_type": "code",
      "metadata": {
        "id": "r0PvXOLWCPmY",
        "colab_type": "code",
        "colab": {
          "base_uri": "https://localhost:8080/",
          "height": 338
        },
        "outputId": "35233fdb-e4d3-40ef-b479-478d06de9a6f"
      },
      "source": [
        "housing_df.describe()"
      ],
      "execution_count": null,
      "outputs": [
        {
          "output_type": "execute_result",
          "data": {
            "text/html": [
              "<div>\n",
              "<style scoped>\n",
              "    .dataframe tbody tr th:only-of-type {\n",
              "        vertical-align: middle;\n",
              "    }\n",
              "\n",
              "    .dataframe tbody tr th {\n",
              "        vertical-align: top;\n",
              "    }\n",
              "\n",
              "    .dataframe thead th {\n",
              "        text-align: right;\n",
              "    }\n",
              "</style>\n",
              "<table border=\"1\" class=\"dataframe\">\n",
              "  <thead>\n",
              "    <tr style=\"text-align: right;\">\n",
              "      <th></th>\n",
              "      <th>TOTAL VALUE</th>\n",
              "      <th>TAX</th>\n",
              "      <th>LOT SQFT</th>\n",
              "      <th>YR BUILT</th>\n",
              "      <th>GROSS AREA</th>\n",
              "      <th>LIVING AREA</th>\n",
              "      <th>FLOORS</th>\n",
              "      <th>ROOMS</th>\n",
              "      <th>BEDROOMS</th>\n",
              "      <th>FULL BATH</th>\n",
              "      <th>HALF BATH</th>\n",
              "      <th>KITCHEN</th>\n",
              "      <th>FIREPLACE</th>\n",
              "    </tr>\n",
              "  </thead>\n",
              "  <tbody>\n",
              "    <tr>\n",
              "      <th>count</th>\n",
              "      <td>5802.000000</td>\n",
              "      <td>5802.000000</td>\n",
              "      <td>5802.000000</td>\n",
              "      <td>5802.000000</td>\n",
              "      <td>5802.000000</td>\n",
              "      <td>5802.000000</td>\n",
              "      <td>5802.000000</td>\n",
              "      <td>5802.000000</td>\n",
              "      <td>5802.000000</td>\n",
              "      <td>5802.000000</td>\n",
              "      <td>5802.000000</td>\n",
              "      <td>5802.00000</td>\n",
              "      <td>5802.000000</td>\n",
              "    </tr>\n",
              "    <tr>\n",
              "      <th>mean</th>\n",
              "      <td>392.685715</td>\n",
              "      <td>4939.485867</td>\n",
              "      <td>6278.083764</td>\n",
              "      <td>1936.744916</td>\n",
              "      <td>2924.842123</td>\n",
              "      <td>1657.065322</td>\n",
              "      <td>1.683730</td>\n",
              "      <td>6.994829</td>\n",
              "      <td>3.230093</td>\n",
              "      <td>1.296794</td>\n",
              "      <td>0.613926</td>\n",
              "      <td>1.01534</td>\n",
              "      <td>0.739917</td>\n",
              "    </tr>\n",
              "    <tr>\n",
              "      <th>std</th>\n",
              "      <td>99.177414</td>\n",
              "      <td>1247.649118</td>\n",
              "      <td>2669.707974</td>\n",
              "      <td>35.989910</td>\n",
              "      <td>883.984726</td>\n",
              "      <td>540.456726</td>\n",
              "      <td>0.444884</td>\n",
              "      <td>1.437657</td>\n",
              "      <td>0.846607</td>\n",
              "      <td>0.522040</td>\n",
              "      <td>0.533839</td>\n",
              "      <td>0.12291</td>\n",
              "      <td>0.565108</td>\n",
              "    </tr>\n",
              "    <tr>\n",
              "      <th>min</th>\n",
              "      <td>105.000000</td>\n",
              "      <td>1320.000000</td>\n",
              "      <td>997.000000</td>\n",
              "      <td>0.000000</td>\n",
              "      <td>821.000000</td>\n",
              "      <td>504.000000</td>\n",
              "      <td>1.000000</td>\n",
              "      <td>3.000000</td>\n",
              "      <td>1.000000</td>\n",
              "      <td>1.000000</td>\n",
              "      <td>0.000000</td>\n",
              "      <td>1.00000</td>\n",
              "      <td>0.000000</td>\n",
              "    </tr>\n",
              "    <tr>\n",
              "      <th>25%</th>\n",
              "      <td>325.125000</td>\n",
              "      <td>4089.500000</td>\n",
              "      <td>4772.000000</td>\n",
              "      <td>1920.000000</td>\n",
              "      <td>2347.000000</td>\n",
              "      <td>1308.000000</td>\n",
              "      <td>1.000000</td>\n",
              "      <td>6.000000</td>\n",
              "      <td>3.000000</td>\n",
              "      <td>1.000000</td>\n",
              "      <td>0.000000</td>\n",
              "      <td>1.00000</td>\n",
              "      <td>0.000000</td>\n",
              "    </tr>\n",
              "    <tr>\n",
              "      <th>50%</th>\n",
              "      <td>375.900000</td>\n",
              "      <td>4728.000000</td>\n",
              "      <td>5683.000000</td>\n",
              "      <td>1935.000000</td>\n",
              "      <td>2700.000000</td>\n",
              "      <td>1548.500000</td>\n",
              "      <td>2.000000</td>\n",
              "      <td>7.000000</td>\n",
              "      <td>3.000000</td>\n",
              "      <td>1.000000</td>\n",
              "      <td>1.000000</td>\n",
              "      <td>1.00000</td>\n",
              "      <td>1.000000</td>\n",
              "    </tr>\n",
              "    <tr>\n",
              "      <th>75%</th>\n",
              "      <td>438.775000</td>\n",
              "      <td>5519.500000</td>\n",
              "      <td>7022.250000</td>\n",
              "      <td>1955.000000</td>\n",
              "      <td>3239.000000</td>\n",
              "      <td>1873.750000</td>\n",
              "      <td>2.000000</td>\n",
              "      <td>8.000000</td>\n",
              "      <td>4.000000</td>\n",
              "      <td>2.000000</td>\n",
              "      <td>1.000000</td>\n",
              "      <td>1.00000</td>\n",
              "      <td>1.000000</td>\n",
              "    </tr>\n",
              "    <tr>\n",
              "      <th>max</th>\n",
              "      <td>1217.800000</td>\n",
              "      <td>15319.000000</td>\n",
              "      <td>46411.000000</td>\n",
              "      <td>2011.000000</td>\n",
              "      <td>8154.000000</td>\n",
              "      <td>5289.000000</td>\n",
              "      <td>3.000000</td>\n",
              "      <td>14.000000</td>\n",
              "      <td>9.000000</td>\n",
              "      <td>5.000000</td>\n",
              "      <td>3.000000</td>\n",
              "      <td>2.00000</td>\n",
              "      <td>4.000000</td>\n",
              "    </tr>\n",
              "  </tbody>\n",
              "</table>\n",
              "</div>"
            ],
            "text/plain": [
              "       TOTAL VALUE            TAX  ...     KITCHEN    FIREPLACE\n",
              "count   5802.000000   5802.000000  ...  5802.00000  5802.000000\n",
              "mean     392.685715   4939.485867  ...     1.01534     0.739917\n",
              "std       99.177414   1247.649118  ...     0.12291     0.565108\n",
              "min      105.000000   1320.000000  ...     1.00000     0.000000\n",
              "25%      325.125000   4089.500000  ...     1.00000     0.000000\n",
              "50%      375.900000   4728.000000  ...     1.00000     1.000000\n",
              "75%      438.775000   5519.500000  ...     1.00000     1.000000\n",
              "max     1217.800000  15319.000000  ...     2.00000     4.000000\n",
              "\n",
              "[8 rows x 13 columns]"
            ]
          },
          "metadata": {
            "tags": []
          },
          "execution_count": 8
        }
      ]
    },
    {
      "cell_type": "markdown",
      "metadata": {
        "id": "c-uie5RLGCoW",
        "colab_type": "text"
      },
      "source": [
        "# Slicing and Indexing a DataFrame"
      ]
    },
    {
      "cell_type": "markdown",
      "metadata": {
        "id": "CwNhwHXyGRu0",
        "colab_type": "text"
      },
      "source": [
        "## Selecting Rows by Indexes"
      ]
    },
    {
      "cell_type": "code",
      "metadata": {
        "id": "MVeDBbCjGDHd",
        "colab_type": "code",
        "colab": {
          "base_uri": "https://localhost:8080/",
          "height": 224
        },
        "outputId": "6e99d710-5194-4bbf-bede-7a28c4b4979c"
      },
      "source": [
        "housing_df[0:5]"
      ],
      "execution_count": null,
      "outputs": [
        {
          "output_type": "execute_result",
          "data": {
            "text/html": [
              "<div>\n",
              "<style scoped>\n",
              "    .dataframe tbody tr th:only-of-type {\n",
              "        vertical-align: middle;\n",
              "    }\n",
              "\n",
              "    .dataframe tbody tr th {\n",
              "        vertical-align: top;\n",
              "    }\n",
              "\n",
              "    .dataframe thead th {\n",
              "        text-align: right;\n",
              "    }\n",
              "</style>\n",
              "<table border=\"1\" class=\"dataframe\">\n",
              "  <thead>\n",
              "    <tr style=\"text-align: right;\">\n",
              "      <th></th>\n",
              "      <th>TOTAL VALUE</th>\n",
              "      <th>TAX</th>\n",
              "      <th>LOT SQFT</th>\n",
              "      <th>YR BUILT</th>\n",
              "      <th>GROSS AREA</th>\n",
              "      <th>LIVING AREA</th>\n",
              "      <th>FLOORS</th>\n",
              "      <th>ROOMS</th>\n",
              "      <th>BEDROOMS</th>\n",
              "      <th>FULL BATH</th>\n",
              "      <th>HALF BATH</th>\n",
              "      <th>KITCHEN</th>\n",
              "      <th>FIREPLACE</th>\n",
              "      <th>REMODEL</th>\n",
              "    </tr>\n",
              "  </thead>\n",
              "  <tbody>\n",
              "    <tr>\n",
              "      <th>0</th>\n",
              "      <td>344.2</td>\n",
              "      <td>4330</td>\n",
              "      <td>9965</td>\n",
              "      <td>1880</td>\n",
              "      <td>2436</td>\n",
              "      <td>1352</td>\n",
              "      <td>2.0</td>\n",
              "      <td>6</td>\n",
              "      <td>3</td>\n",
              "      <td>1</td>\n",
              "      <td>1</td>\n",
              "      <td>1</td>\n",
              "      <td>0</td>\n",
              "      <td>None</td>\n",
              "    </tr>\n",
              "    <tr>\n",
              "      <th>1</th>\n",
              "      <td>412.6</td>\n",
              "      <td>5190</td>\n",
              "      <td>6590</td>\n",
              "      <td>1945</td>\n",
              "      <td>3108</td>\n",
              "      <td>1976</td>\n",
              "      <td>2.0</td>\n",
              "      <td>10</td>\n",
              "      <td>4</td>\n",
              "      <td>2</td>\n",
              "      <td>1</td>\n",
              "      <td>1</td>\n",
              "      <td>0</td>\n",
              "      <td>Recent</td>\n",
              "    </tr>\n",
              "    <tr>\n",
              "      <th>2</th>\n",
              "      <td>330.1</td>\n",
              "      <td>4152</td>\n",
              "      <td>7500</td>\n",
              "      <td>1890</td>\n",
              "      <td>2294</td>\n",
              "      <td>1371</td>\n",
              "      <td>2.0</td>\n",
              "      <td>8</td>\n",
              "      <td>4</td>\n",
              "      <td>1</td>\n",
              "      <td>1</td>\n",
              "      <td>1</td>\n",
              "      <td>0</td>\n",
              "      <td>None</td>\n",
              "    </tr>\n",
              "    <tr>\n",
              "      <th>3</th>\n",
              "      <td>498.6</td>\n",
              "      <td>6272</td>\n",
              "      <td>13773</td>\n",
              "      <td>1957</td>\n",
              "      <td>5032</td>\n",
              "      <td>2608</td>\n",
              "      <td>1.0</td>\n",
              "      <td>9</td>\n",
              "      <td>5</td>\n",
              "      <td>1</td>\n",
              "      <td>1</td>\n",
              "      <td>1</td>\n",
              "      <td>1</td>\n",
              "      <td>None</td>\n",
              "    </tr>\n",
              "    <tr>\n",
              "      <th>4</th>\n",
              "      <td>331.5</td>\n",
              "      <td>4170</td>\n",
              "      <td>5000</td>\n",
              "      <td>1910</td>\n",
              "      <td>2370</td>\n",
              "      <td>1438</td>\n",
              "      <td>2.0</td>\n",
              "      <td>7</td>\n",
              "      <td>3</td>\n",
              "      <td>2</td>\n",
              "      <td>0</td>\n",
              "      <td>1</td>\n",
              "      <td>0</td>\n",
              "      <td>None</td>\n",
              "    </tr>\n",
              "  </tbody>\n",
              "</table>\n",
              "</div>"
            ],
            "text/plain": [
              "   TOTAL VALUE    TAX  LOT SQFT   ...  KITCHEN  FIREPLACE  REMODEL\n",
              "0         344.2  4330       9965  ...        1          0     None\n",
              "1         412.6  5190       6590  ...        1          0   Recent\n",
              "2         330.1  4152       7500  ...        1          0     None\n",
              "3         498.6  6272      13773  ...        1          1     None\n",
              "4         331.5  4170       5000  ...        1          0     None\n",
              "\n",
              "[5 rows x 14 columns]"
            ]
          },
          "metadata": {
            "tags": []
          },
          "execution_count": 9
        }
      ]
    },
    {
      "cell_type": "code",
      "metadata": {
        "id": "W4uoiB92Gbsd",
        "colab_type": "code",
        "colab": {
          "base_uri": "https://localhost:8080/",
          "height": 224
        },
        "outputId": "1ceed142-b71e-4e55-e975-7750cb942275"
      },
      "source": [
        "housing_df[-5:]"
      ],
      "execution_count": null,
      "outputs": [
        {
          "output_type": "execute_result",
          "data": {
            "text/html": [
              "<div>\n",
              "<style scoped>\n",
              "    .dataframe tbody tr th:only-of-type {\n",
              "        vertical-align: middle;\n",
              "    }\n",
              "\n",
              "    .dataframe tbody tr th {\n",
              "        vertical-align: top;\n",
              "    }\n",
              "\n",
              "    .dataframe thead th {\n",
              "        text-align: right;\n",
              "    }\n",
              "</style>\n",
              "<table border=\"1\" class=\"dataframe\">\n",
              "  <thead>\n",
              "    <tr style=\"text-align: right;\">\n",
              "      <th></th>\n",
              "      <th>TOTAL VALUE</th>\n",
              "      <th>TAX</th>\n",
              "      <th>LOT SQFT</th>\n",
              "      <th>YR BUILT</th>\n",
              "      <th>GROSS AREA</th>\n",
              "      <th>LIVING AREA</th>\n",
              "      <th>FLOORS</th>\n",
              "      <th>ROOMS</th>\n",
              "      <th>BEDROOMS</th>\n",
              "      <th>FULL BATH</th>\n",
              "      <th>HALF BATH</th>\n",
              "      <th>KITCHEN</th>\n",
              "      <th>FIREPLACE</th>\n",
              "      <th>REMODEL</th>\n",
              "    </tr>\n",
              "  </thead>\n",
              "  <tbody>\n",
              "    <tr>\n",
              "      <th>5797</th>\n",
              "      <td>404.8</td>\n",
              "      <td>5092</td>\n",
              "      <td>6762</td>\n",
              "      <td>1938</td>\n",
              "      <td>2594</td>\n",
              "      <td>1714</td>\n",
              "      <td>2.0</td>\n",
              "      <td>9</td>\n",
              "      <td>3</td>\n",
              "      <td>2</td>\n",
              "      <td>1</td>\n",
              "      <td>1</td>\n",
              "      <td>1</td>\n",
              "      <td>Recent</td>\n",
              "    </tr>\n",
              "    <tr>\n",
              "      <th>5798</th>\n",
              "      <td>407.9</td>\n",
              "      <td>5131</td>\n",
              "      <td>9408</td>\n",
              "      <td>1950</td>\n",
              "      <td>2414</td>\n",
              "      <td>1333</td>\n",
              "      <td>2.0</td>\n",
              "      <td>6</td>\n",
              "      <td>3</td>\n",
              "      <td>1</td>\n",
              "      <td>1</td>\n",
              "      <td>1</td>\n",
              "      <td>1</td>\n",
              "      <td>None</td>\n",
              "    </tr>\n",
              "    <tr>\n",
              "      <th>5799</th>\n",
              "      <td>406.5</td>\n",
              "      <td>5113</td>\n",
              "      <td>7198</td>\n",
              "      <td>1987</td>\n",
              "      <td>2480</td>\n",
              "      <td>1674</td>\n",
              "      <td>2.0</td>\n",
              "      <td>7</td>\n",
              "      <td>3</td>\n",
              "      <td>1</td>\n",
              "      <td>1</td>\n",
              "      <td>1</td>\n",
              "      <td>1</td>\n",
              "      <td>None</td>\n",
              "    </tr>\n",
              "    <tr>\n",
              "      <th>5800</th>\n",
              "      <td>308.7</td>\n",
              "      <td>3883</td>\n",
              "      <td>6890</td>\n",
              "      <td>1946</td>\n",
              "      <td>2000</td>\n",
              "      <td>1000</td>\n",
              "      <td>1.0</td>\n",
              "      <td>5</td>\n",
              "      <td>2</td>\n",
              "      <td>1</td>\n",
              "      <td>0</td>\n",
              "      <td>1</td>\n",
              "      <td>0</td>\n",
              "      <td>None</td>\n",
              "    </tr>\n",
              "    <tr>\n",
              "      <th>5801</th>\n",
              "      <td>447.6</td>\n",
              "      <td>5630</td>\n",
              "      <td>7406</td>\n",
              "      <td>1950</td>\n",
              "      <td>2510</td>\n",
              "      <td>1600</td>\n",
              "      <td>2.0</td>\n",
              "      <td>7</td>\n",
              "      <td>3</td>\n",
              "      <td>1</td>\n",
              "      <td>1</td>\n",
              "      <td>1</td>\n",
              "      <td>1</td>\n",
              "      <td>None</td>\n",
              "    </tr>\n",
              "  </tbody>\n",
              "</table>\n",
              "</div>"
            ],
            "text/plain": [
              "      TOTAL VALUE    TAX  LOT SQFT   ...  KITCHEN  FIREPLACE  REMODEL\n",
              "5797         404.8  5092       6762  ...        1          1   Recent\n",
              "5798         407.9  5131       9408  ...        1          1     None\n",
              "5799         406.5  5113       7198  ...        1          1     None\n",
              "5800         308.7  3883       6890  ...        1          0     None\n",
              "5801         447.6  5630       7406  ...        1          1     None\n",
              "\n",
              "[5 rows x 14 columns]"
            ]
          },
          "metadata": {
            "tags": []
          },
          "execution_count": 10
        }
      ]
    },
    {
      "cell_type": "markdown",
      "metadata": {
        "id": "I-PMjcf8GsH2",
        "colab_type": "text"
      },
      "source": [
        "## Selecting Columns by Column Names"
      ]
    },
    {
      "cell_type": "code",
      "metadata": {
        "id": "kf9oR_AQIBw-",
        "colab_type": "code",
        "colab": {
          "base_uri": "https://localhost:8080/",
          "height": 124
        },
        "outputId": "5870e13e-b08e-4cb6-ade9-19cc05c30970"
      },
      "source": [
        "housing_df.TAX[0:5]"
      ],
      "execution_count": null,
      "outputs": [
        {
          "output_type": "execute_result",
          "data": {
            "text/plain": [
              "0    4330\n",
              "1    5190\n",
              "2    4152\n",
              "3    6272\n",
              "4    4170\n",
              "Name: TAX, dtype: int64"
            ]
          },
          "metadata": {
            "tags": []
          },
          "execution_count": 11
        }
      ]
    },
    {
      "cell_type": "code",
      "metadata": {
        "id": "EvIftBYmGwBd",
        "colab_type": "code",
        "colab": {
          "base_uri": "https://localhost:8080/",
          "height": 124
        },
        "outputId": "40d614bb-cd06-4e19-87be-a34e585c9f82"
      },
      "source": [
        "housing_df['TOTAL VALUE '][0:5]"
      ],
      "execution_count": null,
      "outputs": [
        {
          "output_type": "execute_result",
          "data": {
            "text/plain": [
              "0    344.2\n",
              "1    412.6\n",
              "2    330.1\n",
              "3    498.6\n",
              "4    331.5\n",
              "Name: TOTAL VALUE , dtype: float64"
            ]
          },
          "metadata": {
            "tags": []
          },
          "execution_count": 12
        }
      ]
    },
    {
      "cell_type": "code",
      "metadata": {
        "id": "w7S-kHOJHWjt",
        "colab_type": "code",
        "colab": {
          "base_uri": "https://localhost:8080/",
          "height": 206
        },
        "outputId": "14cd7eb9-a1aa-4b21-d0a0-cf56c739d27b"
      },
      "source": [
        "housing_df[['TOTAL VALUE ', 'TAX', 'ROOMS']][0:5]"
      ],
      "execution_count": null,
      "outputs": [
        {
          "output_type": "execute_result",
          "data": {
            "text/html": [
              "<div>\n",
              "<style scoped>\n",
              "    .dataframe tbody tr th:only-of-type {\n",
              "        vertical-align: middle;\n",
              "    }\n",
              "\n",
              "    .dataframe tbody tr th {\n",
              "        vertical-align: top;\n",
              "    }\n",
              "\n",
              "    .dataframe thead th {\n",
              "        text-align: right;\n",
              "    }\n",
              "</style>\n",
              "<table border=\"1\" class=\"dataframe\">\n",
              "  <thead>\n",
              "    <tr style=\"text-align: right;\">\n",
              "      <th></th>\n",
              "      <th>TOTAL VALUE</th>\n",
              "      <th>TAX</th>\n",
              "      <th>ROOMS</th>\n",
              "    </tr>\n",
              "  </thead>\n",
              "  <tbody>\n",
              "    <tr>\n",
              "      <th>0</th>\n",
              "      <td>344.2</td>\n",
              "      <td>4330</td>\n",
              "      <td>6</td>\n",
              "    </tr>\n",
              "    <tr>\n",
              "      <th>1</th>\n",
              "      <td>412.6</td>\n",
              "      <td>5190</td>\n",
              "      <td>10</td>\n",
              "    </tr>\n",
              "    <tr>\n",
              "      <th>2</th>\n",
              "      <td>330.1</td>\n",
              "      <td>4152</td>\n",
              "      <td>8</td>\n",
              "    </tr>\n",
              "    <tr>\n",
              "      <th>3</th>\n",
              "      <td>498.6</td>\n",
              "      <td>6272</td>\n",
              "      <td>9</td>\n",
              "    </tr>\n",
              "    <tr>\n",
              "      <th>4</th>\n",
              "      <td>331.5</td>\n",
              "      <td>4170</td>\n",
              "      <td>7</td>\n",
              "    </tr>\n",
              "  </tbody>\n",
              "</table>\n",
              "</div>"
            ],
            "text/plain": [
              "   TOTAL VALUE    TAX  ROOMS\n",
              "0         344.2  4330      6\n",
              "1         412.6  5190     10\n",
              "2         330.1  4152      8\n",
              "3         498.6  6272      9\n",
              "4         331.5  4170      7"
            ]
          },
          "metadata": {
            "tags": []
          },
          "execution_count": 13
        }
      ]
    },
    {
      "cell_type": "code",
      "metadata": {
        "id": "J-lBWBkdDDlK",
        "colab_type": "code",
        "colab": {
          "base_uri": "https://localhost:8080/",
          "height": 300
        },
        "outputId": "a527e874-bef2-4039-d536-948bde8349dd"
      },
      "source": [
        "housing_df[['TOTAL VALUE ', 'TAX', 'ROOMS']].describe()"
      ],
      "execution_count": null,
      "outputs": [
        {
          "output_type": "execute_result",
          "data": {
            "text/html": [
              "<div>\n",
              "<style scoped>\n",
              "    .dataframe tbody tr th:only-of-type {\n",
              "        vertical-align: middle;\n",
              "    }\n",
              "\n",
              "    .dataframe tbody tr th {\n",
              "        vertical-align: top;\n",
              "    }\n",
              "\n",
              "    .dataframe thead th {\n",
              "        text-align: right;\n",
              "    }\n",
              "</style>\n",
              "<table border=\"1\" class=\"dataframe\">\n",
              "  <thead>\n",
              "    <tr style=\"text-align: right;\">\n",
              "      <th></th>\n",
              "      <th>TOTAL VALUE</th>\n",
              "      <th>TAX</th>\n",
              "      <th>ROOMS</th>\n",
              "    </tr>\n",
              "  </thead>\n",
              "  <tbody>\n",
              "    <tr>\n",
              "      <th>count</th>\n",
              "      <td>5802.000000</td>\n",
              "      <td>5802.000000</td>\n",
              "      <td>5802.000000</td>\n",
              "    </tr>\n",
              "    <tr>\n",
              "      <th>mean</th>\n",
              "      <td>392.685715</td>\n",
              "      <td>4939.485867</td>\n",
              "      <td>6.994829</td>\n",
              "    </tr>\n",
              "    <tr>\n",
              "      <th>std</th>\n",
              "      <td>99.177414</td>\n",
              "      <td>1247.649118</td>\n",
              "      <td>1.437657</td>\n",
              "    </tr>\n",
              "    <tr>\n",
              "      <th>min</th>\n",
              "      <td>105.000000</td>\n",
              "      <td>1320.000000</td>\n",
              "      <td>3.000000</td>\n",
              "    </tr>\n",
              "    <tr>\n",
              "      <th>25%</th>\n",
              "      <td>325.125000</td>\n",
              "      <td>4089.500000</td>\n",
              "      <td>6.000000</td>\n",
              "    </tr>\n",
              "    <tr>\n",
              "      <th>50%</th>\n",
              "      <td>375.900000</td>\n",
              "      <td>4728.000000</td>\n",
              "      <td>7.000000</td>\n",
              "    </tr>\n",
              "    <tr>\n",
              "      <th>75%</th>\n",
              "      <td>438.775000</td>\n",
              "      <td>5519.500000</td>\n",
              "      <td>8.000000</td>\n",
              "    </tr>\n",
              "    <tr>\n",
              "      <th>max</th>\n",
              "      <td>1217.800000</td>\n",
              "      <td>15319.000000</td>\n",
              "      <td>14.000000</td>\n",
              "    </tr>\n",
              "  </tbody>\n",
              "</table>\n",
              "</div>"
            ],
            "text/plain": [
              "       TOTAL VALUE            TAX        ROOMS\n",
              "count   5802.000000   5802.000000  5802.000000\n",
              "mean     392.685715   4939.485867     6.994829\n",
              "std       99.177414   1247.649118     1.437657\n",
              "min      105.000000   1320.000000     3.000000\n",
              "25%      325.125000   4089.500000     6.000000\n",
              "50%      375.900000   4728.000000     7.000000\n",
              "75%      438.775000   5519.500000     8.000000\n",
              "max     1217.800000  15319.000000    14.000000"
            ]
          },
          "metadata": {
            "tags": []
          },
          "execution_count": 14
        }
      ]
    },
    {
      "cell_type": "markdown",
      "metadata": {
        "id": "e2YNUd_5HpGF",
        "colab_type": "text"
      },
      "source": [
        "## Selecting Rows and Columns by Indexes"
      ]
    },
    {
      "cell_type": "code",
      "metadata": {
        "id": "1nMIaqbzHrt8",
        "colab_type": "code",
        "colab": {
          "base_uri": "https://localhost:8080/",
          "height": 206
        },
        "outputId": "db1c86d8-9657-482e-cdd6-802d71a2e66a"
      },
      "source": [
        "housing_df.iloc[4:9, 1:4]"
      ],
      "execution_count": null,
      "outputs": [
        {
          "output_type": "execute_result",
          "data": {
            "text/html": [
              "<div>\n",
              "<style scoped>\n",
              "    .dataframe tbody tr th:only-of-type {\n",
              "        vertical-align: middle;\n",
              "    }\n",
              "\n",
              "    .dataframe tbody tr th {\n",
              "        vertical-align: top;\n",
              "    }\n",
              "\n",
              "    .dataframe thead th {\n",
              "        text-align: right;\n",
              "    }\n",
              "</style>\n",
              "<table border=\"1\" class=\"dataframe\">\n",
              "  <thead>\n",
              "    <tr style=\"text-align: right;\">\n",
              "      <th></th>\n",
              "      <th>TAX</th>\n",
              "      <th>LOT SQFT</th>\n",
              "      <th>YR BUILT</th>\n",
              "    </tr>\n",
              "  </thead>\n",
              "  <tbody>\n",
              "    <tr>\n",
              "      <th>4</th>\n",
              "      <td>4170</td>\n",
              "      <td>5000</td>\n",
              "      <td>1910</td>\n",
              "    </tr>\n",
              "    <tr>\n",
              "      <th>5</th>\n",
              "      <td>4244</td>\n",
              "      <td>5142</td>\n",
              "      <td>1950</td>\n",
              "    </tr>\n",
              "    <tr>\n",
              "      <th>6</th>\n",
              "      <td>4521</td>\n",
              "      <td>5000</td>\n",
              "      <td>1954</td>\n",
              "    </tr>\n",
              "    <tr>\n",
              "      <th>7</th>\n",
              "      <td>4030</td>\n",
              "      <td>10000</td>\n",
              "      <td>1950</td>\n",
              "    </tr>\n",
              "    <tr>\n",
              "      <th>8</th>\n",
              "      <td>4195</td>\n",
              "      <td>6835</td>\n",
              "      <td>1958</td>\n",
              "    </tr>\n",
              "  </tbody>\n",
              "</table>\n",
              "</div>"
            ],
            "text/plain": [
              "    TAX  LOT SQFT   YR BUILT\n",
              "4  4170       5000      1910\n",
              "5  4244       5142      1950\n",
              "6  4521       5000      1954\n",
              "7  4030      10000      1950\n",
              "8  4195       6835      1958"
            ]
          },
          "metadata": {
            "tags": []
          },
          "execution_count": 15
        }
      ]
    },
    {
      "cell_type": "markdown",
      "metadata": {
        "id": "KZzaoXZ-H5eG",
        "colab_type": "text"
      },
      "source": [
        "# Finding Value Counts and Cross Tabulations"
      ]
    },
    {
      "cell_type": "markdown",
      "metadata": {
        "id": "-MQL5AK1IZi0",
        "colab_type": "text"
      },
      "source": [
        "## Finding Unique Occurances of Values in Columns\n"
      ]
    },
    {
      "cell_type": "code",
      "metadata": {
        "id": "jSlqez_AH7DH",
        "colab_type": "code",
        "colab": {
          "base_uri": "https://localhost:8080/",
          "height": 124
        },
        "outputId": "45adf165-5048-4eb8-8543-14dcb8bb4a04"
      },
      "source": [
        "housing_df['FLOORS '].value_counts()"
      ],
      "execution_count": null,
      "outputs": [
        {
          "output_type": "execute_result",
          "data": {
            "text/plain": [
              "2.0    3415\n",
              "1.0    1505\n",
              "1.5     773\n",
              "2.5     105\n",
              "3.0       4\n",
              "Name: FLOORS , dtype: int64"
            ]
          },
          "metadata": {
            "tags": []
          },
          "execution_count": 16
        }
      ]
    },
    {
      "cell_type": "code",
      "metadata": {
        "id": "p_j-fzrLIvDx",
        "colab_type": "code",
        "colab": {
          "base_uri": "https://localhost:8080/",
          "height": 88
        },
        "outputId": "a3715101-37d3-4b29-d764-7bf8897bd269"
      },
      "source": [
        "housing_df.REMODEL.value_counts()"
      ],
      "execution_count": null,
      "outputs": [
        {
          "output_type": "execute_result",
          "data": {
            "text/plain": [
              "None      4346\n",
              "Recent     875\n",
              "Old        581\n",
              "Name: REMODEL, dtype: int64"
            ]
          },
          "metadata": {
            "tags": []
          },
          "execution_count": 17
        }
      ]
    },
    {
      "cell_type": "code",
      "metadata": {
        "id": "y5YslptGJCYV",
        "colab_type": "code",
        "colab": {
          "base_uri": "https://localhost:8080/",
          "height": 88
        },
        "outputId": "f670f6a1-5723-44bf-af6a-36174631c69f"
      },
      "source": [
        "housing_df.REMODEL.value_counts(normalize=True)*100"
      ],
      "execution_count": null,
      "outputs": [
        {
          "output_type": "execute_result",
          "data": {
            "text/plain": [
              "None      74.905205\n",
              "Recent    15.081007\n",
              "Old       10.013788\n",
              "Name: REMODEL, dtype: float64"
            ]
          },
          "metadata": {
            "tags": []
          },
          "execution_count": 18
        }
      ]
    },
    {
      "cell_type": "markdown",
      "metadata": {
        "id": "oej-1SlZJJcO",
        "colab_type": "text"
      },
      "source": [
        "## Finding Cross-Tabulation between Two Columns"
      ]
    },
    {
      "cell_type": "code",
      "metadata": {
        "id": "4WuzdHVVJK0w",
        "colab_type": "code",
        "colab": {
          "base_uri": "https://localhost:8080/",
          "height": 238
        },
        "outputId": "6dd100d9-8ce8-432d-e8ee-c83ab9a934d9"
      },
      "source": [
        "pd.crosstab(housing_df['FLOORS '], housing_df['REMODEL'] )"
      ],
      "execution_count": null,
      "outputs": [
        {
          "output_type": "execute_result",
          "data": {
            "text/html": [
              "<div>\n",
              "<style scoped>\n",
              "    .dataframe tbody tr th:only-of-type {\n",
              "        vertical-align: middle;\n",
              "    }\n",
              "\n",
              "    .dataframe tbody tr th {\n",
              "        vertical-align: top;\n",
              "    }\n",
              "\n",
              "    .dataframe thead th {\n",
              "        text-align: right;\n",
              "    }\n",
              "</style>\n",
              "<table border=\"1\" class=\"dataframe\">\n",
              "  <thead>\n",
              "    <tr style=\"text-align: right;\">\n",
              "      <th>REMODEL</th>\n",
              "      <th>None</th>\n",
              "      <th>Old</th>\n",
              "      <th>Recent</th>\n",
              "    </tr>\n",
              "    <tr>\n",
              "      <th>FLOORS</th>\n",
              "      <th></th>\n",
              "      <th></th>\n",
              "      <th></th>\n",
              "    </tr>\n",
              "  </thead>\n",
              "  <tbody>\n",
              "    <tr>\n",
              "      <th>1.0</th>\n",
              "      <td>1246</td>\n",
              "      <td>112</td>\n",
              "      <td>147</td>\n",
              "    </tr>\n",
              "    <tr>\n",
              "      <th>1.5</th>\n",
              "      <td>560</td>\n",
              "      <td>89</td>\n",
              "      <td>124</td>\n",
              "    </tr>\n",
              "    <tr>\n",
              "      <th>2.0</th>\n",
              "      <td>2490</td>\n",
              "      <td>361</td>\n",
              "      <td>564</td>\n",
              "    </tr>\n",
              "    <tr>\n",
              "      <th>2.5</th>\n",
              "      <td>48</td>\n",
              "      <td>18</td>\n",
              "      <td>39</td>\n",
              "    </tr>\n",
              "    <tr>\n",
              "      <th>3.0</th>\n",
              "      <td>2</td>\n",
              "      <td>1</td>\n",
              "      <td>1</td>\n",
              "    </tr>\n",
              "  </tbody>\n",
              "</table>\n",
              "</div>"
            ],
            "text/plain": [
              "REMODEL  None  Old  Recent\n",
              "FLOORS                    \n",
              "1.0      1246  112     147\n",
              "1.5       560   89     124\n",
              "2.0      2490  361     564\n",
              "2.5        48   18      39\n",
              "3.0         2    1       1"
            ]
          },
          "metadata": {
            "tags": []
          },
          "execution_count": 19
        }
      ]
    },
    {
      "cell_type": "markdown",
      "metadata": {
        "id": "q1XIgW3CLLhN",
        "colab_type": "text"
      },
      "source": [
        "# Sorting DataFrame by Column Values"
      ]
    },
    {
      "cell_type": "code",
      "metadata": {
        "id": "o5stYbLwLN2n",
        "colab_type": "code",
        "colab": {
          "base_uri": "https://localhost:8080/",
          "height": 206
        },
        "outputId": "bf7e67c0-eaa9-4a1b-b226-7511e07f5b91"
      },
      "source": [
        "housing_df[['TOTAL VALUE ', 'FLOORS ']].sort_values('TOTAL VALUE ')[0:5]"
      ],
      "execution_count": null,
      "outputs": [
        {
          "output_type": "execute_result",
          "data": {
            "text/html": [
              "<div>\n",
              "<style scoped>\n",
              "    .dataframe tbody tr th:only-of-type {\n",
              "        vertical-align: middle;\n",
              "    }\n",
              "\n",
              "    .dataframe tbody tr th {\n",
              "        vertical-align: top;\n",
              "    }\n",
              "\n",
              "    .dataframe thead th {\n",
              "        text-align: right;\n",
              "    }\n",
              "</style>\n",
              "<table border=\"1\" class=\"dataframe\">\n",
              "  <thead>\n",
              "    <tr style=\"text-align: right;\">\n",
              "      <th></th>\n",
              "      <th>TOTAL VALUE</th>\n",
              "      <th>FLOORS</th>\n",
              "    </tr>\n",
              "  </thead>\n",
              "  <tbody>\n",
              "    <tr>\n",
              "      <th>325</th>\n",
              "      <td>105.0</td>\n",
              "      <td>1.0</td>\n",
              "    </tr>\n",
              "    <tr>\n",
              "      <th>258</th>\n",
              "      <td>144.6</td>\n",
              "      <td>1.5</td>\n",
              "    </tr>\n",
              "    <tr>\n",
              "      <th>244</th>\n",
              "      <td>167.6</td>\n",
              "      <td>1.0</td>\n",
              "    </tr>\n",
              "    <tr>\n",
              "      <th>608</th>\n",
              "      <td>171.8</td>\n",
              "      <td>1.0</td>\n",
              "    </tr>\n",
              "    <tr>\n",
              "      <th>577</th>\n",
              "      <td>176.9</td>\n",
              "      <td>2.0</td>\n",
              "    </tr>\n",
              "  </tbody>\n",
              "</table>\n",
              "</div>"
            ],
            "text/plain": [
              "     TOTAL VALUE   FLOORS \n",
              "325         105.0      1.0\n",
              "258         144.6      1.5\n",
              "244         167.6      1.0\n",
              "608         171.8      1.0\n",
              "577         176.9      2.0"
            ]
          },
          "metadata": {
            "tags": []
          },
          "execution_count": 20
        }
      ]
    },
    {
      "cell_type": "code",
      "metadata": {
        "id": "6h3CuQDwLm0N",
        "colab_type": "code",
        "colab": {
          "base_uri": "https://localhost:8080/",
          "height": 206
        },
        "outputId": "42c23b82-b71e-4cc9-fca8-7ab7234cb63f"
      },
      "source": [
        "housing_df[['TOTAL VALUE ', 'FLOORS ']].sort_values('TOTAL VALUE ', ascending = False)[0:5]"
      ],
      "execution_count": null,
      "outputs": [
        {
          "output_type": "execute_result",
          "data": {
            "text/html": [
              "<div>\n",
              "<style scoped>\n",
              "    .dataframe tbody tr th:only-of-type {\n",
              "        vertical-align: middle;\n",
              "    }\n",
              "\n",
              "    .dataframe tbody tr th {\n",
              "        vertical-align: top;\n",
              "    }\n",
              "\n",
              "    .dataframe thead th {\n",
              "        text-align: right;\n",
              "    }\n",
              "</style>\n",
              "<table border=\"1\" class=\"dataframe\">\n",
              "  <thead>\n",
              "    <tr style=\"text-align: right;\">\n",
              "      <th></th>\n",
              "      <th>TOTAL VALUE</th>\n",
              "      <th>FLOORS</th>\n",
              "    </tr>\n",
              "  </thead>\n",
              "  <tbody>\n",
              "    <tr>\n",
              "      <th>4571</th>\n",
              "      <td>1217.8</td>\n",
              "      <td>2.0</td>\n",
              "    </tr>\n",
              "    <tr>\n",
              "      <th>4179</th>\n",
              "      <td>1009.9</td>\n",
              "      <td>2.0</td>\n",
              "    </tr>\n",
              "    <tr>\n",
              "      <th>4151</th>\n",
              "      <td>996.9</td>\n",
              "      <td>2.0</td>\n",
              "    </tr>\n",
              "    <tr>\n",
              "      <th>3804</th>\n",
              "      <td>936.0</td>\n",
              "      <td>2.0</td>\n",
              "    </tr>\n",
              "    <tr>\n",
              "      <th>2118</th>\n",
              "      <td>935.1</td>\n",
              "      <td>1.0</td>\n",
              "    </tr>\n",
              "  </tbody>\n",
              "</table>\n",
              "</div>"
            ],
            "text/plain": [
              "      TOTAL VALUE   FLOORS \n",
              "4571        1217.8      2.0\n",
              "4179        1009.9      2.0\n",
              "4151         996.9      2.0\n",
              "3804         936.0      2.0\n",
              "2118         935.1      1.0"
            ]
          },
          "metadata": {
            "tags": []
          },
          "execution_count": 21
        }
      ]
    },
    {
      "cell_type": "markdown",
      "metadata": {
        "id": "JIXXu18QLvbf",
        "colab_type": "text"
      },
      "source": [
        "# Creating New Columns"
      ]
    },
    {
      "cell_type": "code",
      "metadata": {
        "id": "tJxZRH1gLxTq",
        "colab_type": "code",
        "colab": {
          "base_uri": "https://localhost:8080/",
          "height": 206
        },
        "outputId": "c2579842-51cd-4157-d341-35c8c3dbac70"
      },
      "source": [
        "housing_df['PRICE'] = housing_df['TOTAL VALUE '] + housing_df['TAX']/1000\n",
        "housing_df[['TOTAL VALUE ', 'TAX', 'PRICE']][0:5]"
      ],
      "execution_count": null,
      "outputs": [
        {
          "output_type": "execute_result",
          "data": {
            "text/html": [
              "<div>\n",
              "<style scoped>\n",
              "    .dataframe tbody tr th:only-of-type {\n",
              "        vertical-align: middle;\n",
              "    }\n",
              "\n",
              "    .dataframe tbody tr th {\n",
              "        vertical-align: top;\n",
              "    }\n",
              "\n",
              "    .dataframe thead th {\n",
              "        text-align: right;\n",
              "    }\n",
              "</style>\n",
              "<table border=\"1\" class=\"dataframe\">\n",
              "  <thead>\n",
              "    <tr style=\"text-align: right;\">\n",
              "      <th></th>\n",
              "      <th>TOTAL VALUE</th>\n",
              "      <th>TAX</th>\n",
              "      <th>PRICE</th>\n",
              "    </tr>\n",
              "  </thead>\n",
              "  <tbody>\n",
              "    <tr>\n",
              "      <th>0</th>\n",
              "      <td>344.2</td>\n",
              "      <td>4330</td>\n",
              "      <td>348.530</td>\n",
              "    </tr>\n",
              "    <tr>\n",
              "      <th>1</th>\n",
              "      <td>412.6</td>\n",
              "      <td>5190</td>\n",
              "      <td>417.790</td>\n",
              "    </tr>\n",
              "    <tr>\n",
              "      <th>2</th>\n",
              "      <td>330.1</td>\n",
              "      <td>4152</td>\n",
              "      <td>334.252</td>\n",
              "    </tr>\n",
              "    <tr>\n",
              "      <th>3</th>\n",
              "      <td>498.6</td>\n",
              "      <td>6272</td>\n",
              "      <td>504.872</td>\n",
              "    </tr>\n",
              "    <tr>\n",
              "      <th>4</th>\n",
              "      <td>331.5</td>\n",
              "      <td>4170</td>\n",
              "      <td>335.670</td>\n",
              "    </tr>\n",
              "  </tbody>\n",
              "</table>\n",
              "</div>"
            ],
            "text/plain": [
              "   TOTAL VALUE    TAX    PRICE\n",
              "0         344.2  4330  348.530\n",
              "1         412.6  5190  417.790\n",
              "2         330.1  4152  334.252\n",
              "3         498.6  6272  504.872\n",
              "4         331.5  4170  335.670"
            ]
          },
          "metadata": {
            "tags": []
          },
          "execution_count": 22
        }
      ]
    },
    {
      "cell_type": "code",
      "metadata": {
        "id": "lNbF2kXMUut0",
        "colab_type": "code",
        "colab": {
          "base_uri": "https://localhost:8080/",
          "height": 206
        },
        "outputId": "c02196d6-dbbc-4821-b754-8d9e9dace9d7"
      },
      "source": [
        "housing_df[['TOTAL VALUE ', 'TAX', 'PRICE']].sort_values('PRICE', ascending = False)[0:5]"
      ],
      "execution_count": null,
      "outputs": [
        {
          "output_type": "execute_result",
          "data": {
            "text/html": [
              "<div>\n",
              "<style scoped>\n",
              "    .dataframe tbody tr th:only-of-type {\n",
              "        vertical-align: middle;\n",
              "    }\n",
              "\n",
              "    .dataframe tbody tr th {\n",
              "        vertical-align: top;\n",
              "    }\n",
              "\n",
              "    .dataframe thead th {\n",
              "        text-align: right;\n",
              "    }\n",
              "</style>\n",
              "<table border=\"1\" class=\"dataframe\">\n",
              "  <thead>\n",
              "    <tr style=\"text-align: right;\">\n",
              "      <th></th>\n",
              "      <th>TOTAL VALUE</th>\n",
              "      <th>TAX</th>\n",
              "      <th>PRICE</th>\n",
              "    </tr>\n",
              "  </thead>\n",
              "  <tbody>\n",
              "    <tr>\n",
              "      <th>4571</th>\n",
              "      <td>1217.8</td>\n",
              "      <td>15319</td>\n",
              "      <td>1233.119</td>\n",
              "    </tr>\n",
              "    <tr>\n",
              "      <th>4179</th>\n",
              "      <td>1009.9</td>\n",
              "      <td>12704</td>\n",
              "      <td>1022.604</td>\n",
              "    </tr>\n",
              "    <tr>\n",
              "      <th>4151</th>\n",
              "      <td>996.9</td>\n",
              "      <td>12541</td>\n",
              "      <td>1009.441</td>\n",
              "    </tr>\n",
              "    <tr>\n",
              "      <th>3804</th>\n",
              "      <td>936.0</td>\n",
              "      <td>11774</td>\n",
              "      <td>947.774</td>\n",
              "    </tr>\n",
              "    <tr>\n",
              "      <th>2118</th>\n",
              "      <td>935.1</td>\n",
              "      <td>11763</td>\n",
              "      <td>946.863</td>\n",
              "    </tr>\n",
              "  </tbody>\n",
              "</table>\n",
              "</div>"
            ],
            "text/plain": [
              "      TOTAL VALUE     TAX     PRICE\n",
              "4571        1217.8  15319  1233.119\n",
              "4179        1009.9  12704  1022.604\n",
              "4151         996.9  12541  1009.441\n",
              "3804         936.0  11774   947.774\n",
              "2118         935.1  11763   946.863"
            ]
          },
          "metadata": {
            "tags": []
          },
          "execution_count": 23
        }
      ]
    },
    {
      "cell_type": "markdown",
      "metadata": {
        "id": "qGfAceJiU98E",
        "colab_type": "text"
      },
      "source": [
        "# Grouping and Aggregating"
      ]
    },
    {
      "cell_type": "code",
      "metadata": {
        "id": "eg4Ims8lU_-4",
        "colab_type": "code",
        "colab": {
          "base_uri": "https://localhost:8080/",
          "height": 35
        },
        "outputId": "6ae0e67b-d455-4b59-a29f-5a51593e88fc"
      },
      "source": [
        "housing_df['TOTAL VALUE '].mean()"
      ],
      "execution_count": null,
      "outputs": [
        {
          "output_type": "execute_result",
          "data": {
            "text/plain": [
              "392.6857149258885"
            ]
          },
          "metadata": {
            "tags": []
          },
          "execution_count": 24
        }
      ]
    },
    {
      "cell_type": "code",
      "metadata": {
        "id": "1PYsV13ymlsY",
        "colab_type": "code",
        "colab": {
          "base_uri": "https://localhost:8080/",
          "height": 142
        },
        "outputId": "27e96491-69b1-419e-9f2e-9beba0e00425"
      },
      "source": [
        "housing_df.groupby('FLOORS ')['TOTAL VALUE '].mean()"
      ],
      "execution_count": null,
      "outputs": [
        {
          "output_type": "execute_result",
          "data": {
            "text/plain": [
              "FLOORS \n",
              "1.0    327.849269\n",
              "1.5    350.208779\n",
              "2.0    425.663611\n",
              "2.5    555.396686\n",
              "3.0    570.025000\n",
              "Name: TOTAL VALUE , dtype: float64"
            ]
          },
          "metadata": {
            "tags": []
          },
          "execution_count": 25
        }
      ]
    },
    {
      "cell_type": "code",
      "metadata": {
        "id": "0UXt-KpvnLAw",
        "colab_type": "code",
        "colab": {
          "base_uri": "https://localhost:8080/",
          "height": 321
        },
        "outputId": "a017bf7e-3c91-4bc0-e448-d254079ce274"
      },
      "source": [
        "housing_df.groupby(['FLOORS ', 'REMODEL'])['TOTAL VALUE '].mean()"
      ],
      "execution_count": null,
      "outputs": [
        {
          "output_type": "execute_result",
          "data": {
            "text/plain": [
              "FLOORS   REMODEL\n",
              "1.0      None       323.045104\n",
              "         Old        329.477679\n",
              "         Recent     367.329592\n",
              "1.5      None       339.932536\n",
              "         Old        359.384382\n",
              "         Recent     390.031903\n",
              "2.0      None       414.410694\n",
              "         Old        432.278186\n",
              "         Recent     471.110241\n",
              "2.5      None       549.011500\n",
              "         Old        546.733333\n",
              "         Recent     567.253846\n",
              "3.0      None       595.200000\n",
              "         Old        576.100000\n",
              "         Recent     513.600000\n",
              "Name: TOTAL VALUE , dtype: float64"
            ]
          },
          "metadata": {
            "tags": []
          },
          "execution_count": 26
        }
      ]
    },
    {
      "cell_type": "markdown",
      "metadata": {
        "id": "d5prSSsDnWjJ",
        "colab_type": "text"
      },
      "source": [
        "# Joining DataFrames"
      ]
    },
    {
      "cell_type": "code",
      "metadata": {
        "id": "im_th4SVpeSC",
        "colab_type": "code",
        "colab": {
          "base_uri": "https://localhost:8080/",
          "height": 206
        },
        "outputId": "3763e6d1-bf92-4c78-84d5-34c00808479b"
      },
      "source": [
        "# reset_index() is a method to reset index of a DataFrame. \n",
        "value_by_floors = housing_df.groupby('FLOORS ')['TOTAL VALUE '].mean().reset_index()\n",
        "value_by_floors"
      ],
      "execution_count": null,
      "outputs": [
        {
          "output_type": "execute_result",
          "data": {
            "text/html": [
              "<div>\n",
              "<style scoped>\n",
              "    .dataframe tbody tr th:only-of-type {\n",
              "        vertical-align: middle;\n",
              "    }\n",
              "\n",
              "    .dataframe tbody tr th {\n",
              "        vertical-align: top;\n",
              "    }\n",
              "\n",
              "    .dataframe thead th {\n",
              "        text-align: right;\n",
              "    }\n",
              "</style>\n",
              "<table border=\"1\" class=\"dataframe\">\n",
              "  <thead>\n",
              "    <tr style=\"text-align: right;\">\n",
              "      <th></th>\n",
              "      <th>FLOORS</th>\n",
              "      <th>TOTAL VALUE</th>\n",
              "    </tr>\n",
              "  </thead>\n",
              "  <tbody>\n",
              "    <tr>\n",
              "      <th>0</th>\n",
              "      <td>1.0</td>\n",
              "      <td>327.849269</td>\n",
              "    </tr>\n",
              "    <tr>\n",
              "      <th>1</th>\n",
              "      <td>1.5</td>\n",
              "      <td>350.208779</td>\n",
              "    </tr>\n",
              "    <tr>\n",
              "      <th>2</th>\n",
              "      <td>2.0</td>\n",
              "      <td>425.663611</td>\n",
              "    </tr>\n",
              "    <tr>\n",
              "      <th>3</th>\n",
              "      <td>2.5</td>\n",
              "      <td>555.396686</td>\n",
              "    </tr>\n",
              "    <tr>\n",
              "      <th>4</th>\n",
              "      <td>3.0</td>\n",
              "      <td>570.025000</td>\n",
              "    </tr>\n",
              "  </tbody>\n",
              "</table>\n",
              "</div>"
            ],
            "text/plain": [
              "   FLOORS   TOTAL VALUE \n",
              "0      1.0    327.849269\n",
              "1      1.5    350.208779\n",
              "2      2.0    425.663611\n",
              "3      2.5    555.396686\n",
              "4      3.0    570.025000"
            ]
          },
          "metadata": {
            "tags": []
          },
          "execution_count": 27
        }
      ]
    },
    {
      "cell_type": "code",
      "metadata": {
        "id": "jx2H6PZ1APew",
        "colab_type": "code",
        "colab": {
          "base_uri": "https://localhost:8080/",
          "height": 520
        },
        "outputId": "4478287e-4755-4f59-84aa-9803f74f29de"
      },
      "source": [
        "value_by_floors_remodel = housing_df.groupby(['FLOORS ', 'REMODEL'])['TOTAL VALUE '].mean().reset_index()\n",
        "value_by_floors_remodel"
      ],
      "execution_count": null,
      "outputs": [
        {
          "output_type": "execute_result",
          "data": {
            "text/html": [
              "<div>\n",
              "<style scoped>\n",
              "    .dataframe tbody tr th:only-of-type {\n",
              "        vertical-align: middle;\n",
              "    }\n",
              "\n",
              "    .dataframe tbody tr th {\n",
              "        vertical-align: top;\n",
              "    }\n",
              "\n",
              "    .dataframe thead th {\n",
              "        text-align: right;\n",
              "    }\n",
              "</style>\n",
              "<table border=\"1\" class=\"dataframe\">\n",
              "  <thead>\n",
              "    <tr style=\"text-align: right;\">\n",
              "      <th></th>\n",
              "      <th>FLOORS</th>\n",
              "      <th>REMODEL</th>\n",
              "      <th>TOTAL VALUE</th>\n",
              "    </tr>\n",
              "  </thead>\n",
              "  <tbody>\n",
              "    <tr>\n",
              "      <th>0</th>\n",
              "      <td>1.0</td>\n",
              "      <td>None</td>\n",
              "      <td>323.045104</td>\n",
              "    </tr>\n",
              "    <tr>\n",
              "      <th>1</th>\n",
              "      <td>1.0</td>\n",
              "      <td>Old</td>\n",
              "      <td>329.477679</td>\n",
              "    </tr>\n",
              "    <tr>\n",
              "      <th>2</th>\n",
              "      <td>1.0</td>\n",
              "      <td>Recent</td>\n",
              "      <td>367.329592</td>\n",
              "    </tr>\n",
              "    <tr>\n",
              "      <th>3</th>\n",
              "      <td>1.5</td>\n",
              "      <td>None</td>\n",
              "      <td>339.932536</td>\n",
              "    </tr>\n",
              "    <tr>\n",
              "      <th>4</th>\n",
              "      <td>1.5</td>\n",
              "      <td>Old</td>\n",
              "      <td>359.384382</td>\n",
              "    </tr>\n",
              "    <tr>\n",
              "      <th>5</th>\n",
              "      <td>1.5</td>\n",
              "      <td>Recent</td>\n",
              "      <td>390.031903</td>\n",
              "    </tr>\n",
              "    <tr>\n",
              "      <th>6</th>\n",
              "      <td>2.0</td>\n",
              "      <td>None</td>\n",
              "      <td>414.410694</td>\n",
              "    </tr>\n",
              "    <tr>\n",
              "      <th>7</th>\n",
              "      <td>2.0</td>\n",
              "      <td>Old</td>\n",
              "      <td>432.278186</td>\n",
              "    </tr>\n",
              "    <tr>\n",
              "      <th>8</th>\n",
              "      <td>2.0</td>\n",
              "      <td>Recent</td>\n",
              "      <td>471.110241</td>\n",
              "    </tr>\n",
              "    <tr>\n",
              "      <th>9</th>\n",
              "      <td>2.5</td>\n",
              "      <td>None</td>\n",
              "      <td>549.011500</td>\n",
              "    </tr>\n",
              "    <tr>\n",
              "      <th>10</th>\n",
              "      <td>2.5</td>\n",
              "      <td>Old</td>\n",
              "      <td>546.733333</td>\n",
              "    </tr>\n",
              "    <tr>\n",
              "      <th>11</th>\n",
              "      <td>2.5</td>\n",
              "      <td>Recent</td>\n",
              "      <td>567.253846</td>\n",
              "    </tr>\n",
              "    <tr>\n",
              "      <th>12</th>\n",
              "      <td>3.0</td>\n",
              "      <td>None</td>\n",
              "      <td>595.200000</td>\n",
              "    </tr>\n",
              "    <tr>\n",
              "      <th>13</th>\n",
              "      <td>3.0</td>\n",
              "      <td>Old</td>\n",
              "      <td>576.100000</td>\n",
              "    </tr>\n",
              "    <tr>\n",
              "      <th>14</th>\n",
              "      <td>3.0</td>\n",
              "      <td>Recent</td>\n",
              "      <td>513.600000</td>\n",
              "    </tr>\n",
              "  </tbody>\n",
              "</table>\n",
              "</div>"
            ],
            "text/plain": [
              "    FLOORS  REMODEL  TOTAL VALUE \n",
              "0       1.0    None    323.045104\n",
              "1       1.0     Old    329.477679\n",
              "2       1.0  Recent    367.329592\n",
              "3       1.5    None    339.932536\n",
              "4       1.5     Old    359.384382\n",
              "5       1.5  Recent    390.031903\n",
              "6       2.0    None    414.410694\n",
              "7       2.0     Old    432.278186\n",
              "8       2.0  Recent    471.110241\n",
              "9       2.5    None    549.011500\n",
              "10      2.5     Old    546.733333\n",
              "11      2.5  Recent    567.253846\n",
              "12      3.0    None    595.200000\n",
              "13      3.0     Old    576.100000\n",
              "14      3.0  Recent    513.600000"
            ]
          },
          "metadata": {
            "tags": []
          },
          "execution_count": 28
        }
      ]
    },
    {
      "cell_type": "code",
      "metadata": {
        "id": "baHM84uvpyuK",
        "colab_type": "code",
        "colab": {
          "base_uri": "https://localhost:8080/",
          "height": 520
        },
        "outputId": "1a129780-e6f9-43fb-92a9-29722efe4b56"
      },
      "source": [
        "# The join type can be of inner, outer, left or right joins and should be specifed in the how parameter.\n",
        "# For understanding diﬀerent joins, please refer to the examples given at https://www.w3schools.com/sql/sql_join.asp\n",
        "value_comparison = value_by_floors_remodel.merge(value_by_floors, on = 'FLOORS ', how = 'outer')\n",
        "value_comparison"
      ],
      "execution_count": null,
      "outputs": [
        {
          "output_type": "execute_result",
          "data": {
            "text/html": [
              "<div>\n",
              "<style scoped>\n",
              "    .dataframe tbody tr th:only-of-type {\n",
              "        vertical-align: middle;\n",
              "    }\n",
              "\n",
              "    .dataframe tbody tr th {\n",
              "        vertical-align: top;\n",
              "    }\n",
              "\n",
              "    .dataframe thead th {\n",
              "        text-align: right;\n",
              "    }\n",
              "</style>\n",
              "<table border=\"1\" class=\"dataframe\">\n",
              "  <thead>\n",
              "    <tr style=\"text-align: right;\">\n",
              "      <th></th>\n",
              "      <th>FLOORS</th>\n",
              "      <th>REMODEL</th>\n",
              "      <th>TOTAL VALUE _x</th>\n",
              "      <th>TOTAL VALUE _y</th>\n",
              "    </tr>\n",
              "  </thead>\n",
              "  <tbody>\n",
              "    <tr>\n",
              "      <th>0</th>\n",
              "      <td>1.0</td>\n",
              "      <td>None</td>\n",
              "      <td>323.045104</td>\n",
              "      <td>327.849269</td>\n",
              "    </tr>\n",
              "    <tr>\n",
              "      <th>1</th>\n",
              "      <td>1.0</td>\n",
              "      <td>Old</td>\n",
              "      <td>329.477679</td>\n",
              "      <td>327.849269</td>\n",
              "    </tr>\n",
              "    <tr>\n",
              "      <th>2</th>\n",
              "      <td>1.0</td>\n",
              "      <td>Recent</td>\n",
              "      <td>367.329592</td>\n",
              "      <td>327.849269</td>\n",
              "    </tr>\n",
              "    <tr>\n",
              "      <th>3</th>\n",
              "      <td>1.5</td>\n",
              "      <td>None</td>\n",
              "      <td>339.932536</td>\n",
              "      <td>350.208779</td>\n",
              "    </tr>\n",
              "    <tr>\n",
              "      <th>4</th>\n",
              "      <td>1.5</td>\n",
              "      <td>Old</td>\n",
              "      <td>359.384382</td>\n",
              "      <td>350.208779</td>\n",
              "    </tr>\n",
              "    <tr>\n",
              "      <th>5</th>\n",
              "      <td>1.5</td>\n",
              "      <td>Recent</td>\n",
              "      <td>390.031903</td>\n",
              "      <td>350.208779</td>\n",
              "    </tr>\n",
              "    <tr>\n",
              "      <th>6</th>\n",
              "      <td>2.0</td>\n",
              "      <td>None</td>\n",
              "      <td>414.410694</td>\n",
              "      <td>425.663611</td>\n",
              "    </tr>\n",
              "    <tr>\n",
              "      <th>7</th>\n",
              "      <td>2.0</td>\n",
              "      <td>Old</td>\n",
              "      <td>432.278186</td>\n",
              "      <td>425.663611</td>\n",
              "    </tr>\n",
              "    <tr>\n",
              "      <th>8</th>\n",
              "      <td>2.0</td>\n",
              "      <td>Recent</td>\n",
              "      <td>471.110241</td>\n",
              "      <td>425.663611</td>\n",
              "    </tr>\n",
              "    <tr>\n",
              "      <th>9</th>\n",
              "      <td>2.5</td>\n",
              "      <td>None</td>\n",
              "      <td>549.011500</td>\n",
              "      <td>555.396686</td>\n",
              "    </tr>\n",
              "    <tr>\n",
              "      <th>10</th>\n",
              "      <td>2.5</td>\n",
              "      <td>Old</td>\n",
              "      <td>546.733333</td>\n",
              "      <td>555.396686</td>\n",
              "    </tr>\n",
              "    <tr>\n",
              "      <th>11</th>\n",
              "      <td>2.5</td>\n",
              "      <td>Recent</td>\n",
              "      <td>567.253846</td>\n",
              "      <td>555.396686</td>\n",
              "    </tr>\n",
              "    <tr>\n",
              "      <th>12</th>\n",
              "      <td>3.0</td>\n",
              "      <td>None</td>\n",
              "      <td>595.200000</td>\n",
              "      <td>570.025000</td>\n",
              "    </tr>\n",
              "    <tr>\n",
              "      <th>13</th>\n",
              "      <td>3.0</td>\n",
              "      <td>Old</td>\n",
              "      <td>576.100000</td>\n",
              "      <td>570.025000</td>\n",
              "    </tr>\n",
              "    <tr>\n",
              "      <th>14</th>\n",
              "      <td>3.0</td>\n",
              "      <td>Recent</td>\n",
              "      <td>513.600000</td>\n",
              "      <td>570.025000</td>\n",
              "    </tr>\n",
              "  </tbody>\n",
              "</table>\n",
              "</div>"
            ],
            "text/plain": [
              "    FLOORS  REMODEL  TOTAL VALUE _x  TOTAL VALUE _y\n",
              "0       1.0    None      323.045104      327.849269\n",
              "1       1.0     Old      329.477679      327.849269\n",
              "2       1.0  Recent      367.329592      327.849269\n",
              "3       1.5    None      339.932536      350.208779\n",
              "4       1.5     Old      359.384382      350.208779\n",
              "5       1.5  Recent      390.031903      350.208779\n",
              "6       2.0    None      414.410694      425.663611\n",
              "7       2.0     Old      432.278186      425.663611\n",
              "8       2.0  Recent      471.110241      425.663611\n",
              "9       2.5    None      549.011500      555.396686\n",
              "10      2.5     Old      546.733333      555.396686\n",
              "11      2.5  Recent      567.253846      555.396686\n",
              "12      3.0    None      595.200000      570.025000\n",
              "13      3.0     Old      576.100000      570.025000\n",
              "14      3.0  Recent      513.600000      570.025000"
            ]
          },
          "metadata": {
            "tags": []
          },
          "execution_count": 29
        }
      ]
    },
    {
      "cell_type": "markdown",
      "metadata": {
        "id": "18b5NqxYstLu",
        "colab_type": "text"
      },
      "source": [
        "# Re-naming Columns"
      ]
    },
    {
      "cell_type": "code",
      "metadata": {
        "id": "1KQ3NW7Wsv8y",
        "colab_type": "code",
        "colab": {
          "base_uri": "https://localhost:8080/",
          "height": 206
        },
        "outputId": "5c16576e-b01c-4d06-92e8-cb4d6b1460cf"
      },
      "source": [
        "value_comparison.rename(columns = {'TOTAL VALUE _x': 'VALUE_FLOORS_REMODEL',\n",
        "'TOTAL VALUE _y': 'VALUE_FLOORS'}, inplace = True)\n",
        "value_comparison.head(5)"
      ],
      "execution_count": null,
      "outputs": [
        {
          "output_type": "execute_result",
          "data": {
            "text/html": [
              "<div>\n",
              "<style scoped>\n",
              "    .dataframe tbody tr th:only-of-type {\n",
              "        vertical-align: middle;\n",
              "    }\n",
              "\n",
              "    .dataframe tbody tr th {\n",
              "        vertical-align: top;\n",
              "    }\n",
              "\n",
              "    .dataframe thead th {\n",
              "        text-align: right;\n",
              "    }\n",
              "</style>\n",
              "<table border=\"1\" class=\"dataframe\">\n",
              "  <thead>\n",
              "    <tr style=\"text-align: right;\">\n",
              "      <th></th>\n",
              "      <th>FLOORS</th>\n",
              "      <th>REMODEL</th>\n",
              "      <th>VALUE_FLOORS_REMODEL</th>\n",
              "      <th>VALUE_FLOORS</th>\n",
              "    </tr>\n",
              "  </thead>\n",
              "  <tbody>\n",
              "    <tr>\n",
              "      <th>0</th>\n",
              "      <td>1.0</td>\n",
              "      <td>None</td>\n",
              "      <td>323.045104</td>\n",
              "      <td>327.849269</td>\n",
              "    </tr>\n",
              "    <tr>\n",
              "      <th>1</th>\n",
              "      <td>1.0</td>\n",
              "      <td>Old</td>\n",
              "      <td>329.477679</td>\n",
              "      <td>327.849269</td>\n",
              "    </tr>\n",
              "    <tr>\n",
              "      <th>2</th>\n",
              "      <td>1.0</td>\n",
              "      <td>Recent</td>\n",
              "      <td>367.329592</td>\n",
              "      <td>327.849269</td>\n",
              "    </tr>\n",
              "    <tr>\n",
              "      <th>3</th>\n",
              "      <td>1.5</td>\n",
              "      <td>None</td>\n",
              "      <td>339.932536</td>\n",
              "      <td>350.208779</td>\n",
              "    </tr>\n",
              "    <tr>\n",
              "      <th>4</th>\n",
              "      <td>1.5</td>\n",
              "      <td>Old</td>\n",
              "      <td>359.384382</td>\n",
              "      <td>350.208779</td>\n",
              "    </tr>\n",
              "  </tbody>\n",
              "</table>\n",
              "</div>"
            ],
            "text/plain": [
              "   FLOORS  REMODEL  VALUE_FLOORS_REMODEL  VALUE_FLOORS\n",
              "0      1.0    None            323.045104    327.849269\n",
              "1      1.0     Old            329.477679    327.849269\n",
              "2      1.0  Recent            367.329592    327.849269\n",
              "3      1.5    None            339.932536    350.208779\n",
              "4      1.5     Old            359.384382    350.208779"
            ]
          },
          "metadata": {
            "tags": []
          },
          "execution_count": 30
        }
      ]
    },
    {
      "cell_type": "code",
      "metadata": {
        "id": "Equrfg8buvYP",
        "colab_type": "code",
        "colab": {
          "base_uri": "https://localhost:8080/",
          "height": 206
        },
        "outputId": "b608fe8b-ec25-4209-b0de-a77349e545da"
      },
      "source": [
        "value_comparison['CHANGE'] = (value_comparison['VALUE_FLOORS_REMODEL'] - value_comparison['VALUE_FLOORS']) / value_comparison['VALUE_FLOORS']\n",
        "value_comparison.head(5)"
      ],
      "execution_count": null,
      "outputs": [
        {
          "output_type": "execute_result",
          "data": {
            "text/html": [
              "<div>\n",
              "<style scoped>\n",
              "    .dataframe tbody tr th:only-of-type {\n",
              "        vertical-align: middle;\n",
              "    }\n",
              "\n",
              "    .dataframe tbody tr th {\n",
              "        vertical-align: top;\n",
              "    }\n",
              "\n",
              "    .dataframe thead th {\n",
              "        text-align: right;\n",
              "    }\n",
              "</style>\n",
              "<table border=\"1\" class=\"dataframe\">\n",
              "  <thead>\n",
              "    <tr style=\"text-align: right;\">\n",
              "      <th></th>\n",
              "      <th>FLOORS</th>\n",
              "      <th>REMODEL</th>\n",
              "      <th>VALUE_FLOORS_REMODEL</th>\n",
              "      <th>VALUE_FLOORS</th>\n",
              "      <th>CHANGE</th>\n",
              "    </tr>\n",
              "  </thead>\n",
              "  <tbody>\n",
              "    <tr>\n",
              "      <th>0</th>\n",
              "      <td>1.0</td>\n",
              "      <td>None</td>\n",
              "      <td>323.045104</td>\n",
              "      <td>327.849269</td>\n",
              "      <td>-0.014654</td>\n",
              "    </tr>\n",
              "    <tr>\n",
              "      <th>1</th>\n",
              "      <td>1.0</td>\n",
              "      <td>Old</td>\n",
              "      <td>329.477679</td>\n",
              "      <td>327.849269</td>\n",
              "      <td>0.004967</td>\n",
              "    </tr>\n",
              "    <tr>\n",
              "      <th>2</th>\n",
              "      <td>1.0</td>\n",
              "      <td>Recent</td>\n",
              "      <td>367.329592</td>\n",
              "      <td>327.849269</td>\n",
              "      <td>0.120422</td>\n",
              "    </tr>\n",
              "    <tr>\n",
              "      <th>3</th>\n",
              "      <td>1.5</td>\n",
              "      <td>None</td>\n",
              "      <td>339.932536</td>\n",
              "      <td>350.208779</td>\n",
              "      <td>-0.029343</td>\n",
              "    </tr>\n",
              "    <tr>\n",
              "      <th>4</th>\n",
              "      <td>1.5</td>\n",
              "      <td>Old</td>\n",
              "      <td>359.384382</td>\n",
              "      <td>350.208779</td>\n",
              "      <td>0.026200</td>\n",
              "    </tr>\n",
              "  </tbody>\n",
              "</table>\n",
              "</div>"
            ],
            "text/plain": [
              "   FLOORS  REMODEL  VALUE_FLOORS_REMODEL  VALUE_FLOORS    CHANGE\n",
              "0      1.0    None            323.045104    327.849269 -0.014654\n",
              "1      1.0     Old            329.477679    327.849269  0.004967\n",
              "2      1.0  Recent            367.329592    327.849269  0.120422\n",
              "3      1.5    None            339.932536    350.208779 -0.029343\n",
              "4      1.5     Old            359.384382    350.208779  0.026200"
            ]
          },
          "metadata": {
            "tags": []
          },
          "execution_count": 31
        }
      ]
    },
    {
      "cell_type": "markdown",
      "metadata": {
        "id": "GVGR1FK1xEQf",
        "colab_type": "text"
      },
      "source": [
        "# Filtering Records from DataFrame Based on Conditions"
      ]
    },
    {
      "cell_type": "code",
      "metadata": {
        "id": "ebwHr_zExHgo",
        "colab_type": "code",
        "colab": {
          "base_uri": "https://localhost:8080/",
          "height": 175
        },
        "outputId": "e5885806-cd46-4f07-f403-b4e8dcf7385c"
      },
      "source": [
        "housing_df[housing_df['FLOORS '] == 3][['TOTAL VALUE ', 'REMODEL']]"
      ],
      "execution_count": null,
      "outputs": [
        {
          "output_type": "execute_result",
          "data": {
            "text/html": [
              "<div>\n",
              "<style scoped>\n",
              "    .dataframe tbody tr th:only-of-type {\n",
              "        vertical-align: middle;\n",
              "    }\n",
              "\n",
              "    .dataframe tbody tr th {\n",
              "        vertical-align: top;\n",
              "    }\n",
              "\n",
              "    .dataframe thead th {\n",
              "        text-align: right;\n",
              "    }\n",
              "</style>\n",
              "<table border=\"1\" class=\"dataframe\">\n",
              "  <thead>\n",
              "    <tr style=\"text-align: right;\">\n",
              "      <th></th>\n",
              "      <th>TOTAL VALUE</th>\n",
              "      <th>REMODEL</th>\n",
              "    </tr>\n",
              "  </thead>\n",
              "  <tbody>\n",
              "    <tr>\n",
              "      <th>2475</th>\n",
              "      <td>663.2</td>\n",
              "      <td>None</td>\n",
              "    </tr>\n",
              "    <tr>\n",
              "      <th>3871</th>\n",
              "      <td>576.1</td>\n",
              "      <td>Old</td>\n",
              "    </tr>\n",
              "    <tr>\n",
              "      <th>3973</th>\n",
              "      <td>527.2</td>\n",
              "      <td>None</td>\n",
              "    </tr>\n",
              "    <tr>\n",
              "      <th>4290</th>\n",
              "      <td>513.6</td>\n",
              "      <td>Recent</td>\n",
              "    </tr>\n",
              "  </tbody>\n",
              "</table>\n",
              "</div>"
            ],
            "text/plain": [
              "      TOTAL VALUE  REMODEL\n",
              "2475         663.2    None\n",
              "3871         576.1     Old\n",
              "3973         527.2    None\n",
              "4290         513.6  Recent"
            ]
          },
          "metadata": {
            "tags": []
          },
          "execution_count": 32
        }
      ]
    },
    {
      "cell_type": "markdown",
      "metadata": {
        "id": "e0VcmRWZx2FX",
        "colab_type": "text"
      },
      "source": [
        "# Removing a Column/Row"
      ]
    },
    {
      "cell_type": "code",
      "metadata": {
        "id": "2czZC7Kjx4Bm",
        "colab_type": "code",
        "colab": {}
      },
      "source": [
        "# To drop a column, pass the column name and axis as 1. To drop a row, pass the row index and axis as 0.\n",
        "# To avoid creating new DataFrames and make changes to the existing DataFrame, set inplace parameter to True.\n",
        "# housing_df.drop('TAX', inplace = True, axis = 1)\n",
        "housing_without_tax_df = housing_df.drop('TAX', axis = 1)"
      ],
      "execution_count": null,
      "outputs": []
    },
    {
      "cell_type": "code",
      "metadata": {
        "id": "dsnLiQjTyubr",
        "colab_type": "code",
        "colab": {
          "base_uri": "https://localhost:8080/",
          "height": 224
        },
        "outputId": "4af5b266-6976-4d74-967c-69e5624482db"
      },
      "source": [
        "housing_df.head(5)"
      ],
      "execution_count": null,
      "outputs": [
        {
          "output_type": "execute_result",
          "data": {
            "text/html": [
              "<div>\n",
              "<style scoped>\n",
              "    .dataframe tbody tr th:only-of-type {\n",
              "        vertical-align: middle;\n",
              "    }\n",
              "\n",
              "    .dataframe tbody tr th {\n",
              "        vertical-align: top;\n",
              "    }\n",
              "\n",
              "    .dataframe thead th {\n",
              "        text-align: right;\n",
              "    }\n",
              "</style>\n",
              "<table border=\"1\" class=\"dataframe\">\n",
              "  <thead>\n",
              "    <tr style=\"text-align: right;\">\n",
              "      <th></th>\n",
              "      <th>TOTAL VALUE</th>\n",
              "      <th>TAX</th>\n",
              "      <th>LOT SQFT</th>\n",
              "      <th>YR BUILT</th>\n",
              "      <th>GROSS AREA</th>\n",
              "      <th>LIVING AREA</th>\n",
              "      <th>FLOORS</th>\n",
              "      <th>ROOMS</th>\n",
              "      <th>BEDROOMS</th>\n",
              "      <th>FULL BATH</th>\n",
              "      <th>HALF BATH</th>\n",
              "      <th>KITCHEN</th>\n",
              "      <th>FIREPLACE</th>\n",
              "      <th>REMODEL</th>\n",
              "      <th>PRICE</th>\n",
              "    </tr>\n",
              "  </thead>\n",
              "  <tbody>\n",
              "    <tr>\n",
              "      <th>0</th>\n",
              "      <td>344.2</td>\n",
              "      <td>4330</td>\n",
              "      <td>9965</td>\n",
              "      <td>1880</td>\n",
              "      <td>2436</td>\n",
              "      <td>1352</td>\n",
              "      <td>2.0</td>\n",
              "      <td>6</td>\n",
              "      <td>3</td>\n",
              "      <td>1</td>\n",
              "      <td>1</td>\n",
              "      <td>1</td>\n",
              "      <td>0</td>\n",
              "      <td>None</td>\n",
              "      <td>348.530</td>\n",
              "    </tr>\n",
              "    <tr>\n",
              "      <th>1</th>\n",
              "      <td>412.6</td>\n",
              "      <td>5190</td>\n",
              "      <td>6590</td>\n",
              "      <td>1945</td>\n",
              "      <td>3108</td>\n",
              "      <td>1976</td>\n",
              "      <td>2.0</td>\n",
              "      <td>10</td>\n",
              "      <td>4</td>\n",
              "      <td>2</td>\n",
              "      <td>1</td>\n",
              "      <td>1</td>\n",
              "      <td>0</td>\n",
              "      <td>Recent</td>\n",
              "      <td>417.790</td>\n",
              "    </tr>\n",
              "    <tr>\n",
              "      <th>2</th>\n",
              "      <td>330.1</td>\n",
              "      <td>4152</td>\n",
              "      <td>7500</td>\n",
              "      <td>1890</td>\n",
              "      <td>2294</td>\n",
              "      <td>1371</td>\n",
              "      <td>2.0</td>\n",
              "      <td>8</td>\n",
              "      <td>4</td>\n",
              "      <td>1</td>\n",
              "      <td>1</td>\n",
              "      <td>1</td>\n",
              "      <td>0</td>\n",
              "      <td>None</td>\n",
              "      <td>334.252</td>\n",
              "    </tr>\n",
              "    <tr>\n",
              "      <th>3</th>\n",
              "      <td>498.6</td>\n",
              "      <td>6272</td>\n",
              "      <td>13773</td>\n",
              "      <td>1957</td>\n",
              "      <td>5032</td>\n",
              "      <td>2608</td>\n",
              "      <td>1.0</td>\n",
              "      <td>9</td>\n",
              "      <td>5</td>\n",
              "      <td>1</td>\n",
              "      <td>1</td>\n",
              "      <td>1</td>\n",
              "      <td>1</td>\n",
              "      <td>None</td>\n",
              "      <td>504.872</td>\n",
              "    </tr>\n",
              "    <tr>\n",
              "      <th>4</th>\n",
              "      <td>331.5</td>\n",
              "      <td>4170</td>\n",
              "      <td>5000</td>\n",
              "      <td>1910</td>\n",
              "      <td>2370</td>\n",
              "      <td>1438</td>\n",
              "      <td>2.0</td>\n",
              "      <td>7</td>\n",
              "      <td>3</td>\n",
              "      <td>2</td>\n",
              "      <td>0</td>\n",
              "      <td>1</td>\n",
              "      <td>0</td>\n",
              "      <td>None</td>\n",
              "      <td>335.670</td>\n",
              "    </tr>\n",
              "  </tbody>\n",
              "</table>\n",
              "</div>"
            ],
            "text/plain": [
              "   TOTAL VALUE    TAX  LOT SQFT   YR BUILT  ...  KITCHEN  FIREPLACE  REMODEL    PRICE\n",
              "0         344.2  4330       9965      1880  ...        1          0     None  348.530\n",
              "1         412.6  5190       6590      1945  ...        1          0   Recent  417.790\n",
              "2         330.1  4152       7500      1890  ...        1          0     None  334.252\n",
              "3         498.6  6272      13773      1957  ...        1          1     None  504.872\n",
              "4         331.5  4170       5000      1910  ...        1          0     None  335.670\n",
              "\n",
              "[5 rows x 15 columns]"
            ]
          },
          "metadata": {
            "tags": []
          },
          "execution_count": 34
        }
      ]
    },
    {
      "cell_type": "code",
      "metadata": {
        "id": "d8v1nuQCzeTw",
        "colab_type": "code",
        "colab": {
          "base_uri": "https://localhost:8080/",
          "height": 224
        },
        "outputId": "c45234cb-073a-465f-c120-ea237c26ccea"
      },
      "source": [
        "housing_without_tax_df.head(5)"
      ],
      "execution_count": null,
      "outputs": [
        {
          "output_type": "execute_result",
          "data": {
            "text/html": [
              "<div>\n",
              "<style scoped>\n",
              "    .dataframe tbody tr th:only-of-type {\n",
              "        vertical-align: middle;\n",
              "    }\n",
              "\n",
              "    .dataframe tbody tr th {\n",
              "        vertical-align: top;\n",
              "    }\n",
              "\n",
              "    .dataframe thead th {\n",
              "        text-align: right;\n",
              "    }\n",
              "</style>\n",
              "<table border=\"1\" class=\"dataframe\">\n",
              "  <thead>\n",
              "    <tr style=\"text-align: right;\">\n",
              "      <th></th>\n",
              "      <th>TOTAL VALUE</th>\n",
              "      <th>LOT SQFT</th>\n",
              "      <th>YR BUILT</th>\n",
              "      <th>GROSS AREA</th>\n",
              "      <th>LIVING AREA</th>\n",
              "      <th>FLOORS</th>\n",
              "      <th>ROOMS</th>\n",
              "      <th>BEDROOMS</th>\n",
              "      <th>FULL BATH</th>\n",
              "      <th>HALF BATH</th>\n",
              "      <th>KITCHEN</th>\n",
              "      <th>FIREPLACE</th>\n",
              "      <th>REMODEL</th>\n",
              "      <th>PRICE</th>\n",
              "    </tr>\n",
              "  </thead>\n",
              "  <tbody>\n",
              "    <tr>\n",
              "      <th>0</th>\n",
              "      <td>344.2</td>\n",
              "      <td>9965</td>\n",
              "      <td>1880</td>\n",
              "      <td>2436</td>\n",
              "      <td>1352</td>\n",
              "      <td>2.0</td>\n",
              "      <td>6</td>\n",
              "      <td>3</td>\n",
              "      <td>1</td>\n",
              "      <td>1</td>\n",
              "      <td>1</td>\n",
              "      <td>0</td>\n",
              "      <td>None</td>\n",
              "      <td>348.530</td>\n",
              "    </tr>\n",
              "    <tr>\n",
              "      <th>1</th>\n",
              "      <td>412.6</td>\n",
              "      <td>6590</td>\n",
              "      <td>1945</td>\n",
              "      <td>3108</td>\n",
              "      <td>1976</td>\n",
              "      <td>2.0</td>\n",
              "      <td>10</td>\n",
              "      <td>4</td>\n",
              "      <td>2</td>\n",
              "      <td>1</td>\n",
              "      <td>1</td>\n",
              "      <td>0</td>\n",
              "      <td>Recent</td>\n",
              "      <td>417.790</td>\n",
              "    </tr>\n",
              "    <tr>\n",
              "      <th>2</th>\n",
              "      <td>330.1</td>\n",
              "      <td>7500</td>\n",
              "      <td>1890</td>\n",
              "      <td>2294</td>\n",
              "      <td>1371</td>\n",
              "      <td>2.0</td>\n",
              "      <td>8</td>\n",
              "      <td>4</td>\n",
              "      <td>1</td>\n",
              "      <td>1</td>\n",
              "      <td>1</td>\n",
              "      <td>0</td>\n",
              "      <td>None</td>\n",
              "      <td>334.252</td>\n",
              "    </tr>\n",
              "    <tr>\n",
              "      <th>3</th>\n",
              "      <td>498.6</td>\n",
              "      <td>13773</td>\n",
              "      <td>1957</td>\n",
              "      <td>5032</td>\n",
              "      <td>2608</td>\n",
              "      <td>1.0</td>\n",
              "      <td>9</td>\n",
              "      <td>5</td>\n",
              "      <td>1</td>\n",
              "      <td>1</td>\n",
              "      <td>1</td>\n",
              "      <td>1</td>\n",
              "      <td>None</td>\n",
              "      <td>504.872</td>\n",
              "    </tr>\n",
              "    <tr>\n",
              "      <th>4</th>\n",
              "      <td>331.5</td>\n",
              "      <td>5000</td>\n",
              "      <td>1910</td>\n",
              "      <td>2370</td>\n",
              "      <td>1438</td>\n",
              "      <td>2.0</td>\n",
              "      <td>7</td>\n",
              "      <td>3</td>\n",
              "      <td>2</td>\n",
              "      <td>0</td>\n",
              "      <td>1</td>\n",
              "      <td>0</td>\n",
              "      <td>None</td>\n",
              "      <td>335.670</td>\n",
              "    </tr>\n",
              "  </tbody>\n",
              "</table>\n",
              "</div>"
            ],
            "text/plain": [
              "   TOTAL VALUE   LOT SQFT   YR BUILT  ...  FIREPLACE  REMODEL    PRICE\n",
              "0         344.2       9965      1880  ...          0     None  348.530\n",
              "1         412.6       6590      1945  ...          0   Recent  417.790\n",
              "2         330.1       7500      1890  ...          0     None  334.252\n",
              "3         498.6      13773      1957  ...          1     None  504.872\n",
              "4         331.5       5000      1910  ...          0     None  335.670\n",
              "\n",
              "[5 rows x 14 columns]"
            ]
          },
          "metadata": {
            "tags": []
          },
          "execution_count": 35
        }
      ]
    },
    {
      "cell_type": "markdown",
      "metadata": {
        "id": "bZPbpnUoYTQY",
        "colab_type": "text"
      },
      "source": [
        "---\n",
        "**Reference**\n",
        "\n",
        "Pradhan, M. and Kumar, U. D. (2019). *Machine Learning using Python*. Wiley India Pvt. Ltd."
      ]
    }
  ]
}