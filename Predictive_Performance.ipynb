{
  "nbformat": 4,
  "nbformat_minor": 0,
  "metadata": {
    "kernelspec": {
      "display_name": "Python 3",
      "language": "python",
      "name": "python3"
    },
    "language_info": {
      "codemirror_mode": {
        "name": "ipython",
        "version": 3
      },
      "file_extension": ".py",
      "mimetype": "text/x-python",
      "name": "python",
      "nbconvert_exporter": "python",
      "pygments_lexer": "ipython3",
      "version": "3.7.1"
    },
    "colab": {
      "name": "Predictive Performance.ipynb",
      "provenance": [],
      "toc_visible": true,
      "include_colab_link": true
    }
  },
  "cells": [
    {
      "cell_type": "markdown",
      "metadata": {
        "id": "view-in-github",
        "colab_type": "text"
      },
      "source": [
        "<a href=\"https://colab.research.google.com/github/nnbphuong/datascience4biz/blob/master/Predictive_Performance.ipynb\" target=\"_parent\"><img src=\"https://colab.research.google.com/assets/colab-badge.svg\" alt=\"Open In Colab\"/></a>"
      ]
    },
    {
      "cell_type": "markdown",
      "metadata": {
        "id": "fG3sZ1AsNGHH",
        "colab_type": "text"
      },
      "source": [
        "# PREDICTIVE PERFORMANCE\n",
        "> Phuong Nguyen @ [DataScience.vn](https://DataScience.vn)\n",
        "> \n",
        "> Dataset: \n",
        "> \n",
        "> *   ToyotaCorolla.csv: https://gist.github.com/nnbphuong/36c551cc899dde0ee8c9845bd1071118\n",
        "> \n",
        "> *   ownerExample.csv: https://gist.github.com/nnbphuong/2c278a1443446fdb911c95796f78ef2b\n",
        "> \n",
        "> *   liftExample.csv: https://gist.github.com/nnbphuong/538b0ab2fc20d423d942259e7cc5480f\n",
        "\n",
        "## Import required packages"
      ]
    },
    {
      "cell_type": "code",
      "metadata": {
        "id": "OO9P0Nu9NGHL",
        "colab_type": "code",
        "colab": {
          "base_uri": "https://localhost:8080/",
          "height": 126
        },
        "outputId": "471b3845-81e0-45e2-a6c7-084988569c05"
      },
      "source": [
        "%matplotlib inline\n",
        "import math\n",
        "from pathlib import Path\n",
        "import pandas as pd\n",
        "from sklearn.model_selection import train_test_split\n",
        "from sklearn.linear_model import LinearRegression\n",
        "from sklearn.metrics import accuracy_score, roc_curve, auc\n",
        "import matplotlib.pylab as plt\n",
        "\n",
        "!pip install dmba\n",
        "from dmba import regressionSummary, classificationSummary, liftChart, gainsChart\n"
      ],
      "execution_count": null,
      "outputs": [
        {
          "output_type": "stream",
          "text": [
            "Collecting dmba\n",
            "  Downloading https://files.pythonhosted.org/packages/07/c9/629df19985e62c80b0b3d1d4aafaa311908335bbf2e3bf338dd56a526139/dmba-0.0.12-py3-none-any.whl\n",
            "Installing collected packages: dmba\n",
            "Successfully installed dmba-0.0.12\n",
            "no display found. Using non-interactive Agg backend\n"
          ],
          "name": "stdout"
        }
      ]
    },
    {
      "cell_type": "markdown",
      "metadata": {
        "id": "8PwpxKHHNGHW",
        "colab_type": "text"
      },
      "source": [
        "## Prediction error metrics from a model for Toyota car prices (training and validation)\n",
        "Load file and generate training and validation sets. "
      ]
    },
    {
      "cell_type": "code",
      "metadata": {
        "id": "I4toxY_MNGHc",
        "colab_type": "code",
        "colab": {
          "base_uri": "https://localhost:8080/",
          "height": 303
        },
        "outputId": "3712abb2-9314-4306-e56c-f3eb0c2e480f"
      },
      "source": [
        "# Reduce data frame to the top 1000 rows and select columns for regression analysis\n",
        "car_df = pd.read_csv('https://gist.githubusercontent.com/nnbphuong/36c551cc899dde0ee8c9845bd1071118/raw/05f31f89d182bcbed9d6574bf5f59b9eaf152c3a/ToyotaCorolla.csv')\n",
        "\n",
        "# create a list of predictor variables by remvoing output variables and text columns\n",
        "excludeColumns = ('Price', 'Id', 'Model', 'Fuel_Type', 'Color')\n",
        "predictors = [s for s in car_df.columns if s not in excludeColumns]\n",
        "outcome = 'Price'\n",
        "\n",
        "# partition data\n",
        "X = car_df[predictors]\n",
        "y = car_df[outcome]\n",
        "train_X, valid_X, train_y, valid_y = train_test_split(X, y, test_size=0.4, random_state=1)\n",
        "\n",
        "# train linear regression model\n",
        "reg = LinearRegression()\n",
        "reg.fit(train_X, train_y)\n",
        "\n",
        "# evaluate performance\n",
        "# training\n",
        "regressionSummary(train_y, reg.predict(train_X))\n",
        "# validation\n",
        "regressionSummary(valid_y, reg.predict(valid_X))"
      ],
      "execution_count": null,
      "outputs": [
        {
          "output_type": "stream",
          "text": [
            "\n",
            "Regression statistics\n",
            "\n",
            "                      Mean Error (ME) : 0.0000\n",
            "       Root Mean Squared Error (RMSE) : 1121.0606\n",
            "            Mean Absolute Error (MAE) : 811.6770\n",
            "          Mean Percentage Error (MPE) : -0.8630\n",
            "Mean Absolute Percentage Error (MAPE) : 8.0054\n",
            "\n",
            "Regression statistics\n",
            "\n",
            "                      Mean Error (ME) : 97.1891\n",
            "       Root Mean Squared Error (RMSE) : 1382.0352\n",
            "            Mean Absolute Error (MAE) : 880.1396\n",
            "          Mean Percentage Error (MPE) : 0.0138\n",
            "Mean Absolute Percentage Error (MAPE) : 8.8744\n"
          ],
          "name": "stdout"
        }
      ]
    },
    {
      "cell_type": "markdown",
      "metadata": {
        "id": "aDcV5KleNGHm",
        "colab_type": "text"
      },
      "source": [
        "## Histograms and boxplots of Toyota price prediction errors, for training and validation sets"
      ]
    },
    {
      "cell_type": "code",
      "metadata": {
        "id": "MMNT8ZzQNGHp",
        "colab_type": "code",
        "colab": {
          "base_uri": "https://localhost:8080/",
          "height": 301
        },
        "outputId": "16d5515c-3014-4e03-fc48-0dd4c0cb0176"
      },
      "source": [
        "pred_error_train = pd.DataFrame({\n",
        "    'residual': train_y - reg.predict(train_X), \n",
        "    'data set': 'training'\n",
        "})\n",
        "pred_error_valid = pd.DataFrame({\n",
        "    'residual': valid_y - reg.predict(valid_X), \n",
        "    'data set': 'validation'\n",
        "})\n",
        "boxdata_df = pred_error_train.append(pred_error_valid, ignore_index=True)\n",
        "\n",
        "fig, axes = plt.subplots(nrows=1, ncols=3)\n",
        "fig.set_size_inches(9, 4)\n",
        "common = {'bins': 100, 'range': [-6500, 6500]}\n",
        "pred_error_train.hist(ax=axes[0], **common)\n",
        "pred_error_valid.hist(ax=axes[1], **common)\n",
        "boxdata_df.boxplot(ax=axes[2], by='data set')\n",
        "\n",
        "axes[0].set_title('training')\n",
        "axes[1].set_title('validation')\n",
        "axes[2].set_title(' ')\n",
        "axes[2].set_ylim(-6500, 6500)\n",
        "plt.suptitle('Prediction errors') \n",
        "plt.subplots_adjust(bottom=0.15, top=0.85, wspace=0.35)\n",
        "\n",
        "plt.show()"
      ],
      "execution_count": null,
      "outputs": [
        {
          "output_type": "display_data",
          "data": {
            "image/png": "[encoded data removed]",
            "text/plain": [
              "<Figure size 648x288 with 3 Axes>"
            ]
          },
          "metadata": {
            "tags": [],
            "needs_background": "light"
          }
        }
      ]
    },
    {
      "cell_type": "markdown",
      "metadata": {
        "id": "DKV_5ff7NGHz",
        "colab_type": "text"
      },
      "source": [
        "## Cumulative gains chart (a) and decile lift chart (b) for continuous outcome variable (sales of Toyota cars)\n"
      ]
    },
    {
      "cell_type": "code",
      "metadata": {
        "id": "P7dyTovRNGH0",
        "colab_type": "code",
        "colab": {
          "base_uri": "https://localhost:8080/",
          "height": 368
        },
        "outputId": "090e239f-884a-4a8c-fbc2-5760f5da6d1b"
      },
      "source": [
        "# reorder the predicted values in descending order and calculate the cumulative sum\n",
        "pred_v = pd.Series(reg.predict(valid_X))\n",
        "pred_v = pred_v.sort_values(ascending=False)\n",
        "\n",
        "fig, axes = plt.subplots(nrows=1, ncols=2)\n",
        "ax = gainsChart(pred_v, ax=axes[0])\n",
        "ax.set_ylabel('Cumulative Price')\n",
        "ax.set_title('Cumulative Gains Chart')\n",
        "\n",
        "ax = liftChart(pred_v, ax=axes[1], labelBars=False)\n",
        "ax.set_ylabel('Lift')\n",
        "\n",
        "plt.tight_layout()\n",
        "plt.show()\n",
        "\n",
        "\n",
        "# group the sorted predictions into 10 roughly equal groups and calculate the mean\n",
        "groups = [int(10 * i / len(pred_v)) for i in range(len(pred_v))]\n",
        "meanPercentile = pred_v.groupby(groups).mean()\n",
        "meanResponse = meanPercentile / pred_v.mean()\n",
        "meanResponse.index = (meanResponse.index + 1) * 10\n",
        "print('Lift based on meanResponse', meanResponse[10])\n",
        "random10 = pred_v.cumsum().iloc[-1] / 10  # expected cumulative price without lift for 10% sales\n",
        "cumPred10 = pred_v.cumsum().iloc[57]  # cumulative price based on model for top 10%\n",
        "print('Expected cumulative price for 10% random sales', random10)\n",
        "print('Cumulative price for top 10% sales', cumPred10)\n",
        "print('Lift calculated based on gains chart', cumPred10 / random10)"
      ],
      "execution_count": null,
      "outputs": [
        {
          "output_type": "display_data",
          "data": {
            "image/png": "[encoded data removed]",
            "text/plain": [
              "<Figure size 432x288 with 2 Axes>"
            ]
          },
          "metadata": {
            "tags": [],
            "needs_background": "light"
          }
        },
        {
          "output_type": "stream",
          "text": [
            "Lift based on meanResponse 1.7517969497367347\n",
            "Expected cumulative price for 10% random sales 607703.4295708361\n",
            "Cumulative price for top 10% sales 1073830.170912541\n",
            "Lift calculated based on gains chart 1.767029966690967\n"
          ],
          "name": "stdout"
        }
      ]
    },
    {
      "cell_type": "markdown",
      "metadata": {
        "id": "N1Mt6E27NGH9",
        "colab_type": "text"
      },
      "source": [
        "## Confusion matrices based on cutoffs of 0.5, 0.25, and 0.75 (riding mowers example)"
      ]
    },
    {
      "cell_type": "code",
      "metadata": {
        "id": "dkCsddBwNGH-",
        "colab_type": "code",
        "colab": {}
      },
      "source": [
        "owner_df = pd.read_csv('https://gist.githubusercontent.com/nnbphuong/2c278a1443446fdb911c95796f78ef2b/raw/5914812c91fa9063b0cd118a5cbced4baf1e82ff/ownerExample.csv')\n",
        "owner_df.head()\n",
        "class_names = ['nonowner', 'owner']"
      ],
      "execution_count": null,
      "outputs": []
    },
    {
      "cell_type": "code",
      "metadata": {
        "scrolled": true,
        "id": "oD8oYrkaNGII",
        "colab_type": "code",
        "colab": {
          "base_uri": "https://localhost:8080/",
          "height": 124
        },
        "outputId": "acf7e532-2e0c-4bc9-b527-87bca9b99f28"
      },
      "source": [
        "predicted = ['owner' if p > 0.5 else 'nonowner' for p in owner_df.Probability]\n",
        "classificationSummary(owner_df.Class, predicted, class_names=class_names)"
      ],
      "execution_count": null,
      "outputs": [
        {
          "output_type": "stream",
          "text": [
            "Confusion Matrix (Accuracy 0.8750)\n",
            "\n",
            "         Prediction\n",
            "  Actual nonowner    owner\n",
            "nonowner       10        2\n",
            "   owner        1       11\n"
          ],
          "name": "stdout"
        }
      ]
    },
    {
      "cell_type": "code",
      "metadata": {
        "id": "JTMPPPQINGIP",
        "colab_type": "code",
        "colab": {
          "base_uri": "https://localhost:8080/",
          "height": 124
        },
        "outputId": "2e5fc19d-0e4c-4941-d81b-8fd0514edc29"
      },
      "source": [
        "predicted = ['owner' if p > 0.25 else 'nonowner' for p in owner_df.Probability]\n",
        "classificationSummary(owner_df.Class, predicted, class_names=class_names)"
      ],
      "execution_count": null,
      "outputs": [
        {
          "output_type": "stream",
          "text": [
            "Confusion Matrix (Accuracy 0.7917)\n",
            "\n",
            "         Prediction\n",
            "  Actual nonowner    owner\n",
            "nonowner        8        4\n",
            "   owner        1       11\n"
          ],
          "name": "stdout"
        }
      ]
    },
    {
      "cell_type": "code",
      "metadata": {
        "id": "WP0e9qLhNGIV",
        "colab_type": "code",
        "colab": {
          "base_uri": "https://localhost:8080/",
          "height": 124
        },
        "outputId": "9f34d61a-4114-484e-8a81-502547190a7c"
      },
      "source": [
        "predicted = ['owner' if p > 0.75 else 'nonowner' for p in owner_df.Probability]\n",
        "classificationSummary(owner_df.Class, predicted, class_names=class_names)"
      ],
      "execution_count": null,
      "outputs": [
        {
          "output_type": "stream",
          "text": [
            "Confusion Matrix (Accuracy 0.7500)\n",
            "\n",
            "         Prediction\n",
            "  Actual nonowner    owner\n",
            "nonowner       11        1\n",
            "   owner        5        7\n"
          ],
          "name": "stdout"
        }
      ]
    },
    {
      "cell_type": "markdown",
      "metadata": {
        "id": "6iVXqsFiNGIc",
        "colab_type": "text"
      },
      "source": [
        "## Plotting accuracy and overall error as a function of the cutoff value (riding mowers example)\n",
        "Calculate the accuracy at different cutoff values and create a graph."
      ]
    },
    {
      "cell_type": "code",
      "metadata": {
        "id": "6VRfIddWNGIe",
        "colab_type": "code",
        "colab": {
          "base_uri": "https://localhost:8080/",
          "height": 283
        },
        "outputId": "e41a9683-d63f-4943-8884-2ad820d0780c"
      },
      "source": [
        "df = pd.read_csv('https://gist.githubusercontent.com/nnbphuong/538b0ab2fc20d423d942259e7cc5480f/raw/7e652547e37362c7cceaf5095b76bb637e1b1cba/liftExample.csv')\n",
        "\n",
        "cutoffs = [i * 0.1 for i in range(0, 11)]\n",
        "accT = []\n",
        "for cutoff in cutoffs:\n",
        "    predicted = [1 if p > cutoff else 0 for p in df.prob]\n",
        "    accT.append(accuracy_score(df.actual, predicted))\n",
        "\n",
        "line_accuracy = plt.plot(cutoffs, accT, '-', label='Accuracy')[0]\n",
        "line_error = plt.plot(cutoffs, [1 - acc for acc in accT], '--', label='Overall error')[0]\n",
        "plt.ylim([0,1])\n",
        "plt.xlabel('Cutoff Value')\n",
        "plt.legend(handles=[line_accuracy, line_error])\n",
        "\n",
        "plt.show()"
      ],
      "execution_count": null,
      "outputs": [
        {
          "output_type": "display_data",
          "data": {
            "image/png": "[encoded data removed]",
            "text/plain": [
              "<Figure size 432x288 with 1 Axes>"
            ]
          },
          "metadata": {
            "tags": [],
            "needs_background": "light"
          }
        }
      ]
    },
    {
      "cell_type": "markdown",
      "metadata": {
        "id": "zDgocCALNGIw",
        "colab_type": "text"
      },
      "source": [
        "## ROC curve for riding mowers example"
      ]
    },
    {
      "cell_type": "code",
      "metadata": {
        "id": "Y5qsT2nVNGIx",
        "colab_type": "code",
        "colab": {}
      },
      "source": [
        "fpr, tpr, _ = roc_curve(df.actual, df.prob)\n",
        "roc_auc = auc(fpr, tpr)"
      ],
      "execution_count": null,
      "outputs": []
    },
    {
      "cell_type": "code",
      "metadata": {
        "id": "kzeb6vKSNGI4",
        "colab_type": "code",
        "colab": {
          "base_uri": "https://localhost:8080/",
          "height": 334
        },
        "outputId": "21bbf83f-64be-40da-d5cd-7c9887e040bc"
      },
      "source": [
        "plt.figure(figsize=[5, 5])\n",
        "lw = 2\n",
        "plt.plot(fpr, tpr, color='darkorange',\n",
        "         lw=lw, label='ROC curve (area = %0.4f)' % roc_auc)\n",
        "plt.plot([0, 1], [0, 1], color='navy', lw=lw, linestyle='--')\n",
        "plt.xlim([0.0, 1.0])\n",
        "plt.ylim([0.0, 1.05])\n",
        "plt.xlabel('False Positive Rate (1 - Specificity)')\n",
        "plt.ylabel('True Positive Rate (Sensitivity)')\n",
        "plt.legend(loc=\"lower right\")\n",
        "\n",
        "plt.show()"
      ],
      "execution_count": null,
      "outputs": [
        {
          "output_type": "display_data",
          "data": {
            "image/png": "[encoded data removed]",
            "text/plain": [
              "<Figure size 360x360 with 1 Axes>"
            ]
          },
          "metadata": {
            "tags": [],
            "needs_background": "light"
          }
        }
      ]
    },
    {
      "cell_type": "markdown",
      "metadata": {
        "id": "nZxUoJ7uNGI_",
        "colab_type": "text"
      },
      "source": [
        "## Cumulative gains chart for the mower example"
      ]
    },
    {
      "cell_type": "code",
      "metadata": {
        "id": "F0XcubczNGJB",
        "colab_type": "code",
        "colab": {
          "base_uri": "https://localhost:8080/",
          "height": 297
        },
        "outputId": "d7b10752-bb95-423b-b2bc-7a29a9686e2d"
      },
      "source": [
        "df = pd.read_csv('https://gist.githubusercontent.com/nnbphuong/538b0ab2fc20d423d942259e7cc5480f/raw/7e652547e37362c7cceaf5095b76bb637e1b1cba/liftExample.csv')\n",
        "df = df.sort_values(by=['prob'], ascending=False)\n",
        "\n",
        "gainsChart(df.actual, figsize=(4, 4))\n",
        "\n",
        "plt.tight_layout()\n",
        "plt.show()"
      ],
      "execution_count": null,
      "outputs": [
        {
          "output_type": "display_data",
          "data": {
            "image/png": "[encoded data removed]",
            "text/plain": [
              "<Figure size 288x288 with 1 Axes>"
            ]
          },
          "metadata": {
            "tags": [],
            "needs_background": "light"
          }
        }
      ]
    },
    {
      "cell_type": "markdown",
      "metadata": {
        "id": "TpudJ9c-NGJI",
        "colab_type": "text"
      },
      "source": [
        "## Decile lift chart\n",
        "The created figure differs from the R version of the graph due to variations in the assignment to the percentiles."
      ]
    },
    {
      "cell_type": "code",
      "metadata": {
        "id": "DhkDhtOeNGJJ",
        "colab_type": "code",
        "colab": {},
        "outputId": "b1ff66cc-e491-45a9-eea9-06274310c8ff"
      },
      "source": [
        "liftChart(df.actual, labelBars=False)\n",
        "plt.tight_layout()\n",
        "plt.show()"
      ],
      "execution_count": null,
      "outputs": [
        {
          "output_type": "display_data",
          "data": {
            "image/png": "[encoded data removed]",
            "text/plain": [
              "<Figure size 432x288 with 1 Axes>"
            ]
          },
          "metadata": {
            "tags": [],
            "needs_background": "light"
          }
        }
      ]
    },
    {
      "cell_type": "markdown",
      "metadata": {
        "id": "O245sXqVOMzN",
        "colab_type": "text"
      },
      "source": [
        "---\n",
        "**Reference**\n",
        "\n",
        "Shmueli, G., Bruce, P. C., Gedeck, P., and Patel, N. R. (2019). *Data Mining for Business Analytics: Concepts, Techniques and Applications in Python*. John Wiley & Sons, Inc."
      ]
    }
  ]
}