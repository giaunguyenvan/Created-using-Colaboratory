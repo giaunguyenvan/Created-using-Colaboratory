{
  "nbformat": 4,
  "nbformat_minor": 0,
  "metadata": {
    "colab": {
      "name": "Identify Outliers in Data.ipynb",
      "provenance": [],
      "toc_visible": true,
      "authorship_tag": "ABX9TyNsINkHgXL7/h9ZGHWA0Y1H",
      "include_colab_link": true
    },
    "kernelspec": {
      "name": "python3",
      "display_name": "Python 3"
    }
  },
  "cells": [
    {
      "cell_type": "markdown",
      "metadata": {
        "id": "view-in-github",
        "colab_type": "text"
      },
      "source": [
        "<a href=\"https://colab.research.google.com/github/nnbphuong/datascience4biz/blob/master/Identify_Outliers_in_Data.ipynb\" target=\"_parent\"><img src=\"https://colab.research.google.com/assets/colab-badge.svg\" alt=\"Open In Colab\"/></a>"
      ]
    },
    {
      "cell_type": "markdown",
      "metadata": {
        "id": "XURIwbSbWgw0",
        "colab_type": "text"
      },
      "source": [
        "#**IDENTIFY OUTLIERS IN DATA**\n",
        "\n",
        "Phuong Nguyen @ [DataScience.vn](https://datascience.vn)\n",
        "\n",
        "\n",
        "---"
      ]
    },
    {
      "cell_type": "code",
      "metadata": {
        "id": "T0iQR9IgWfc-",
        "colab_type": "code",
        "colab": {}
      },
      "source": [
        "from numpy.random import seed\n",
        "from numpy.random import randn\n",
        "from numpy import mean\n",
        "from numpy import std\n",
        "from numpy import percentile"
      ],
      "execution_count": 0,
      "outputs": []
    },
    {
      "cell_type": "code",
      "metadata": {
        "id": "pHInyYZ1Xv9E",
        "colab_type": "code",
        "colab": {}
      },
      "source": [
        "# Seed the random number generator\n",
        "seed(1)\n",
        "# randn(): Return a sample from the “standard normal” distribution\n",
        "# For random samples from N(mu, sigma^2), use: sigma * randn() + mu\n",
        "data = 5 * randn(10000) + 50\n",
        "data"
      ],
      "execution_count": 0,
      "outputs": []
    },
    {
      "cell_type": "code",
      "metadata": {
        "id": "6hMtHWw7XqIh",
        "colab_type": "code",
        "colab": {}
      },
      "source": [
        "# Calculate statistical measures\n",
        "# Use a % as a placeholder. The .3f indicates to round to 3 places after the decimal point.\n",
        "# String formatting operations: https://docs.python.org/2/library/stdtypes.html#string-formatting\n",
        "print('mean=%.3f stdv=%.3f' % (mean(data), std(data)))"
      ],
      "execution_count": 0,
      "outputs": []
    },
    {
      "cell_type": "markdown",
      "metadata": {
        "id": "tZAASJxqYL6J",
        "colab_type": "text"
      },
      "source": [
        "# Standard Deviation Method"
      ]
    },
    {
      "cell_type": "code",
      "metadata": {
        "id": "XrjL_dyvYrtD",
        "colab_type": "code",
        "colab": {}
      },
      "source": [
        "# Calculate the outlier cut-off\n",
        "data_mean, data_std = mean(data), std(data)\n",
        "cut_off = data_std * 3\n",
        "lower, upper = data_mean - cut_off, data_mean + cut_off"
      ],
      "execution_count": 0,
      "outputs": []
    },
    {
      "cell_type": "code",
      "metadata": {
        "id": "Hj5zb4bd1LYu",
        "colab_type": "code",
        "colab": {}
      },
      "source": [
        "# Identify outliers\n",
        "outliers = [x for x in data if x < lower or x > upper]\n",
        "print('Identified outliers: %d' % len(outliers))"
      ],
      "execution_count": 0,
      "outputs": []
    },
    {
      "cell_type": "code",
      "metadata": {
        "id": "GcISakKaY9vb",
        "colab_type": "code",
        "colab": {}
      },
      "source": [
        "# Remove outliers\n",
        "outliers_removed = [x for x in data if x >= lower and x <= upper]\n",
        "print('Non-outlier observations: %d' % len(outliers_removed))"
      ],
      "execution_count": 0,
      "outputs": []
    },
    {
      "cell_type": "markdown",
      "metadata": {
        "id": "Dtea2Q3BYQRK",
        "colab_type": "text"
      },
      "source": [
        "# Interquartile Range (IQR) Method"
      ]
    },
    {
      "cell_type": "code",
      "metadata": {
        "id": "RWa6-8OuZTgE",
        "colab_type": "code",
        "colab": {}
      },
      "source": [
        "# Calculate interquartile range\n",
        "q25, q75 = percentile(data, 25), percentile(data, 75)\n",
        "iqr = q75 - q25\n",
        "print('Percentiles: 25th=%.3f, 75th=%.3f, IQR=%.3f' % (q25, q75, iqr))"
      ],
      "execution_count": 0,
      "outputs": []
    },
    {
      "cell_type": "code",
      "metadata": {
        "id": "Ajbb8sDxZZvs",
        "colab_type": "code",
        "colab": {}
      },
      "source": [
        "# Calculate the outlier cut-off\n",
        "cut_off = iqr * 1.5\n",
        "lower, upper = q25 - cut_off, q75 + cut_off\n",
        "# Identify outliers\n",
        "outliers = [x for x in data if x < lower or x > upper]\n",
        "print('Identified outliers: %d' % len(outliers))"
      ],
      "execution_count": 0,
      "outputs": []
    },
    {
      "cell_type": "code",
      "metadata": {
        "id": "EECQ5EieZchj",
        "colab_type": "code",
        "colab": {}
      },
      "source": [
        "# Remove outliers\n",
        "outliers_removed = [x for x in data if x >= lower and x <= upper]\n",
        "print('Non-outlier observations: %d' % len(outliers_removed))"
      ],
      "execution_count": 0,
      "outputs": []
    },
    {
      "cell_type": "markdown",
      "metadata": {
        "id": "7hNfsETQbKCs",
        "colab_type": "text"
      },
      "source": [
        "---\n",
        "**Reference**\n",
        "\n",
        "Brownlee, J. (2018). How to Use Statistics to Identify Outliers in Data. *Machine Learning Mastery*, April 25, 2018. URL: https://machinelearningmastery.com/how-to-use-statistics-to-identify-outliers-in-data/"
      ]
    }
  ]
}