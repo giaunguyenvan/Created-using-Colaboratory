{
  "nbformat": 4,
  "nbformat_minor": 0,
  "metadata": {
    "colab": {
      "name": "Introduction to Python.ipynb",
      "provenance": [],
      "collapsed_sections": [],
      "toc_visible": true,
      "authorship_tag": "ABX9TyM8SIY65duQoXWGZFh98WDv",
      "include_colab_link": true
    },
    "kernelspec": {
      "name": "python3",
      "display_name": "Python 3"
    }
  },
  "cells": [
    {
      "cell_type": "markdown",
      "metadata": {
        "id": "view-in-github",
        "colab_type": "text"
      },
      "source": [
        "<a href=\"https://colab.research.google.com/github/nnbphuong/datascience4biz/blob/master/Introduction_to_Python.ipynb\" target=\"_parent\"><img src=\"https://colab.research.google.com/assets/colab-badge.svg\" alt=\"Open In Colab\"/></a>"
      ]
    },
    {
      "cell_type": "markdown",
      "metadata": {
        "id": "FJlhDl6s6Bvf",
        "colab_type": "text"
      },
      "source": [
        "#**INTRODUCTION TO PYTHON**\n",
        "\n",
        "Phuong Nguyen @ [DataScience.vn](https://datascience.vn)\n",
        "\n",
        "\n",
        "---\n",
        "\n"
      ]
    },
    {
      "cell_type": "markdown",
      "metadata": {
        "id": "uAe91K-dUsRr",
        "colab_type": "text"
      },
      "source": [
        "# Hello, world!"
      ]
    },
    {
      "cell_type": "code",
      "metadata": {
        "id": "x9uOOXoKvo-W",
        "colab_type": "code",
        "outputId": "5554255b-3a9e-4342-9bb9-293388b211f8",
        "colab": {
          "base_uri": "https://localhost:8080/",
          "height": 35
        }
      },
      "source": [
        "print('Hello, world!')"
      ],
      "execution_count": 39,
      "outputs": [
        {
          "output_type": "stream",
          "text": [
            "Hello, world!\n"
          ],
          "name": "stdout"
        }
      ]
    },
    {
      "cell_type": "markdown",
      "metadata": {
        "id": "yihA1IGF6eNl",
        "colab_type": "text"
      },
      "source": [
        "# Creating Variables\n",
        "\n",
        "In Python, a variable can be assigned a value without specifying data type. Python automatically infers the variable type from values assigned to it. Also, the variable need not be assigned a value of same type during its lifetime.\n",
        "\n",
        "Python supports the following variable types:\n",
        "1. *int* – Integer type.\n",
        "2. *float* – Floating point numbers.\n",
        "3. *bool* – Booleans are subtypes of integers and assigned value using literals True and False.\n",
        "4. *str* – Textual data."
      ]
    },
    {
      "cell_type": "code",
      "metadata": {
        "id": "0I2TulhP6Kzu",
        "colab_type": "code",
        "colab": {}
      },
      "source": [
        "var1 = 2\n",
        "var2 = 5.0\n",
        "var3 = 1 > 2\n",
        "var4 = \"Data Science for Business\""
      ],
      "execution_count": 0,
      "outputs": []
    },
    {
      "cell_type": "code",
      "metadata": {
        "id": "QjOq_gHr6qZd",
        "colab_type": "code",
        "outputId": "63a9c3ce-cf42-47a5-cb2d-b07e02d22f19",
        "colab": {
          "base_uri": "https://localhost:8080/",
          "height": 88
        }
      },
      "source": [
        "print(\"Value of var1:\", var1, type(var1))\n",
        "print(\"Value of var2:\", var2, type(var2))\n",
        "print(\"Value of var3:\", var3, type(var3))\n",
        "print(\"Value of var4:\", var4, type(var4))"
      ],
      "execution_count": 41,
      "outputs": [
        {
          "output_type": "stream",
          "text": [
            "Value of var1: 2 <class 'int'>\n",
            "Value of var2: 5.0 <class 'float'>\n",
            "Value of var3: False <class 'bool'>\n",
            "Value of var4: Data Science for Business <class 'str'>\n"
          ],
          "name": "stdout"
        }
      ]
    },
    {
      "cell_type": "markdown",
      "metadata": {
        "id": "mhdzwgtA7_G_",
        "colab_type": "text"
      },
      "source": [
        "# Generating Sequence/Random Numbers"
      ]
    },
    {
      "cell_type": "code",
      "metadata": {
        "id": "UfbarHaw7_hE",
        "colab_type": "code",
        "colab": {
          "base_uri": "https://localhost:8080/",
          "height": 35
        },
        "outputId": "0e65a39a-1009-4267-9816-3605060d7ceb"
      },
      "source": [
        "# Initializing the sequence of numbers starting from 1 and ending (not including) with 6\n",
        "numbers = range(1, 6)\n",
        "numbers"
      ],
      "execution_count": 42,
      "outputs": [
        {
          "output_type": "execute_result",
          "data": {
            "text/plain": [
              "range(1, 6)"
            ]
          },
          "metadata": {
            "tags": []
          },
          "execution_count": 42
        }
      ]
    },
    {
      "cell_type": "code",
      "metadata": {
        "id": "qchORQ0X8ddN",
        "colab_type": "code",
        "colab": {
          "base_uri": "https://localhost:8080/",
          "height": 35
        },
        "outputId": "a10bcb6b-0cdb-46b3-a3e6-19d44c805e0c"
      },
      "source": [
        "type(numbers)"
      ],
      "execution_count": 43,
      "outputs": [
        {
          "output_type": "execute_result",
          "data": {
            "text/plain": [
              "range"
            ]
          },
          "metadata": {
            "tags": []
          },
          "execution_count": 43
        }
      ]
    },
    {
      "cell_type": "code",
      "metadata": {
        "id": "H7EROJMICN9y",
        "colab_type": "code",
        "outputId": "5e0e9222-8db2-49b8-fe7e-9ff2462cbc95",
        "colab": {
          "base_uri": "https://localhost:8080/",
          "height": 35
        }
      },
      "source": [
        "import random\n",
        "# from random import sample\n",
        "# https://docs.python.org/3/library/random.html\n",
        "randomList = random.sample(range(0, 100), 20)\n",
        "randomList"
      ],
      "execution_count": 44,
      "outputs": [
        {
          "output_type": "execute_result",
          "data": {
            "text/plain": [
              "[17, 90, 35, 33, 10, 24, 30, 2, 70, 11, 47, 68, 71, 94, 67, 48, 9, 76, 86, 18]"
            ]
          },
          "metadata": {
            "tags": []
          },
          "execution_count": 44
        }
      ]
    },
    {
      "cell_type": "code",
      "metadata": {
        "id": "Lp3LRcVcD4_0",
        "colab_type": "code",
        "colab": {
          "base_uri": "https://localhost:8080/",
          "height": 35
        },
        "outputId": "d2c0a5dd-67f3-489d-9f99-9b86576917ab"
      },
      "source": [
        "type(randomList)"
      ],
      "execution_count": 45,
      "outputs": [
        {
          "output_type": "execute_result",
          "data": {
            "text/plain": [
              "list"
            ]
          },
          "metadata": {
            "tags": []
          },
          "execution_count": 45
        }
      ]
    },
    {
      "cell_type": "markdown",
      "metadata": {
        "id": "ZinhQ-Fb8UN2",
        "colab_type": "text"
      },
      "source": [
        "# Control Flow Statements\n",
        "\n",
        "With control flow, you can execute certain code blocks conditionally and/or repeatedly: these basic building blocks can be combined to create surprisingly sophisticated programs!\n",
        "\n",
        "![alt text](http://net-informations.com/python/flow/img/control.png)"
      ]
    },
    {
      "cell_type": "markdown",
      "metadata": {
        "id": "yj6gwEPb6728",
        "colab_type": "text"
      },
      "source": [
        "## Conditional Statements\n",
        "\n",
        "Conditional statement in Python performs different computations or actions depending on whether a specific Boolean constraint evaluates to true or false."
      ]
    },
    {
      "cell_type": "code",
      "metadata": {
        "id": "p6VFYvR267O1",
        "colab_type": "code",
        "colab": {
          "base_uri": "https://localhost:8080/",
          "height": 35
        },
        "outputId": "133a6989-a260-4234-ad4c-480a10d38418"
      },
      "source": [
        "# Checking a condition if the variable value is more than 1\n",
        "if var1 > 1:\n",
        "  print( \"Bigger than 1\" )"
      ],
      "execution_count": 46,
      "outputs": [
        {
          "output_type": "stream",
          "text": [
            "Bigger than 1\n"
          ],
          "name": "stdout"
        }
      ]
    },
    {
      "cell_type": "code",
      "metadata": {
        "id": "9-x70K_I7Mdu",
        "colab_type": "code",
        "colab": {
          "base_uri": "https://localhost:8080/",
          "height": 35
        },
        "outputId": "51ce0ca1-a6b6-4a52-b7ba-2cc453b0648b"
      },
      "source": [
        "x = 10\n",
        "y = 12\n",
        "# if x is greater than y\n",
        "if x > y:\n",
        "  print (\"x > y\")\n",
        "# if x is lesser than y\n",
        "elif x < y:\n",
        "  print (\"x < y\")\n",
        "else:\n",
        "  print (\"x = y\")"
      ],
      "execution_count": 47,
      "outputs": [
        {
          "output_type": "stream",
          "text": [
            "x < y\n"
          ],
          "name": "stdout"
        }
      ]
    },
    {
      "cell_type": "code",
      "metadata": {
        "id": "_a2vwyIY7lGk",
        "colab_type": "code",
        "colab": {
          "base_uri": "https://localhost:8080/",
          "height": 35
        },
        "outputId": "d8bac150-7dc5-4f6d-b07d-955d8cf42ef2"
      },
      "source": [
        "# Initialize\n",
        "x = 5\n",
        "# Assign True if x is more than 10 or assign False using ternary operator\n",
        "isGreater = True if x > 10 else False\n",
        "isGreater"
      ],
      "execution_count": 48,
      "outputs": [
        {
          "output_type": "execute_result",
          "data": {
            "text/plain": [
              "False"
            ]
          },
          "metadata": {
            "tags": []
          },
          "execution_count": 48
        }
      ]
    },
    {
      "cell_type": "markdown",
      "metadata": {
        "colab_type": "text",
        "id": "4OYozYFwODs_"
      },
      "source": [
        "## Looping Statements\n",
        "\n",
        "Python provides following types of loops to handle looping requirements:\n",
        "\n",
        "*   **For loop** in Python is used to execute a block of statements or code several times until the given condition becomes false. We use for loop when we know the number of times to iterate.\n",
        "*   **While loop** in Python is used to execute multiple statement or codes repeatedly until the given condition is true. We use while loop when we don’t know the number of times to iterate."
      ]
    },
    {
      "cell_type": "code",
      "metadata": {
        "id": "fOc-FF318V1N",
        "colab_type": "code",
        "colab": {
          "base_uri": "https://localhost:8080/",
          "height": 106
        },
        "outputId": "a656c0b2-9f0a-4c63-af20-660b4fc98bd5"
      },
      "source": [
        "# Iterate through the collection\n",
        "for i in numbers:\n",
        "  print(i)"
      ],
      "execution_count": 49,
      "outputs": [
        {
          "output_type": "stream",
          "text": [
            "1\n",
            "2\n",
            "3\n",
            "4\n",
            "5\n"
          ],
          "name": "stdout"
        }
      ]
    },
    {
      "cell_type": "code",
      "metadata": {
        "id": "tVUe2_au8pi9",
        "colab_type": "code",
        "colab": {
          "base_uri": "https://localhost:8080/",
          "height": 106
        },
        "outputId": "81cd47bb-2ea1-471e-da45-6715913ed510"
      },
      "source": [
        "# Initialize the value of 1\n",
        "i = 1\n",
        "# check the value of i to check if the loop will be continued or not\n",
        "while i < 5:\n",
        "  print(i)\n",
        "  # Increment the value of i.\n",
        "  i = i+1\n",
        "# print after the value of i\n",
        "print('Done')"
      ],
      "execution_count": 50,
      "outputs": [
        {
          "output_type": "stream",
          "text": [
            "1\n",
            "2\n",
            "3\n",
            "4\n",
            "Done\n"
          ],
          "name": "stdout"
        }
      ]
    },
    {
      "cell_type": "markdown",
      "metadata": {
        "id": "NnD6Md1A9JXt",
        "colab_type": "text"
      },
      "source": [
        "# Functions\n",
        "Functions are the most important part of a language. Python has a number of functions built into it that are always available: https://docs.python.org/3/library/functions.html\n",
        "\n",
        "You can create your own functions which can be named or unnamed. Unnamed functions are defined using the `lambda` keyword."
      ]
    },
    {
      "cell_type": "code",
      "metadata": {
        "id": "ck4vdPpFAP-0",
        "colab_type": "code",
        "colab": {
          "base_uri": "https://localhost:8080/",
          "height": 35
        },
        "outputId": "1e8508c6-464c-4e6b-bed8-f8fb6fd15b57"
      },
      "source": [
        "myfunc = lambda a, b: a + b      # example of an unnamed function\n",
        "print(myfunc(2, 3))"
      ],
      "execution_count": 51,
      "outputs": [
        {
          "output_type": "stream",
          "text": [
            "5\n"
          ],
          "name": "stdout"
        }
      ]
    },
    {
      "cell_type": "markdown",
      "metadata": {
        "id": "EasKOJ5fA4QA",
        "colab_type": "text"
      },
      "source": [
        "Named functions are defined using the `def` keyword.\n",
        "\n",
        "1. The function signature should contain the function name followed by the input parameters\n",
        "enclosed in brackets and must end with a colon (:).\n",
        "2. Parameters are optional if initialized in the definition. The code block inside the method should\n",
        "be indented.\n",
        "3. The function ends with a `return` statement. No `return` statement implies the function returns\n",
        "`None`. The data types of parameters and return types are inferred at runtime."
      ]
    },
    {
      "cell_type": "code",
      "metadata": {
        "id": "Yn9jcZLh9LcN",
        "colab_type": "code",
        "colab": {}
      },
      "source": [
        "def addElements(a, b):\n",
        "  return a + b"
      ],
      "execution_count": 0,
      "outputs": []
    },
    {
      "cell_type": "code",
      "metadata": {
        "id": "Y3iRGiy_9Qj1",
        "colab_type": "code",
        "colab": {
          "base_uri": "https://localhost:8080/",
          "height": 35
        },
        "outputId": "4924f923-1990-4abd-ca6c-e884b771dba8"
      },
      "source": [
        "result = addElements(2, 3)\n",
        "result"
      ],
      "execution_count": 53,
      "outputs": [
        {
          "output_type": "execute_result",
          "data": {
            "text/plain": [
              "5"
            ]
          },
          "metadata": {
            "tags": []
          },
          "execution_count": 53
        }
      ]
    },
    {
      "cell_type": "code",
      "metadata": {
        "id": "6m9smjGp9Xgt",
        "colab_type": "code",
        "colab": {
          "base_uri": "https://localhost:8080/",
          "height": 35
        },
        "outputId": "05c9f83a-b7c5-40b5-c113-bf0614b6ebc6"
      },
      "source": [
        "result = addElements(2.3, 4.5)\n",
        "result"
      ],
      "execution_count": 54,
      "outputs": [
        {
          "output_type": "execute_result",
          "data": {
            "text/plain": [
              "6.8"
            ]
          },
          "metadata": {
            "tags": []
          },
          "execution_count": 54
        }
      ]
    },
    {
      "cell_type": "code",
      "metadata": {
        "id": "rdpXdLJA9bKw",
        "colab_type": "code",
        "colab": {
          "base_uri": "https://localhost:8080/",
          "height": 35
        },
        "outputId": "5dde4289-411e-401c-9751-0f7bb0f38c21"
      },
      "source": [
        "result = addElements(\"Data\", \"Science\")\n",
        "result"
      ],
      "execution_count": 55,
      "outputs": [
        {
          "output_type": "execute_result",
          "data": {
            "text/plain": [
              "'DataScience'"
            ]
          },
          "metadata": {
            "tags": []
          },
          "execution_count": 55
        }
      ]
    },
    {
      "cell_type": "code",
      "metadata": {
        "id": "l21b4C_C9mJN",
        "colab_type": "code",
        "colab": {}
      },
      "source": [
        "def addElements(a, b = 4):\n",
        "  return a + b"
      ],
      "execution_count": 0,
      "outputs": []
    },
    {
      "cell_type": "code",
      "metadata": {
        "id": "ZlvkO8sO9qBU",
        "colab_type": "code",
        "colab": {
          "base_uri": "https://localhost:8080/",
          "height": 35
        },
        "outputId": "2b88f3cf-9e4d-4ae8-9ed7-f54cef00313a"
      },
      "source": [
        "addElements(2)"
      ],
      "execution_count": 57,
      "outputs": [
        {
          "output_type": "execute_result",
          "data": {
            "text/plain": [
              "6"
            ]
          },
          "metadata": {
            "tags": []
          },
          "execution_count": 57
        }
      ]
    },
    {
      "cell_type": "code",
      "metadata": {
        "id": "BbDnnfGu9uEu",
        "colab_type": "code",
        "colab": {
          "base_uri": "https://localhost:8080/",
          "height": 35
        },
        "outputId": "16b8ae06-286d-49dd-baba-4c868f5d431f"
      },
      "source": [
        "addElements(2, 5)"
      ],
      "execution_count": 58,
      "outputs": [
        {
          "output_type": "execute_result",
          "data": {
            "text/plain": [
              "7"
            ]
          },
          "metadata": {
            "tags": []
          },
          "execution_count": 58
        }
      ]
    },
    {
      "cell_type": "markdown",
      "metadata": {
        "id": "yOkg7nZdBDGr",
        "colab_type": "text"
      },
      "source": [
        "**MODULE VS PACKAGE**\n",
        "\n",
        "In Python, a **module** is a file that consists of functions, classes, and variables. A set of modules under\n",
        "a namespace (mostly a directory) is called a **package**. The modules and packages can be imported to another module using `import` statement. Using `from ... import` syntax, a specific module or object (e.g., class or function) can be imported from a\n",
        "package.\n",
        "\n",
        "*   The Python Standard Library: https://docs.python.org/3/library/index.html\n",
        "\n",
        "*   Python Packages: https://pypi.org/"
      ]
    },
    {
      "cell_type": "code",
      "metadata": {
        "id": "1BKuQuwKCrnl",
        "colab_type": "code",
        "colab": {}
      },
      "source": [
        "# import statistics: https://docs.python.org/3/library/statistics.html\n",
        "from statistics import mean, median\n",
        "def getMeanAndMedian(listNum):\n",
        "  return mean(listNum), median(listNum)"
      ],
      "execution_count": 0,
      "outputs": []
    },
    {
      "cell_type": "code",
      "metadata": {
        "id": "_YPDAgvNC0JO",
        "colab_type": "code",
        "colab": {
          "base_uri": "https://localhost:8080/",
          "height": 35
        },
        "outputId": "e2ce98ca-a3f3-4ca4-ea66-5bd8f7b64534"
      },
      "source": [
        "mean, median = getMeanAndMedian(randomList)\n",
        "print(\"Mean: \", mean, \"; Median: \", median)"
      ],
      "execution_count": 60,
      "outputs": [
        {
          "output_type": "stream",
          "text": [
            "Mean:  45.3 ; Median:  41.0\n"
          ],
          "name": "stdout"
        }
      ]
    },
    {
      "cell_type": "markdown",
      "metadata": {
        "id": "Libdz5U60zgN",
        "colab_type": "text"
      },
      "source": [
        "**FUNCTION VS METHOD**\n",
        "\n",
        "*   A **function** is a piece of code that is called by name. It can be passed data to operate on (i.e. the parameters) and can optionally return data (the return value). All data that is passed to a function is explicitly passed.\n",
        "\n",
        "*   A **method** is a piece of code that is called by a name that is associated with an object. In most respects it is identical to a function except for two key differences: (1) A method is implicitly passed the object on which it was called; (2) A method is able to operate on data that is contained within the class (remembering that an object is an instance of a class - the class is the definition, the object is an instance of that data)."
      ]
    },
    {
      "cell_type": "markdown",
      "metadata": {
        "id": "rGFI8zA19x3A",
        "colab_type": "text"
      },
      "source": [
        "# Working with Collections\n",
        "Collections are useful containers or data structures to store and manipulate list of homogeneous or heterogeneous elements. "
      ]
    },
    {
      "cell_type": "markdown",
      "metadata": {
        "id": "n3QY8scx94vr",
        "colab_type": "text"
      },
      "source": [
        "## List\n",
        "Lists can contain heterogeneous items, that is, a single list can contain items of type\n",
        "integer, float, string, or objects. It is also not a unique set of items, that is, the values can repeat. Lists are mutable and generally initialized with a list of values specified inside square brackets or an empty list."
      ]
    },
    {
      "cell_type": "code",
      "metadata": {
        "id": "-7sQM6bU99nU",
        "colab_type": "code",
        "colab": {}
      },
      "source": [
        "# Create an empty list\n",
        "emptyList = []"
      ],
      "execution_count": 0,
      "outputs": []
    },
    {
      "cell_type": "code",
      "metadata": {
        "id": "qXY_EO1iAFhE",
        "colab_type": "code",
        "colab": {}
      },
      "source": [
        "students = ['Đỗ Tiến Sĩ', 'Bùi Rút Lan', 'Nguyễn Y Vân', 'Vũ Như Cẩn', 'Mai Com Bu Tơ', 'Tiểu Long Nữ']"
      ],
      "execution_count": 0,
      "outputs": []
    },
    {
      "cell_type": "code",
      "metadata": {
        "id": "zAZk3ZXI_K8U",
        "colab_type": "code",
        "colab": {
          "base_uri": "https://localhost:8080/",
          "height": 35
        },
        "outputId": "febd45a3-0efc-4fa7-e8e7-22e750b16eca"
      },
      "source": [
        "students[0]"
      ],
      "execution_count": 63,
      "outputs": [
        {
          "output_type": "execute_result",
          "data": {
            "text/plain": [
              "'Đỗ Tiến Sĩ'"
            ]
          },
          "metadata": {
            "tags": []
          },
          "execution_count": 63
        }
      ]
    },
    {
      "cell_type": "code",
      "metadata": {
        "id": "v0UzY0-v_PFZ",
        "colab_type": "code",
        "colab": {
          "base_uri": "https://localhost:8080/",
          "height": 35
        },
        "outputId": "7f9c42f4-0262-4942-cda4-5f6f64c6d357"
      },
      "source": [
        "# Slicing an list\n",
        "students[0:2]"
      ],
      "execution_count": 64,
      "outputs": [
        {
          "output_type": "execute_result",
          "data": {
            "text/plain": [
              "['Đỗ Tiến Sĩ', 'Bùi Rút Lan']"
            ]
          },
          "metadata": {
            "tags": []
          },
          "execution_count": 64
        }
      ]
    },
    {
      "cell_type": "code",
      "metadata": {
        "id": "GhjBseJR_VHO",
        "colab_type": "code",
        "colab": {
          "base_uri": "https://localhost:8080/",
          "height": 35
        },
        "outputId": "f4fef3de-13de-4dc9-ad91-400079ebb711"
      },
      "source": [
        "# Accessing the last element\n",
        "students[-1]"
      ],
      "execution_count": 65,
      "outputs": [
        {
          "output_type": "execute_result",
          "data": {
            "text/plain": [
              "'Tiểu Long Nữ'"
            ]
          },
          "metadata": {
            "tags": []
          },
          "execution_count": 65
        }
      ]
    },
    {
      "cell_type": "code",
      "metadata": {
        "id": "wgWlua_d_hge",
        "colab_type": "code",
        "colab": {
          "base_uri": "https://localhost:8080/",
          "height": 35
        },
        "outputId": "1e4f7a3c-2e72-41d3-b39a-d7606857e2b0"
      },
      "source": [
        "# how many elements in the list\n",
        "len(students)"
      ],
      "execution_count": 66,
      "outputs": [
        {
          "output_type": "execute_result",
          "data": {
            "text/plain": [
              "6"
            ]
          },
          "metadata": {
            "tags": []
          },
          "execution_count": 66
        }
      ]
    },
    {
      "cell_type": "code",
      "metadata": {
        "id": "eBdIZ7IIAIsV",
        "colab_type": "code",
        "colab": {}
      },
      "source": [
        "lecturers = ['Bình Phương', 'Thập Phương', 'Vô Phương']"
      ],
      "execution_count": 0,
      "outputs": []
    },
    {
      "cell_type": "code",
      "metadata": {
        "id": "F4Y9JUMPAU1s",
        "colab_type": "code",
        "colab": {}
      },
      "source": [
        "people = students + lecturers"
      ],
      "execution_count": 0,
      "outputs": []
    },
    {
      "cell_type": "code",
      "metadata": {
        "id": "GvBDcmJvAZ2m",
        "colab_type": "code",
        "colab": {
          "base_uri": "https://localhost:8080/",
          "height": 178
        },
        "outputId": "ead0f3d0-07b3-4b57-e13d-61c0bbf019ae"
      },
      "source": [
        "people"
      ],
      "execution_count": 69,
      "outputs": [
        {
          "output_type": "execute_result",
          "data": {
            "text/plain": [
              "['Đỗ Tiến Sĩ',\n",
              " 'Bùi Rút Lan',\n",
              " 'Nguyễn Y Vân',\n",
              " 'Vũ Như Cẩn',\n",
              " 'Mai Com Bu Tơ',\n",
              " 'Tiểu Long Nữ',\n",
              " 'Bình Phương',\n",
              " 'Thập Phương',\n",
              " 'Vô Phương']"
            ]
          },
          "metadata": {
            "tags": []
          },
          "execution_count": 69
        }
      ]
    },
    {
      "cell_type": "code",
      "metadata": {
        "id": "hZIhF4jmAfr0",
        "colab_type": "code",
        "colab": {}
      },
      "source": [
        "people.reverse()"
      ],
      "execution_count": 0,
      "outputs": []
    },
    {
      "cell_type": "code",
      "metadata": {
        "id": "ZKMgbkZ3ApBE",
        "colab_type": "code",
        "colab": {
          "base_uri": "https://localhost:8080/",
          "height": 178
        },
        "outputId": "a419cc00-fbc0-4730-8152-fce908f90589"
      },
      "source": [
        "people"
      ],
      "execution_count": 71,
      "outputs": [
        {
          "output_type": "execute_result",
          "data": {
            "text/plain": [
              "['Vô Phương',\n",
              " 'Thập Phương',\n",
              " 'Bình Phương',\n",
              " 'Tiểu Long Nữ',\n",
              " 'Mai Com Bu Tơ',\n",
              " 'Vũ Như Cẩn',\n",
              " 'Nguyễn Y Vân',\n",
              " 'Bùi Rút Lan',\n",
              " 'Đỗ Tiến Sĩ']"
            ]
          },
          "metadata": {
            "tags": []
          },
          "execution_count": 71
        }
      ]
    },
    {
      "cell_type": "code",
      "metadata": {
        "id": "M00tAbe1Aude",
        "colab_type": "code",
        "colab": {
          "base_uri": "https://localhost:8080/",
          "height": 35
        },
        "outputId": "3f37169b-bac9-4c7b-bf89-b07897d56397"
      },
      "source": [
        "people.index('Vô Phương')"
      ],
      "execution_count": 72,
      "outputs": [
        {
          "output_type": "execute_result",
          "data": {
            "text/plain": [
              "0"
            ]
          },
          "metadata": {
            "tags": []
          },
          "execution_count": 72
        }
      ]
    },
    {
      "cell_type": "code",
      "metadata": {
        "id": "FHJEhqKhA1Hl",
        "colab_type": "code",
        "colab": {
          "base_uri": "https://localhost:8080/",
          "height": 35
        },
        "outputId": "aa30cf4a-d685-41c5-c44c-a4e23964bcfe"
      },
      "source": [
        "'Mai Com Bu Tơ' in people"
      ],
      "execution_count": 73,
      "outputs": [
        {
          "output_type": "execute_result",
          "data": {
            "text/plain": [
              "True"
            ]
          },
          "metadata": {
            "tags": []
          },
          "execution_count": 73
        }
      ]
    },
    {
      "cell_type": "markdown",
      "metadata": {
        "id": "bcmsvAU7A-uk",
        "colab_type": "text"
      },
      "source": [
        "## Tuple\n",
        "Tuple is also a list, but it is immutable. Once a tuple has been created it cannot be modified. "
      ]
    },
    {
      "cell_type": "code",
      "metadata": {
        "id": "Fnyx3V3LM7bP",
        "colab_type": "code",
        "colab": {}
      },
      "source": [
        "my_info = ('Bình Phương', 1981)"
      ],
      "execution_count": 0,
      "outputs": []
    },
    {
      "cell_type": "code",
      "metadata": {
        "id": "t6KSA4VBNEl6",
        "colab_type": "code",
        "colab": {
          "base_uri": "https://localhost:8080/",
          "height": 35
        },
        "outputId": "312ca65a-6fef-431e-c517-d9e29f72e478"
      },
      "source": [
        "my_info[0]"
      ],
      "execution_count": 75,
      "outputs": [
        {
          "output_type": "execute_result",
          "data": {
            "text/plain": [
              "'Bình Phương'"
            ]
          },
          "metadata": {
            "tags": []
          },
          "execution_count": 75
        }
      ]
    },
    {
      "cell_type": "code",
      "metadata": {
        "id": "6IFIFj7nNHzM",
        "colab_type": "code",
        "colab": {
          "base_uri": "https://localhost:8080/",
          "height": 169
        },
        "outputId": "4694262a-49e1-4e55-9901-7f4b7cd911f5"
      },
      "source": [
        "my_info[1] = 2020"
      ],
      "execution_count": 76,
      "outputs": [
        {
          "output_type": "error",
          "ename": "TypeError",
          "evalue": "ignored",
          "traceback": [
            "\u001b[0;31m---------------------------------------------------------------------------\u001b[0m",
            "\u001b[0;31mTypeError\u001b[0m                                 Traceback (most recent call last)",
            "\u001b[0;32m<ipython-input-76-b2593852f426>\u001b[0m in \u001b[0;36m<module>\u001b[0;34m()\u001b[0m\n\u001b[0;32m----> 1\u001b[0;31m \u001b[0mmy_info\u001b[0m\u001b[0;34m[\u001b[0m\u001b[0;36m1\u001b[0m\u001b[0;34m]\u001b[0m \u001b[0;34m=\u001b[0m \u001b[0;36m2020\u001b[0m\u001b[0;34m\u001b[0m\u001b[0;34m\u001b[0m\u001b[0m\n\u001b[0m",
            "\u001b[0;31mTypeError\u001b[0m: 'tuple' object does not support item assignment"
          ]
        }
      ]
    },
    {
      "cell_type": "code",
      "metadata": {
        "id": "2q0H2LdEBALz",
        "colab_type": "code",
        "colab": {}
      },
      "source": [
        " # An existing list can be converted into tuple using tuple type cast. \n",
        " # We convert the list people into tuple so that it cannot be modified anymore.\n",
        " people_tuple = tuple(people)"
      ],
      "execution_count": 0,
      "outputs": []
    },
    {
      "cell_type": "code",
      "metadata": {
        "id": "IHdSBetJHvd5",
        "colab_type": "code",
        "colab": {
          "base_uri": "https://localhost:8080/",
          "height": 178
        },
        "outputId": "4edca183-f94e-4364-fd1f-a6230ed771cc"
      },
      "source": [
        "people_tuple"
      ],
      "execution_count": 78,
      "outputs": [
        {
          "output_type": "execute_result",
          "data": {
            "text/plain": [
              "('Vô Phương',\n",
              " 'Thập Phương',\n",
              " 'Bình Phương',\n",
              " 'Tiểu Long Nữ',\n",
              " 'Mai Com Bu Tơ',\n",
              " 'Vũ Như Cẩn',\n",
              " 'Nguyễn Y Vân',\n",
              " 'Bùi Rút Lan',\n",
              " 'Đỗ Tiến Sĩ')"
            ]
          },
          "metadata": {
            "tags": []
          },
          "execution_count": 78
        }
      ]
    },
    {
      "cell_type": "markdown",
      "metadata": {
        "id": "X1BgpAK9BKr8",
        "colab_type": "text"
      },
      "source": [
        "## Set\n",
        "A set is a collection of unique elements, that is, the values cannot repeat. A set can be initialized with a\n",
        "list of items enclosed with curly brackets. The set automatically removes duplicates and contains only unique list of numbers."
      ]
    },
    {
      "cell_type": "code",
      "metadata": {
        "id": "zOmKnBsEBL_N",
        "colab_type": "code",
        "colab": {}
      },
      "source": [
        "setOfNumbers = {6,1,1,2,4,5}"
      ],
      "execution_count": 0,
      "outputs": []
    },
    {
      "cell_type": "code",
      "metadata": {
        "id": "zmE5U9N8Emx9",
        "colab_type": "code",
        "colab": {
          "base_uri": "https://localhost:8080/",
          "height": 35
        },
        "outputId": "1b9e6919-8327-4855-ff20-a39ff2bbcd30"
      },
      "source": [
        "setOfNumbers"
      ],
      "execution_count": 80,
      "outputs": [
        {
          "output_type": "execute_result",
          "data": {
            "text/plain": [
              "{1, 2, 4, 5, 6}"
            ]
          },
          "metadata": {
            "tags": []
          },
          "execution_count": 80
        }
      ]
    },
    {
      "cell_type": "code",
      "metadata": {
        "id": "-ufwgwhfEx70",
        "colab_type": "code",
        "colab": {}
      },
      "source": [
        "set1 = {\"A\", \"B\", \"C\"}\n",
        "set2 = {\"C\", \"D\", \"E\"}"
      ],
      "execution_count": 0,
      "outputs": []
    },
    {
      "cell_type": "code",
      "metadata": {
        "id": "1c7DKUbqE_Dm",
        "colab_type": "code",
        "colab": {
          "base_uri": "https://localhost:8080/",
          "height": 35
        },
        "outputId": "c995ecd7-5606-4271-ca2b-f7ae28f19822"
      },
      "source": [
        "set1.union(set2)"
      ],
      "execution_count": 82,
      "outputs": [
        {
          "output_type": "execute_result",
          "data": {
            "text/plain": [
              "{'A', 'B', 'C', 'D', 'E'}"
            ]
          },
          "metadata": {
            "tags": []
          },
          "execution_count": 82
        }
      ]
    },
    {
      "cell_type": "code",
      "metadata": {
        "id": "MfbOu-04FJ7M",
        "colab_type": "code",
        "colab": {
          "base_uri": "https://localhost:8080/",
          "height": 35
        },
        "outputId": "74939555-92d3-42cd-f1a4-f73707810b08"
      },
      "source": [
        "set1.intersection(set2) "
      ],
      "execution_count": 83,
      "outputs": [
        {
          "output_type": "execute_result",
          "data": {
            "text/plain": [
              "{'C'}"
            ]
          },
          "metadata": {
            "tags": []
          },
          "execution_count": 83
        }
      ]
    },
    {
      "cell_type": "code",
      "metadata": {
        "id": "kDs2QMqNFRjf",
        "colab_type": "code",
        "colab": {
          "base_uri": "https://localhost:8080/",
          "height": 35
        },
        "outputId": "f1d0eb20-3be9-4ec6-cdb8-4ebec457207a"
      },
      "source": [
        "set2.difference(set1)"
      ],
      "execution_count": 84,
      "outputs": [
        {
          "output_type": "execute_result",
          "data": {
            "text/plain": [
              "{'D', 'E'}"
            ]
          },
          "metadata": {
            "tags": []
          },
          "execution_count": 84
        }
      ]
    },
    {
      "cell_type": "markdown",
      "metadata": {
        "id": "cAxoB3TbBQBf",
        "colab_type": "text"
      },
      "source": [
        "## Dictionary\n",
        "Dictionary is a list of key and value pairs. All the keys in a dictionary are unique. "
      ]
    },
    {
      "cell_type": "code",
      "metadata": {
        "id": "d8sYVS7RBSE_",
        "colab_type": "code",
        "colab": {}
      },
      "source": [
        "winners = {2017: \"Vũ Như Cẩn\", \n",
        "           2018: \"Vũ Như Cẩn\",\n",
        "           2019: \"Bùi Rút Lan\"}"
      ],
      "execution_count": 0,
      "outputs": []
    },
    {
      "cell_type": "code",
      "metadata": {
        "id": "dM1OLicCGTGW",
        "colab_type": "code",
        "colab": {
          "base_uri": "https://localhost:8080/",
          "height": 35
        },
        "outputId": "7d8a4f37-f19c-4f03-82c5-794fce5f098a"
      },
      "source": [
        "winners[2018]"
      ],
      "execution_count": 86,
      "outputs": [
        {
          "output_type": "execute_result",
          "data": {
            "text/plain": [
              "'Vũ Như Cẩn'"
            ]
          },
          "metadata": {
            "tags": []
          },
          "execution_count": 86
        }
      ]
    },
    {
      "cell_type": "code",
      "metadata": {
        "id": "Ivb4lCSOGZ5M",
        "colab_type": "code",
        "colab": {
          "base_uri": "https://localhost:8080/",
          "height": 35
        },
        "outputId": "91c79d9a-1d91-4435-dd51-2a5147f204a5"
      },
      "source": [
        "winners.values()"
      ],
      "execution_count": 87,
      "outputs": [
        {
          "output_type": "execute_result",
          "data": {
            "text/plain": [
              "dict_values(['Vũ Như Cẩn', 'Vũ Như Cẩn', 'Bùi Rút Lan'])"
            ]
          },
          "metadata": {
            "tags": []
          },
          "execution_count": 87
        }
      ]
    },
    {
      "cell_type": "code",
      "metadata": {
        "id": "7uS45KDjGfA-",
        "colab_type": "code",
        "colab": {
          "base_uri": "https://localhost:8080/",
          "height": 35
        },
        "outputId": "c9e00b9d-edd4-44f0-fd0b-3dffc3eca47e"
      },
      "source": [
        "# The above list had repeated names of people as they have won multiple times. \n",
        "# To find unique list of people, the above list can be converted to a set.\n",
        "set(winners.values())"
      ],
      "execution_count": 88,
      "outputs": [
        {
          "output_type": "execute_result",
          "data": {
            "text/plain": [
              "{'Bùi Rút Lan', 'Vũ Như Cẩn'}"
            ]
          },
          "metadata": {
            "tags": []
          },
          "execution_count": 88
        }
      ]
    },
    {
      "cell_type": "code",
      "metadata": {
        "id": "ZyAjQld7GrTg",
        "colab_type": "code",
        "colab": {
          "base_uri": "https://localhost:8080/",
          "height": 169
        },
        "outputId": "3b8d6c52-97fb-46da-c64d-b73a711ee1e4"
      },
      "source": [
        "winners[2020]"
      ],
      "execution_count": 89,
      "outputs": [
        {
          "output_type": "error",
          "ename": "KeyError",
          "evalue": "ignored",
          "traceback": [
            "\u001b[0;31m---------------------------------------------------------------------------\u001b[0m",
            "\u001b[0;31mKeyError\u001b[0m                                  Traceback (most recent call last)",
            "\u001b[0;32m<ipython-input-89-a7410bbda854>\u001b[0m in \u001b[0;36m<module>\u001b[0;34m()\u001b[0m\n\u001b[0;32m----> 1\u001b[0;31m \u001b[0mwinners\u001b[0m\u001b[0;34m[\u001b[0m\u001b[0;36m2020\u001b[0m\u001b[0;34m]\u001b[0m\u001b[0;34m\u001b[0m\u001b[0;34m\u001b[0m\u001b[0m\n\u001b[0m",
            "\u001b[0;31mKeyError\u001b[0m: 2020"
          ]
        }
      ]
    },
    {
      "cell_type": "code",
      "metadata": {
        "id": "YEpv00i4GuLE",
        "colab_type": "code",
        "colab": {}
      },
      "source": [
        "winners[2020] = \"Nguyễn Y Vân\""
      ],
      "execution_count": 0,
      "outputs": []
    },
    {
      "cell_type": "code",
      "metadata": {
        "id": "ZFMjzNvFG1Q7",
        "colab_type": "code",
        "colab": {
          "base_uri": "https://localhost:8080/",
          "height": 88
        },
        "outputId": "7c2badee-d2b4-4789-d0ab-899d521d9229"
      },
      "source": [
        "winners"
      ],
      "execution_count": 91,
      "outputs": [
        {
          "output_type": "execute_result",
          "data": {
            "text/plain": [
              "{2017: 'Vũ Như Cẩn',\n",
              " 2018: 'Vũ Như Cẩn',\n",
              " 2019: 'Bùi Rút Lan',\n",
              " 2020: 'Nguyễn Y Vân'}"
            ]
          },
          "metadata": {
            "tags": []
          },
          "execution_count": 91
        }
      ]
    },
    {
      "cell_type": "markdown",
      "metadata": {
        "id": "0VtADRmhBVxv",
        "colab_type": "text"
      },
      "source": [
        "## String\n",
        "\n",
        "Strings in Python are arrays of bytes representing unicode characters. However, Python does not have a character data type, a single character is simply a string with a length of 1. Square brackets can be used to access elements of the string."
      ]
    },
    {
      "cell_type": "code",
      "metadata": {
        "id": "CLWsEOW2BXFt",
        "colab_type": "code",
        "colab": {}
      },
      "source": [
        "string0 = 'python'\n",
        "string1 = \"data science\""
      ],
      "execution_count": 0,
      "outputs": []
    },
    {
      "cell_type": "code",
      "metadata": {
        "id": "CFUtlPCvwO69",
        "colab_type": "code",
        "outputId": "d4e051e8-bc8a-408a-e7bd-8ef8ce3d88a2",
        "colab": {
          "base_uri": "https://localhost:8080/",
          "height": 35
        }
      },
      "source": [
        "print(len(string0))"
      ],
      "execution_count": 93,
      "outputs": [
        {
          "output_type": "stream",
          "text": [
            "6\n"
          ],
          "name": "stdout"
        }
      ]
    },
    {
      "cell_type": "code",
      "metadata": {
        "id": "EXIphmZpBqKV",
        "colab_type": "code",
        "colab": {
          "base_uri": "https://localhost:8080/",
          "height": 35
        },
        "outputId": "4ac1a9b1-8960-46dd-e356-574d24a540f5"
      },
      "source": [
        "# Converting to upper case\n",
        "string0.upper()\n",
        "# Similarly string.lower() can be used to convert to lower case.\n",
        "# string0.lower()"
      ],
      "execution_count": 94,
      "outputs": [
        {
          "output_type": "execute_result",
          "data": {
            "text/plain": [
              "'PYTHON'"
            ]
          },
          "metadata": {
            "tags": []
          },
          "execution_count": 94
        }
      ]
    },
    {
      "cell_type": "code",
      "metadata": {
        "id": "Zay5xb7UBwRO",
        "colab_type": "code",
        "colab": {
          "base_uri": "https://localhost:8080/",
          "height": 35
        },
        "outputId": "6c388ac2-00d9-49e3-89d6-0ab7c89399b4"
      },
      "source": [
        "tokens = string1.split(' ')\n",
        "tokens"
      ],
      "execution_count": 95,
      "outputs": [
        {
          "output_type": "execute_result",
          "data": {
            "text/plain": [
              "['data', 'science']"
            ]
          },
          "metadata": {
            "tags": []
          },
          "execution_count": 95
        }
      ]
    },
    {
      "cell_type": "code",
      "metadata": {
        "id": "EEZME31-NmE-",
        "colab_type": "code",
        "colab": {
          "base_uri": "https://localhost:8080/",
          "height": 35
        },
        "outputId": "66bfca99-c763-4d6f-f780-30ad415c614c"
      },
      "source": [
        "string1[0:4]"
      ],
      "execution_count": 96,
      "outputs": [
        {
          "output_type": "execute_result",
          "data": {
            "text/plain": [
              "'data'"
            ]
          },
          "metadata": {
            "tags": []
          },
          "execution_count": 96
        }
      ]
    },
    {
      "cell_type": "markdown",
      "metadata": {
        "colab_type": "text",
        "id": "QMoQLbJ3Jhvx"
      },
      "source": [
        "---\n",
        "\n",
        "Phuong Nguyen @ [DataScience.vn](https://datascience.vn)"
      ]
    }
  ]
}