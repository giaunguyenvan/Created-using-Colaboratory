{
  "nbformat": 4,
  "nbformat_minor": 0,
  "metadata": {
    "kernelspec": {
      "display_name": "Python 3",
      "language": "python",
      "name": "python3"
    },
    "language_info": {
      "codemirror_mode": {
        "name": "ipython",
        "version": 3
      },
      "file_extension": ".py",
      "mimetype": "text/x-python",
      "name": "python",
      "nbconvert_exporter": "python",
      "pygments_lexer": "ipython3",
      "version": "3.7.1"
    },
    "colab": {
      "name": "Clustering.ipynb",
      "provenance": [],
      "toc_visible": true,
      "include_colab_link": true
    }
  },
  "cells": [
    {
      "cell_type": "markdown",
      "metadata": {
        "id": "view-in-github",
        "colab_type": "text"
      },
      "source": [
        "<a href=\"https://colab.research.google.com/github/nnbphuong/datascience4biz/blob/master/Clustering.ipynb\" target=\"_parent\"><img src=\"https://colab.research.google.com/assets/colab-badge.svg\" alt=\"Open In Colab\"/></a>"
      ]
    },
    {
      "cell_type": "markdown",
      "metadata": {
        "id": "0uwHI3YeiN-0",
        "colab_type": "text"
      },
      "source": [
        "#**CLUSTERING**\n",
        "\n",
        "> Phuong Nguyen  @ <a href=\"https://DataScience.vn\" target=\"_blank\">DataScience.vn</a>\n",
        "> \n",
        "> Dataset: Utilities: https://gist.github.com/nnbphuong/c4d1bba6350925a4d92f00231b075510 \n",
        ">\n",
        "> Corporate data on 22 public utilities in the United States, 8 variables:\n",
        "> *   Fixed-charge covering ratio (income/debt)\n",
        "> *   Rate of return on capital\n",
        "> *   Cost per kilowatt capacity\n",
        "> *   Annual load factor\n",
        "> *   Growth in peak demand\n",
        "> *   Sales (kilowatthour use per year)\n",
        "> *   % nuclear\n",
        "> *   Fuel costs (cents per kilowatthour)"
      ]
    },
    {
      "cell_type": "markdown",
      "metadata": {
        "id": "RpmE4ZZ4X_KL",
        "colab_type": "text"
      },
      "source": [
        "# Import required packages"
      ]
    },
    {
      "cell_type": "code",
      "metadata": {
        "id": "vSj1CPLPiN-3",
        "colab_type": "code",
        "outputId": "729f54c4-e4b8-48d9-a4fd-02c4e1b91f34",
        "colab": {
          "base_uri": "https://localhost:8080/",
          "height": 73
        }
      },
      "source": [
        "%matplotlib inline\n",
        "\n",
        "from pathlib import Path\n",
        "\n",
        "import pandas as pd\n",
        "from sklearn import preprocessing\n",
        "from sklearn.metrics import pairwise\n",
        "from scipy.cluster.hierarchy import dendrogram, linkage, fcluster\n",
        "from sklearn.cluster import KMeans\n",
        "import matplotlib.pylab as plt\n",
        "import seaborn as sns\n",
        "from pandas.plotting import parallel_coordinates\n"
      ],
      "execution_count": 2,
      "outputs": [
        {
          "output_type": "stream",
          "text": [
            "/usr/local/lib/python3.6/dist-packages/statsmodels/tools/_testing.py:19: FutureWarning: pandas.util.testing is deprecated. Use the functions in the public API at pandas.testing instead.\n",
            "  import pandas.util.testing as tm\n"
          ],
          "name": "stderr"
        }
      ]
    },
    {
      "cell_type": "markdown",
      "metadata": {
        "id": "rcPfbkMsiN_N",
        "colab_type": "text"
      },
      "source": [
        "# Load data\n",
        "Load the data, set row names (index) to the utilities column (company) and remove it. Convert all columns to `float`"
      ]
    },
    {
      "cell_type": "code",
      "metadata": {
        "id": "w0zr1dhUiN_U",
        "colab_type": "code",
        "outputId": "31be81f1-2a18-43aa-a521-85925c390b39",
        "colab": {
          "base_uri": "https://localhost:8080/",
          "height": 238
        }
      },
      "source": [
        "utilities_df = pd.read_csv('https://gist.githubusercontent.com/nnbphuong/c4d1bba6350925a4d92f00231b075510/raw/ecb16ca0af0f83034e5d87e474aed86b3b37501c/Utilities.csv')\n",
        "utilities_df.set_index('Company', inplace=True)\n",
        "\n",
        "# while not required, the conversion of integer data to float will avoid a warning when applying the scale function\n",
        "utilities_df = utilities_df.apply(lambda x: x.astype('float64'))\n",
        "utilities_df.head(5)"
      ],
      "execution_count": 10,
      "outputs": [
        {
          "output_type": "execute_result",
          "data": {
            "text/html": [
              "<div>\n",
              "<style scoped>\n",
              "    .dataframe tbody tr th:only-of-type {\n",
              "        vertical-align: middle;\n",
              "    }\n",
              "\n",
              "    .dataframe tbody tr th {\n",
              "        vertical-align: top;\n",
              "    }\n",
              "\n",
              "    .dataframe thead th {\n",
              "        text-align: right;\n",
              "    }\n",
              "</style>\n",
              "<table border=\"1\" class=\"dataframe\">\n",
              "  <thead>\n",
              "    <tr style=\"text-align: right;\">\n",
              "      <th></th>\n",
              "      <th>Fixed_charge</th>\n",
              "      <th>RoR</th>\n",
              "      <th>Cost</th>\n",
              "      <th>Load_factor</th>\n",
              "      <th>Demand_growth</th>\n",
              "      <th>Sales</th>\n",
              "      <th>Nuclear</th>\n",
              "      <th>Fuel_Cost</th>\n",
              "    </tr>\n",
              "    <tr>\n",
              "      <th>Company</th>\n",
              "      <th></th>\n",
              "      <th></th>\n",
              "      <th></th>\n",
              "      <th></th>\n",
              "      <th></th>\n",
              "      <th></th>\n",
              "      <th></th>\n",
              "      <th></th>\n",
              "    </tr>\n",
              "  </thead>\n",
              "  <tbody>\n",
              "    <tr>\n",
              "      <th>Arizona</th>\n",
              "      <td>1.06</td>\n",
              "      <td>9.2</td>\n",
              "      <td>151.0</td>\n",
              "      <td>54.4</td>\n",
              "      <td>1.6</td>\n",
              "      <td>9077.0</td>\n",
              "      <td>0.0</td>\n",
              "      <td>0.628</td>\n",
              "    </tr>\n",
              "    <tr>\n",
              "      <th>Boston</th>\n",
              "      <td>0.89</td>\n",
              "      <td>10.3</td>\n",
              "      <td>202.0</td>\n",
              "      <td>57.9</td>\n",
              "      <td>2.2</td>\n",
              "      <td>5088.0</td>\n",
              "      <td>25.3</td>\n",
              "      <td>1.555</td>\n",
              "    </tr>\n",
              "    <tr>\n",
              "      <th>Central</th>\n",
              "      <td>1.43</td>\n",
              "      <td>15.4</td>\n",
              "      <td>113.0</td>\n",
              "      <td>53.0</td>\n",
              "      <td>3.4</td>\n",
              "      <td>9212.0</td>\n",
              "      <td>0.0</td>\n",
              "      <td>1.058</td>\n",
              "    </tr>\n",
              "    <tr>\n",
              "      <th>Commonwealth</th>\n",
              "      <td>1.02</td>\n",
              "      <td>11.2</td>\n",
              "      <td>168.0</td>\n",
              "      <td>56.0</td>\n",
              "      <td>0.3</td>\n",
              "      <td>6423.0</td>\n",
              "      <td>34.3</td>\n",
              "      <td>0.700</td>\n",
              "    </tr>\n",
              "    <tr>\n",
              "      <th>NY</th>\n",
              "      <td>1.49</td>\n",
              "      <td>8.8</td>\n",
              "      <td>192.0</td>\n",
              "      <td>51.2</td>\n",
              "      <td>1.0</td>\n",
              "      <td>3300.0</td>\n",
              "      <td>15.6</td>\n",
              "      <td>2.044</td>\n",
              "    </tr>\n",
              "  </tbody>\n",
              "</table>\n",
              "</div>"
            ],
            "text/plain": [
              "              Fixed_charge   RoR   Cost  ...   Sales  Nuclear  Fuel_Cost\n",
              "Company                                  ...                            \n",
              "Arizona               1.06   9.2  151.0  ...  9077.0      0.0      0.628\n",
              "Boston                0.89  10.3  202.0  ...  5088.0     25.3      1.555\n",
              "Central               1.43  15.4  113.0  ...  9212.0      0.0      1.058\n",
              "Commonwealth          1.02  11.2  168.0  ...  6423.0     34.3      0.700\n",
              "NY                    1.49   8.8  192.0  ...  3300.0     15.6      2.044\n",
              "\n",
              "[5 rows x 8 columns]"
            ]
          },
          "metadata": {
            "tags": []
          },
          "execution_count": 10
        }
      ]
    },
    {
      "cell_type": "markdown",
      "metadata": {
        "id": "zANcsfo3iN_q",
        "colab_type": "text"
      },
      "source": [
        "## Measure distance between two records\n",
        "Compute Euclidean distance matrix (to compute other metrics, change the name of `metric` argument)"
      ]
    },
    {
      "cell_type": "code",
      "metadata": {
        "id": "jec_hJvviN_w",
        "colab_type": "code",
        "outputId": "863f450c-901e-41da-8c6e-cb3a6c327e0e",
        "colab": {
          "base_uri": "https://localhost:8080/",
          "height": 275
        }
      },
      "source": [
        "d = pairwise.pairwise_distances(utilities_df, metric='euclidean')\n",
        "pd.DataFrame(d, columns=utilities_df.index, index=utilities_df.index).head(5)"
      ],
      "execution_count": 11,
      "outputs": [
        {
          "output_type": "execute_result",
          "data": {
            "text/html": [
              "<div>\n",
              "<style scoped>\n",
              "    .dataframe tbody tr th:only-of-type {\n",
              "        vertical-align: middle;\n",
              "    }\n",
              "\n",
              "    .dataframe tbody tr th {\n",
              "        vertical-align: top;\n",
              "    }\n",
              "\n",
              "    .dataframe thead th {\n",
              "        text-align: right;\n",
              "    }\n",
              "</style>\n",
              "<table border=\"1\" class=\"dataframe\">\n",
              "  <thead>\n",
              "    <tr style=\"text-align: right;\">\n",
              "      <th>Company</th>\n",
              "      <th>Arizona</th>\n",
              "      <th>Boston</th>\n",
              "      <th>Central</th>\n",
              "      <th>Commonwealth</th>\n",
              "      <th>NY</th>\n",
              "      <th>Florida</th>\n",
              "      <th>Hawaiian</th>\n",
              "      <th>Idaho</th>\n",
              "      <th>Kentucky</th>\n",
              "      <th>Madison</th>\n",
              "      <th>Nevada</th>\n",
              "      <th>New England</th>\n",
              "      <th>Northern</th>\n",
              "      <th>Oklahoma</th>\n",
              "      <th>Pacific</th>\n",
              "      <th>Puget</th>\n",
              "      <th>San Diego</th>\n",
              "      <th>Southern</th>\n",
              "      <th>Texas</th>\n",
              "      <th>Wisconsin</th>\n",
              "      <th>United</th>\n",
              "      <th>Virginia</th>\n",
              "    </tr>\n",
              "    <tr>\n",
              "      <th>Company</th>\n",
              "      <th></th>\n",
              "      <th></th>\n",
              "      <th></th>\n",
              "      <th></th>\n",
              "      <th></th>\n",
              "      <th></th>\n",
              "      <th></th>\n",
              "      <th></th>\n",
              "      <th></th>\n",
              "      <th></th>\n",
              "      <th></th>\n",
              "      <th></th>\n",
              "      <th></th>\n",
              "      <th></th>\n",
              "      <th></th>\n",
              "      <th></th>\n",
              "      <th></th>\n",
              "      <th></th>\n",
              "      <th></th>\n",
              "      <th></th>\n",
              "      <th></th>\n",
              "      <th></th>\n",
              "    </tr>\n",
              "  </thead>\n",
              "  <tbody>\n",
              "    <tr>\n",
              "      <th>Arizona</th>\n",
              "      <td>0.000000</td>\n",
              "      <td>3989.408076</td>\n",
              "      <td>140.402855</td>\n",
              "      <td>2654.277632</td>\n",
              "      <td>5777.167672</td>\n",
              "      <td>2050.529440</td>\n",
              "      <td>1435.265019</td>\n",
              "      <td>4006.104187</td>\n",
              "      <td>671.276346</td>\n",
              "      <td>2622.699002</td>\n",
              "      <td>8364.031051</td>\n",
              "      <td>2923.136103</td>\n",
              "      <td>1899.279821</td>\n",
              "      <td>598.556633</td>\n",
              "      <td>2609.045363</td>\n",
              "      <td>6914.742065</td>\n",
              "      <td>3363.061626</td>\n",
              "      <td>1063.009074</td>\n",
              "      <td>4430.251585</td>\n",
              "      <td>1790.485648</td>\n",
              "      <td>2427.588875</td>\n",
              "      <td>1016.617691</td>\n",
              "    </tr>\n",
              "    <tr>\n",
              "      <th>Boston</th>\n",
              "      <td>3989.408076</td>\n",
              "      <td>0.000000</td>\n",
              "      <td>4125.044132</td>\n",
              "      <td>1335.466502</td>\n",
              "      <td>1788.068027</td>\n",
              "      <td>6039.689076</td>\n",
              "      <td>2554.287162</td>\n",
              "      <td>7994.155985</td>\n",
              "      <td>3318.276558</td>\n",
              "      <td>1367.090634</td>\n",
              "      <td>12353.062698</td>\n",
              "      <td>1066.579432</td>\n",
              "      <td>2091.160485</td>\n",
              "      <td>4586.302564</td>\n",
              "      <td>1380.749962</td>\n",
              "      <td>10903.146464</td>\n",
              "      <td>629.760748</td>\n",
              "      <td>5052.331669</td>\n",
              "      <td>8419.610541</td>\n",
              "      <td>2199.721665</td>\n",
              "      <td>1562.210811</td>\n",
              "      <td>5005.081262</td>\n",
              "    </tr>\n",
              "    <tr>\n",
              "      <th>Central</th>\n",
              "      <td>140.402855</td>\n",
              "      <td>4125.044132</td>\n",
              "      <td>0.000000</td>\n",
              "      <td>2789.759674</td>\n",
              "      <td>5912.552908</td>\n",
              "      <td>1915.155154</td>\n",
              "      <td>1571.295401</td>\n",
              "      <td>3872.257626</td>\n",
              "      <td>807.920792</td>\n",
              "      <td>2758.559663</td>\n",
              "      <td>8229.223281</td>\n",
              "      <td>3058.707429</td>\n",
              "      <td>2035.441520</td>\n",
              "      <td>461.341670</td>\n",
              "      <td>2744.502847</td>\n",
              "      <td>6780.430307</td>\n",
              "      <td>3498.113013</td>\n",
              "      <td>928.749249</td>\n",
              "      <td>4295.014690</td>\n",
              "      <td>1925.772564</td>\n",
              "      <td>2563.637362</td>\n",
              "      <td>883.535455</td>\n",
              "    </tr>\n",
              "    <tr>\n",
              "      <th>Commonwealth</th>\n",
              "      <td>2654.277632</td>\n",
              "      <td>1335.466502</td>\n",
              "      <td>2789.759674</td>\n",
              "      <td>0.000000</td>\n",
              "      <td>3123.153215</td>\n",
              "      <td>4704.363099</td>\n",
              "      <td>1219.560005</td>\n",
              "      <td>6659.534567</td>\n",
              "      <td>1983.314354</td>\n",
              "      <td>43.648894</td>\n",
              "      <td>11018.057812</td>\n",
              "      <td>271.452731</td>\n",
              "      <td>756.831954</td>\n",
              "      <td>3250.984589</td>\n",
              "      <td>56.644626</td>\n",
              "      <td>9568.434429</td>\n",
              "      <td>710.292965</td>\n",
              "      <td>3717.202963</td>\n",
              "      <td>7084.372839</td>\n",
              "      <td>864.273153</td>\n",
              "      <td>232.476871</td>\n",
              "      <td>3670.018191</td>\n",
              "    </tr>\n",
              "    <tr>\n",
              "      <th>NY</th>\n",
              "      <td>5777.167672</td>\n",
              "      <td>1788.068027</td>\n",
              "      <td>5912.552908</td>\n",
              "      <td>3123.153215</td>\n",
              "      <td>0.000000</td>\n",
              "      <td>7827.429211</td>\n",
              "      <td>4342.093798</td>\n",
              "      <td>9782.158178</td>\n",
              "      <td>5106.094153</td>\n",
              "      <td>3155.095594</td>\n",
              "      <td>14141.022579</td>\n",
              "      <td>2854.099482</td>\n",
              "      <td>3879.167462</td>\n",
              "      <td>6373.743249</td>\n",
              "      <td>3168.177463</td>\n",
              "      <td>12691.155108</td>\n",
              "      <td>2414.698757</td>\n",
              "      <td>6840.150291</td>\n",
              "      <td>10207.392630</td>\n",
              "      <td>3987.335962</td>\n",
              "      <td>3350.073118</td>\n",
              "      <td>6793.035300</td>\n",
              "    </tr>\n",
              "  </tbody>\n",
              "</table>\n",
              "</div>"
            ],
            "text/plain": [
              "Company          Arizona       Boston   ...       United     Virginia\n",
              "Company                                 ...                          \n",
              "Arizona          0.000000  3989.408076  ...  2427.588875  1016.617691\n",
              "Boston        3989.408076     0.000000  ...  1562.210811  5005.081262\n",
              "Central        140.402855  4125.044132  ...  2563.637362   883.535455\n",
              "Commonwealth  2654.277632  1335.466502  ...   232.476871  3670.018191\n",
              "NY            5777.167672  1788.068027  ...  3350.073118  6793.035300\n",
              "\n",
              "[5 rows x 22 columns]"
            ]
          },
          "metadata": {
            "tags": []
          },
          "execution_count": 11
        }
      ]
    },
    {
      "cell_type": "code",
      "metadata": {
        "id": "50VDsd8X2cOX",
        "colab_type": "code",
        "outputId": "4a129ccd-52f8-40a8-d21e-0c5e159e61cf",
        "colab": {
          "base_uri": "https://localhost:8080/",
          "height": 178
        }
      },
      "source": [
        "pairwise.distance_metrics()"
      ],
      "execution_count": 12,
      "outputs": [
        {
          "output_type": "execute_result",
          "data": {
            "text/plain": [
              "{'cityblock': <function sklearn.metrics.pairwise.manhattan_distances>,\n",
              " 'cosine': <function sklearn.metrics.pairwise.cosine_distances>,\n",
              " 'euclidean': <function sklearn.metrics.pairwise.euclidean_distances>,\n",
              " 'haversine': <function sklearn.metrics.pairwise.haversine_distances>,\n",
              " 'l1': <function sklearn.metrics.pairwise.manhattan_distances>,\n",
              " 'l2': <function sklearn.metrics.pairwise.euclidean_distances>,\n",
              " 'manhattan': <function sklearn.metrics.pairwise.manhattan_distances>,\n",
              " 'nan_euclidean': <function sklearn.metrics.pairwise.nan_euclidean_distances>,\n",
              " 'precomputed': None}"
            ]
          },
          "metadata": {
            "tags": []
          },
          "execution_count": 12
        }
      ]
    },
    {
      "cell_type": "markdown",
      "metadata": {
        "id": "N5qH7FwaiOAA",
        "colab_type": "text"
      },
      "source": [
        "## Normalizing\n",
        "\n",
        "Here are two ways to normalize the input variables. Pandas calculates by default the sample standard deviation, whereas scikit-learn uses the population standard deviation. The normalized data from the two methods will therefore differ slightly. We will use the Pandas approach as it is equivalent to the R implementation of scale."
      ]
    },
    {
      "cell_type": "code",
      "metadata": {
        "id": "JCIpufqWiOAD",
        "colab_type": "code",
        "outputId": "d779f074-44c6-40a4-975d-4d6fbe3bd147",
        "colab": {
          "base_uri": "https://localhost:8080/",
          "height": 238
        }
      },
      "source": [
        "# scikit-learn uses population standard deviation\n",
        "utilities_df_norm = utilities_df.apply(preprocessing.scale, axis=0)\n",
        "\n",
        "# pandas uses sample standard deviation\n",
        "utilities_df_norm = (utilities_df - utilities_df.mean())/utilities_df.std()\n",
        "\n",
        "utilities_df_norm[['Sales', 'Fuel_Cost']].head(5)"
      ],
      "execution_count": 13,
      "outputs": [
        {
          "output_type": "execute_result",
          "data": {
            "text/html": [
              "<div>\n",
              "<style scoped>\n",
              "    .dataframe tbody tr th:only-of-type {\n",
              "        vertical-align: middle;\n",
              "    }\n",
              "\n",
              "    .dataframe tbody tr th {\n",
              "        vertical-align: top;\n",
              "    }\n",
              "\n",
              "    .dataframe thead th {\n",
              "        text-align: right;\n",
              "    }\n",
              "</style>\n",
              "<table border=\"1\" class=\"dataframe\">\n",
              "  <thead>\n",
              "    <tr style=\"text-align: right;\">\n",
              "      <th></th>\n",
              "      <th>Sales</th>\n",
              "      <th>Fuel_Cost</th>\n",
              "    </tr>\n",
              "    <tr>\n",
              "      <th>Company</th>\n",
              "      <th></th>\n",
              "      <th></th>\n",
              "    </tr>\n",
              "  </thead>\n",
              "  <tbody>\n",
              "    <tr>\n",
              "      <th>Arizona</th>\n",
              "      <td>0.045903</td>\n",
              "      <td>-0.853675</td>\n",
              "    </tr>\n",
              "    <tr>\n",
              "      <th>Boston</th>\n",
              "      <td>-1.077764</td>\n",
              "      <td>0.813297</td>\n",
              "    </tr>\n",
              "    <tr>\n",
              "      <th>Central</th>\n",
              "      <td>0.083931</td>\n",
              "      <td>-0.080431</td>\n",
              "    </tr>\n",
              "    <tr>\n",
              "      <th>Commonwealth</th>\n",
              "      <td>-0.701706</td>\n",
              "      <td>-0.724202</td>\n",
              "    </tr>\n",
              "    <tr>\n",
              "      <th>NY</th>\n",
              "      <td>-1.581428</td>\n",
              "      <td>1.692638</td>\n",
              "    </tr>\n",
              "  </tbody>\n",
              "</table>\n",
              "</div>"
            ],
            "text/plain": [
              "                 Sales  Fuel_Cost\n",
              "Company                          \n",
              "Arizona       0.045903  -0.853675\n",
              "Boston       -1.077764   0.813297\n",
              "Central       0.083931  -0.080431\n",
              "Commonwealth -0.701706  -0.724202\n",
              "NY           -1.581428   1.692638"
            ]
          },
          "metadata": {
            "tags": []
          },
          "execution_count": 13
        }
      ]
    },
    {
      "cell_type": "code",
      "metadata": {
        "id": "fQDFlyZ8uU1H",
        "colab_type": "code",
        "outputId": "aa3519fe-b0d3-483e-b400-4be3b8afeb44",
        "colab": {
          "base_uri": "https://localhost:8080/",
          "height": 275
        }
      },
      "source": [
        "# compute normalized distance based on Sales and Fuel Cost\n",
        "d_norm = pairwise.pairwise_distances(utilities_df_norm[['Sales', 'Fuel_Cost']], metric='euclidean')\n",
        "pd.DataFrame(d_norm, columns=utilities_df.index, index=utilities_df.index).head(5)"
      ],
      "execution_count": 14,
      "outputs": [
        {
          "output_type": "execute_result",
          "data": {
            "text/html": [
              "<div>\n",
              "<style scoped>\n",
              "    .dataframe tbody tr th:only-of-type {\n",
              "        vertical-align: middle;\n",
              "    }\n",
              "\n",
              "    .dataframe tbody tr th {\n",
              "        vertical-align: top;\n",
              "    }\n",
              "\n",
              "    .dataframe thead th {\n",
              "        text-align: right;\n",
              "    }\n",
              "</style>\n",
              "<table border=\"1\" class=\"dataframe\">\n",
              "  <thead>\n",
              "    <tr style=\"text-align: right;\">\n",
              "      <th>Company</th>\n",
              "      <th>Arizona</th>\n",
              "      <th>Boston</th>\n",
              "      <th>Central</th>\n",
              "      <th>Commonwealth</th>\n",
              "      <th>NY</th>\n",
              "      <th>Florida</th>\n",
              "      <th>Hawaiian</th>\n",
              "      <th>Idaho</th>\n",
              "      <th>Kentucky</th>\n",
              "      <th>Madison</th>\n",
              "      <th>Nevada</th>\n",
              "      <th>New England</th>\n",
              "      <th>Northern</th>\n",
              "      <th>Oklahoma</th>\n",
              "      <th>Pacific</th>\n",
              "      <th>Puget</th>\n",
              "      <th>San Diego</th>\n",
              "      <th>Southern</th>\n",
              "      <th>Texas</th>\n",
              "      <th>Wisconsin</th>\n",
              "      <th>United</th>\n",
              "      <th>Virginia</th>\n",
              "    </tr>\n",
              "    <tr>\n",
              "      <th>Company</th>\n",
              "      <th></th>\n",
              "      <th></th>\n",
              "      <th></th>\n",
              "      <th></th>\n",
              "      <th></th>\n",
              "      <th></th>\n",
              "      <th></th>\n",
              "      <th></th>\n",
              "      <th></th>\n",
              "      <th></th>\n",
              "      <th></th>\n",
              "      <th></th>\n",
              "      <th></th>\n",
              "      <th></th>\n",
              "      <th></th>\n",
              "      <th></th>\n",
              "      <th></th>\n",
              "      <th></th>\n",
              "      <th></th>\n",
              "      <th></th>\n",
              "      <th></th>\n",
              "      <th></th>\n",
              "    </tr>\n",
              "  </thead>\n",
              "  <tbody>\n",
              "    <tr>\n",
              "      <th>Arizona</th>\n",
              "      <td>0.000000</td>\n",
              "      <td>2.010329</td>\n",
              "      <td>0.774179</td>\n",
              "      <td>0.758738</td>\n",
              "      <td>3.021907</td>\n",
              "      <td>1.244422</td>\n",
              "      <td>1.885248</td>\n",
              "      <td>1.265638</td>\n",
              "      <td>0.461292</td>\n",
              "      <td>0.738650</td>\n",
              "      <td>2.369479</td>\n",
              "      <td>2.425975</td>\n",
              "      <td>0.564657</td>\n",
              "      <td>0.182648</td>\n",
              "      <td>1.570780</td>\n",
              "      <td>1.947668</td>\n",
              "      <td>2.509043</td>\n",
              "      <td>0.913621</td>\n",
              "      <td>1.247976</td>\n",
              "      <td>0.521491</td>\n",
              "      <td>2.761745</td>\n",
              "      <td>1.252350</td>\n",
              "    </tr>\n",
              "    <tr>\n",
              "      <th>Boston</th>\n",
              "      <td>2.010329</td>\n",
              "      <td>0.000000</td>\n",
              "      <td>1.465703</td>\n",
              "      <td>1.582821</td>\n",
              "      <td>1.013370</td>\n",
              "      <td>1.792397</td>\n",
              "      <td>0.740283</td>\n",
              "      <td>3.176654</td>\n",
              "      <td>1.557738</td>\n",
              "      <td>1.719632</td>\n",
              "      <td>3.756513</td>\n",
              "      <td>0.684393</td>\n",
              "      <td>1.940166</td>\n",
              "      <td>2.166078</td>\n",
              "      <td>0.478334</td>\n",
              "      <td>3.501390</td>\n",
              "      <td>0.679634</td>\n",
              "      <td>1.634425</td>\n",
              "      <td>2.890560</td>\n",
              "      <td>1.654255</td>\n",
              "      <td>1.100595</td>\n",
              "      <td>1.479261</td>\n",
              "    </tr>\n",
              "    <tr>\n",
              "      <th>Central</th>\n",
              "      <td>0.774179</td>\n",
              "      <td>1.465703</td>\n",
              "      <td>0.000000</td>\n",
              "      <td>1.015710</td>\n",
              "      <td>2.432528</td>\n",
              "      <td>0.631892</td>\n",
              "      <td>1.156092</td>\n",
              "      <td>1.732777</td>\n",
              "      <td>0.419254</td>\n",
              "      <td>1.102287</td>\n",
              "      <td>2.375975</td>\n",
              "      <td>1.737322</td>\n",
              "      <td>1.113433</td>\n",
              "      <td>0.855093</td>\n",
              "      <td>0.987772</td>\n",
              "      <td>2.065643</td>\n",
              "      <td>1.836762</td>\n",
              "      <td>0.276440</td>\n",
              "      <td>1.428159</td>\n",
              "      <td>0.838967</td>\n",
              "      <td>2.034824</td>\n",
              "      <td>0.510365</td>\n",
              "    </tr>\n",
              "    <tr>\n",
              "      <th>Commonwealth</th>\n",
              "      <td>0.758738</td>\n",
              "      <td>1.582821</td>\n",
              "      <td>1.015710</td>\n",
              "      <td>0.000000</td>\n",
              "      <td>2.571969</td>\n",
              "      <td>1.643857</td>\n",
              "      <td>1.746027</td>\n",
              "      <td>2.003230</td>\n",
              "      <td>0.629994</td>\n",
              "      <td>0.138758</td>\n",
              "      <td>3.106084</td>\n",
              "      <td>2.153831</td>\n",
              "      <td>0.377004</td>\n",
              "      <td>0.937389</td>\n",
              "      <td>1.258835</td>\n",
              "      <td>2.699060</td>\n",
              "      <td>2.202930</td>\n",
              "      <td>1.278514</td>\n",
              "      <td>1.998818</td>\n",
              "      <td>0.243408</td>\n",
              "      <td>2.547116</td>\n",
              "      <td>1.502093</td>\n",
              "    </tr>\n",
              "    <tr>\n",
              "      <th>NY</th>\n",
              "      <td>3.021907</td>\n",
              "      <td>1.013370</td>\n",
              "      <td>2.432528</td>\n",
              "      <td>2.571969</td>\n",
              "      <td>0.000000</td>\n",
              "      <td>2.635573</td>\n",
              "      <td>1.411695</td>\n",
              "      <td>4.162561</td>\n",
              "      <td>2.566439</td>\n",
              "      <td>2.705445</td>\n",
              "      <td>4.597006</td>\n",
              "      <td>0.846291</td>\n",
              "      <td>2.938637</td>\n",
              "      <td>3.174588</td>\n",
              "      <td>1.462019</td>\n",
              "      <td>4.397433</td>\n",
              "      <td>0.715629</td>\n",
              "      <td>2.558409</td>\n",
              "      <td>3.831132</td>\n",
              "      <td>2.661786</td>\n",
              "      <td>0.952507</td>\n",
              "      <td>2.328691</td>\n",
              "    </tr>\n",
              "  </tbody>\n",
              "</table>\n",
              "</div>"
            ],
            "text/plain": [
              "Company       Arizona    Boston   Central   ...  Wisconsin    United  Virginia\n",
              "Company                                     ...                               \n",
              "Arizona       0.000000  2.010329  0.774179  ...   0.521491  2.761745  1.252350\n",
              "Boston        2.010329  0.000000  1.465703  ...   1.654255  1.100595  1.479261\n",
              "Central       0.774179  1.465703  0.000000  ...   0.838967  2.034824  0.510365\n",
              "Commonwealth  0.758738  1.582821  1.015710  ...   0.243408  2.547116  1.502093\n",
              "NY            3.021907  1.013370  2.432528  ...   2.661786  0.952507  2.328691\n",
              "\n",
              "[5 rows x 22 columns]"
            ]
          },
          "metadata": {
            "tags": []
          },
          "execution_count": 14
        }
      ]
    },
    {
      "cell_type": "markdown",
      "metadata": {
        "id": "Xg2QeGXZiOAU",
        "colab_type": "text"
      },
      "source": [
        "# Agglomerative clustering\n"
      ]
    },
    {
      "cell_type": "code",
      "metadata": {
        "scrolled": false,
        "id": "cnh8Xl8fiOAX",
        "colab_type": "code",
        "outputId": "70e5f3ed-8628-4eea-f902-c167ee77cc31",
        "colab": {
          "base_uri": "https://localhost:8080/",
          "height": 411
        }
      },
      "source": [
        "Z = linkage(utilities_df_norm, method='single')\n",
        "\n",
        "fig = plt.figure(figsize=(10, 6))\n",
        "fig.subplots_adjust(bottom=0.23)\n",
        "plt.title('Hierarchical Clustering Dendrogram (Single linkage)')\n",
        "plt.xlabel('Company')\n",
        "dendrogram(Z, labels=utilities_df_norm.index, color_threshold=2.75)\n",
        "plt.axhline(y=2.75, color='black', linewidth=0.5, linestyle='dashed')\n",
        "plt.show()"
      ],
      "execution_count": 15,
      "outputs": [
        {
          "output_type": "display_data",
          "data": {
            "image/png": "[encoded data removed]",
            "text/plain": [
              "<Figure size 720x432 with 1 Axes>"
            ]
          },
          "metadata": {
            "tags": [],
            "needs_background": "light"
          }
        }
      ]
    },
    {
      "cell_type": "code",
      "metadata": {
        "id": "tJEM2uEMiOAp",
        "colab_type": "code",
        "outputId": "47de9b8f-983a-4b43-b9ba-e8b2f9e52bc3",
        "colab": {
          "base_uri": "https://localhost:8080/",
          "height": 411
        }
      },
      "source": [
        "Z = linkage(utilities_df_norm, method='average')\n",
        "\n",
        "fig = plt.figure(figsize=(10, 6))\n",
        "fig.subplots_adjust(bottom=0.23)\n",
        "plt.title('Hierarchical Clustering Dendrogram (Average linkage)')\n",
        "plt.xlabel('Company')\n",
        "dendrogram(Z, labels=utilities_df_norm.index, color_threshold=3.6)\n",
        "plt.axhline(y=3.6, color='black', linewidth=0.5, linestyle='dashed')\n",
        "plt.show()"
      ],
      "execution_count": 16,
      "outputs": [
        {
          "output_type": "display_data",
          "data": {
            "image/png": "[encoded data removed]",
            "text/plain": [
              "<Figure size 720x432 with 1 Axes>"
            ]
          },
          "metadata": {
            "tags": [],
            "needs_background": "light"
          }
        }
      ]
    },
    {
      "cell_type": "markdown",
      "metadata": {
        "id": "AW9LqIKgiOA3",
        "colab_type": "text"
      },
      "source": [
        "## Find cluster membership"
      ]
    },
    {
      "cell_type": "code",
      "metadata": {
        "id": "wxY7DrZziOA5",
        "colab_type": "code",
        "outputId": "8a43bdd1-591b-47bc-95ea-a0f10c42610c",
        "colab": {
          "base_uri": "https://localhost:8080/",
          "height": 144
        }
      },
      "source": [
        "memb = fcluster(linkage(utilities_df_norm, 'single'), 6, criterion='maxclust')\n",
        "memb = pd.Series(memb, index=utilities_df_norm.index)\n",
        "for key, item in memb.groupby(memb):\n",
        "    print(key, ': ', ', '.join(item.index))"
      ],
      "execution_count": 17,
      "outputs": [
        {
          "output_type": "stream",
          "text": [
            "1 :  Idaho, Puget\n",
            "2 :  Arizona , Boston , Commonwealth, Florida , Hawaiian , Kentucky, Madison , New England, Northern, Oklahoma, Pacific , Southern, Texas, Wisconsin, United, Virginia\n",
            "3 :  Central \n",
            "4 :  San Diego\n",
            "5 :  Nevada\n",
            "6 :  NY\n"
          ],
          "name": "stdout"
        }
      ]
    },
    {
      "cell_type": "code",
      "metadata": {
        "id": "3n64drzCiOBG",
        "colab_type": "code",
        "outputId": "1a86a9ae-e06d-4ab3-af2a-738f88e2b40e",
        "colab": {
          "base_uri": "https://localhost:8080/",
          "height": 124
        }
      },
      "source": [
        "memb = fcluster(linkage(utilities_df_norm, 'average'), 6, criterion='maxclust')\n",
        "memb = pd.Series(memb, index=utilities_df_norm.index)\n",
        "for key, item in memb.groupby(memb):\n",
        "    print(key, ': ', ', '.join(item.index))"
      ],
      "execution_count": 18,
      "outputs": [
        {
          "output_type": "stream",
          "text": [
            "1 :  Idaho, Nevada, Puget\n",
            "2 :  Hawaiian , New England, Pacific , United\n",
            "3 :  San Diego\n",
            "4 :  Boston , Commonwealth, Madison , Northern, Wisconsin, Virginia\n",
            "5 :  Arizona , Central , Florida , Kentucky, Oklahoma, Southern, Texas\n",
            "6 :  NY\n"
          ],
          "name": "stdout"
        }
      ]
    },
    {
      "cell_type": "markdown",
      "metadata": {
        "id": "1mpIjJxfiOBS",
        "colab_type": "text"
      },
      "source": [
        "## Visualize cluster features with heatmap"
      ]
    },
    {
      "cell_type": "code",
      "metadata": {
        "id": "-4HHZo2TiOBU",
        "colab_type": "code",
        "outputId": "508dfcd4-3240-4202-aa20-7821f5accc39",
        "colab": {
          "base_uri": "https://localhost:8080/",
          "height": 729
        }
      },
      "source": [
        "utilities_df_norm.index = ['{}: {}'.format(cluster, state) for cluster, state in zip(memb, utilities_df_norm.index)]\n",
        "sns.clustermap(utilities_df_norm, method='average', col_cluster=False,  cmap=\"mako_r\")\n",
        "plt.show()"
      ],
      "execution_count": 19,
      "outputs": [
        {
          "output_type": "display_data",
          "data": {
            "image/png": "[encoded data removed]",
            "text/plain": [
              "<Figure size 720x720 with 4 Axes>"
            ]
          },
          "metadata": {
            "tags": [],
            "needs_background": "light"
          }
        }
      ]
    },
    {
      "cell_type": "markdown",
      "metadata": {
        "id": "-x9rNGMtiOBh",
        "colab_type": "text"
      },
      "source": [
        "# k-Means clustering"
      ]
    },
    {
      "cell_type": "code",
      "metadata": {
        "id": "dafBcIqNiOBi",
        "colab_type": "code",
        "outputId": "2f907361-7ddd-4ce1-c002-9e73d7b2e1dd",
        "colab": {
          "base_uri": "https://localhost:8080/",
          "height": 124
        }
      },
      "source": [
        "# Load and preprocess data\n",
        "utilities_df = pd.read_csv('https://gist.githubusercontent.com/nnbphuong/c4d1bba6350925a4d92f00231b075510/raw/ecb16ca0af0f83034e5d87e474aed86b3b37501c/Utilities.csv')\n",
        "utilities_df.set_index('Company', inplace=True)\n",
        "utilities_df = utilities_df.apply(lambda x: x.astype('float64'))\n",
        "\n",
        "# Normalized distance\n",
        "utilities_df_norm = utilities_df.apply(preprocessing.scale, axis=0)\n",
        "\n",
        "kmeans = KMeans(n_clusters=6, random_state=0).fit(utilities_df_norm)\n",
        "\n",
        "# Cluster membership\n",
        "memb = pd.Series(kmeans.labels_, index=utilities_df_norm.index)\n",
        "for key, item in memb.groupby(memb):\n",
        "    print(key, ': ', ', '.join(item.index))"
      ],
      "execution_count": 20,
      "outputs": [
        {
          "output_type": "stream",
          "text": [
            "0 :  Arizona , Central , Florida , Oklahoma, Southern, Texas\n",
            "1 :  Boston , Commonwealth, Madison , Northern, Wisconsin, Virginia\n",
            "2 :  Hawaiian , Kentucky, New England, Pacific , United\n",
            "3 :  Idaho, Nevada, Puget\n",
            "4 :  San Diego\n",
            "5 :  NY\n"
          ],
          "name": "stdout"
        }
      ]
    },
    {
      "cell_type": "markdown",
      "metadata": {
        "id": "BV77amCSiOBt",
        "colab_type": "text"
      },
      "source": [
        "## Cluster centroids and squared distances for k-means"
      ]
    },
    {
      "cell_type": "code",
      "metadata": {
        "id": "aUPvTX6AiOBv",
        "colab_type": "code",
        "outputId": "6fc60986-e063-497a-91e8-41eea101520b",
        "colab": {
          "base_uri": "https://localhost:8080/",
          "height": 178
        }
      },
      "source": [
        "centroids = pd.DataFrame(kmeans.cluster_centers_, columns=utilities_df_norm.columns)\n",
        "pd.set_option('precision', 3)\n",
        "print(centroids)\n",
        "pd.set_option('precision', 6)"
      ],
      "execution_count": 21,
      "outputs": [
        {
          "output_type": "stream",
          "text": [
            "   Fixed_charge    RoR   Cost  ...  Sales  Nuclear  Fuel_Cost\n",
            "0         0.393  0.759 -1.177  ...  0.445   -0.503     -0.416\n",
            "1        -0.217  0.249  0.327  ... -0.527    1.470     -0.369\n",
            "2         0.133 -0.126  0.239  ... -0.533   -0.720      0.888\n",
            "3        -0.614 -0.853  1.370  ...  1.900   -0.731     -0.988\n",
            "4        -1.964 -1.978 -0.800  ... -0.923   -0.226      1.504\n",
            "5         2.085 -0.883  0.592  ... -1.619    0.219      1.732\n",
            "\n",
            "[6 rows x 8 columns]\n"
          ],
          "name": "stdout"
        }
      ]
    },
    {
      "cell_type": "code",
      "metadata": {
        "id": "Mxa-s5GjiOB7",
        "colab_type": "code",
        "outputId": "2f6ef197-bfec-4547-b9c4-b20f1eb934b3",
        "colab": {
          "base_uri": "https://localhost:8080/",
          "height": 124
        }
      },
      "source": [
        "withinClusterSS = [0] * 6\n",
        "clusterCount = [0] * 6\n",
        "for cluster, distance in zip(kmeans.labels_, kmeans.transform(utilities_df_norm)):\n",
        "    withinClusterSS[cluster] += distance[cluster]**2\n",
        "    clusterCount[cluster] += 1\n",
        "for cluster, withClustSS in enumerate(withinClusterSS):\n",
        "    print('Cluster {} ({} members): {:5.2f} within cluster'.format(cluster, \n",
        "        clusterCount[cluster], withinClusterSS[cluster]))"
      ],
      "execution_count": 22,
      "outputs": [
        {
          "output_type": "stream",
          "text": [
            "Cluster 0 (6 members): 20.28 within cluster\n",
            "Cluster 1 (6 members): 15.63 within cluster\n",
            "Cluster 2 (5 members): 16.02 within cluster\n",
            "Cluster 3 (3 members):  9.99 within cluster\n",
            "Cluster 4 (1 members):  0.00 within cluster\n",
            "Cluster 5 (1 members):  0.00 within cluster\n"
          ],
          "name": "stdout"
        }
      ]
    },
    {
      "cell_type": "code",
      "metadata": {
        "id": "PcWNhsPMiOCG",
        "colab_type": "code",
        "outputId": "6b2eee31-978c-4b1a-c153-3083897b598e",
        "colab": {
          "base_uri": "https://localhost:8080/",
          "height": 124
        }
      },
      "source": [
        "# calculate the distances of each data point to the cluster centers\n",
        "distances = kmeans.transform(utilities_df_norm)\n",
        "\n",
        "# reduce to the minimum squared distance of each data point to the cluster centers\n",
        "minSquaredDistances = distances.min(axis=1) ** 2\n",
        "\n",
        "# combine with cluster labels into a data frame\n",
        "df = pd.DataFrame({'squaredDistance': minSquaredDistances, 'cluster': kmeans.labels_}, \n",
        "    index=utilities_df_norm.index)\n",
        "\n",
        "# Group by cluster and print information\n",
        "for cluster, data in df.groupby('cluster'):\n",
        "    count = len(data)\n",
        "    withinClustSS = data.squaredDistance.sum()\n",
        "    print(f'Cluster {cluster} ({count} members): {withinClustSS:.2f} within cluster ')"
      ],
      "execution_count": 23,
      "outputs": [
        {
          "output_type": "stream",
          "text": [
            "Cluster 0 (6 members): 20.28 within cluster \n",
            "Cluster 1 (6 members): 15.63 within cluster \n",
            "Cluster 2 (5 members): 16.02 within cluster \n",
            "Cluster 3 (3 members): 9.99 within cluster \n",
            "Cluster 4 (1 members): 0.00 within cluster \n",
            "Cluster 5 (1 members): 0.00 within cluster \n"
          ],
          "name": "stdout"
        }
      ]
    },
    {
      "cell_type": "markdown",
      "metadata": {
        "id": "4NjrLr6KiOCY",
        "colab_type": "text"
      },
      "source": [
        "## Visualize cluster centroids with profile plot"
      ]
    },
    {
      "cell_type": "code",
      "metadata": {
        "id": "8ywPRKOTiOCb",
        "colab_type": "code",
        "outputId": "121d1e95-baad-4dc5-c8de-8a2fb71bf10d",
        "colab": {
          "base_uri": "https://localhost:8080/",
          "height": 596
        }
      },
      "source": [
        "centroids['cluster'] = ['Cluster {}'.format(i) for i in centroids.index]\n",
        "\n",
        "plt.figure(figsize=(10,6))\n",
        "fig.subplots_adjust(right=3)\n",
        "ax = parallel_coordinates(centroids, class_column='cluster', colormap='Dark2', linewidth=5)\n",
        "plt.legend(loc='center left', bbox_to_anchor=(0.95, 0.5))\n",
        "plt.xlim(-0.5,7.5)\n",
        "centroids"
      ],
      "execution_count": 24,
      "outputs": [
        {
          "output_type": "execute_result",
          "data": {
            "text/html": [
              "<div>\n",
              "<style scoped>\n",
              "    .dataframe tbody tr th:only-of-type {\n",
              "        vertical-align: middle;\n",
              "    }\n",
              "\n",
              "    .dataframe tbody tr th {\n",
              "        vertical-align: top;\n",
              "    }\n",
              "\n",
              "    .dataframe thead th {\n",
              "        text-align: right;\n",
              "    }\n",
              "</style>\n",
              "<table border=\"1\" class=\"dataframe\">\n",
              "  <thead>\n",
              "    <tr style=\"text-align: right;\">\n",
              "      <th></th>\n",
              "      <th>Fixed_charge</th>\n",
              "      <th>RoR</th>\n",
              "      <th>Cost</th>\n",
              "      <th>Load_factor</th>\n",
              "      <th>Demand_growth</th>\n",
              "      <th>Sales</th>\n",
              "      <th>Nuclear</th>\n",
              "      <th>Fuel_Cost</th>\n",
              "      <th>cluster</th>\n",
              "    </tr>\n",
              "  </thead>\n",
              "  <tbody>\n",
              "    <tr>\n",
              "      <th>0</th>\n",
              "      <td>0.393352</td>\n",
              "      <td>0.758801</td>\n",
              "      <td>-1.176527</td>\n",
              "      <td>-0.533952</td>\n",
              "      <td>-0.801203</td>\n",
              "      <td>0.444577</td>\n",
              "      <td>-0.502869</td>\n",
              "      <td>-0.416385</td>\n",
              "      <td>Cluster 0</td>\n",
              "    </tr>\n",
              "    <tr>\n",
              "      <th>1</th>\n",
              "      <td>-0.216848</td>\n",
              "      <td>0.249478</td>\n",
              "      <td>0.326792</td>\n",
              "      <td>-0.270105</td>\n",
              "      <td>0.085044</td>\n",
              "      <td>-0.526630</td>\n",
              "      <td>1.470004</td>\n",
              "      <td>-0.369144</td>\n",
              "      <td>Cluster 1</td>\n",
              "    </tr>\n",
              "    <tr>\n",
              "      <th>2</th>\n",
              "      <td>0.132630</td>\n",
              "      <td>-0.126052</td>\n",
              "      <td>0.238995</td>\n",
              "      <td>1.299214</td>\n",
              "      <td>0.019396</td>\n",
              "      <td>-0.533406</td>\n",
              "      <td>-0.720475</td>\n",
              "      <td>0.888389</td>\n",
              "      <td>Cluster 2</td>\n",
              "    </tr>\n",
              "    <tr>\n",
              "      <th>3</th>\n",
              "      <td>-0.614402</td>\n",
              "      <td>-0.852787</td>\n",
              "      <td>1.370418</td>\n",
              "      <td>-0.491890</td>\n",
              "      <td>1.015056</td>\n",
              "      <td>1.900210</td>\n",
              "      <td>-0.731447</td>\n",
              "      <td>-0.988493</td>\n",
              "      <td>Cluster 3</td>\n",
              "    </tr>\n",
              "    <tr>\n",
              "      <th>4</th>\n",
              "      <td>-1.964237</td>\n",
              "      <td>-1.977857</td>\n",
              "      <td>-0.799662</td>\n",
              "      <td>1.129434</td>\n",
              "      <td>1.890361</td>\n",
              "      <td>-0.922638</td>\n",
              "      <td>-0.225529</td>\n",
              "      <td>1.504241</td>\n",
              "      <td>Cluster 4</td>\n",
              "    </tr>\n",
              "    <tr>\n",
              "      <th>5</th>\n",
              "      <td>2.085268</td>\n",
              "      <td>-0.883194</td>\n",
              "      <td>0.591840</td>\n",
              "      <td>-1.325495</td>\n",
              "      <td>-0.735555</td>\n",
              "      <td>-1.618644</td>\n",
              "      <td>0.219434</td>\n",
              "      <td>1.732470</td>\n",
              "      <td>Cluster 5</td>\n",
              "    </tr>\n",
              "  </tbody>\n",
              "</table>\n",
              "</div>"
            ],
            "text/plain": [
              "   Fixed_charge       RoR      Cost  ...   Nuclear  Fuel_Cost    cluster\n",
              "0      0.393352  0.758801 -1.176527  ... -0.502869  -0.416385  Cluster 0\n",
              "1     -0.216848  0.249478  0.326792  ...  1.470004  -0.369144  Cluster 1\n",
              "2      0.132630 -0.126052  0.238995  ... -0.720475   0.888389  Cluster 2\n",
              "3     -0.614402 -0.852787  1.370418  ... -0.731447  -0.988493  Cluster 3\n",
              "4     -1.964237 -1.977857 -0.799662  ... -0.225529   1.504241  Cluster 4\n",
              "5      2.085268 -0.883194  0.591840  ...  0.219434   1.732470  Cluster 5\n",
              "\n",
              "[6 rows x 9 columns]"
            ]
          },
          "metadata": {
            "tags": []
          },
          "execution_count": 24
        },
        {
          "output_type": "display_data",
          "data": {
            "image/png": "[encoded data removed]",
            "text/plain": [
              "<Figure size 720x432 with 1 Axes>"
            ]
          },
          "metadata": {
            "tags": [],
            "needs_background": "light"
          }
        }
      ]
    },
    {
      "cell_type": "code",
      "metadata": {
        "id": "142uSK1ciOCz",
        "colab_type": "code",
        "colab": {
          "base_uri": "https://localhost:8080/",
          "height": 238
        },
        "outputId": "3c0f0b7b-aa08-44d1-9d11-f32efdb9489d"
      },
      "source": [
        "utilities_df_norm.groupby(kmeans.labels_).mean()"
      ],
      "execution_count": 25,
      "outputs": [
        {
          "output_type": "execute_result",
          "data": {
            "text/html": [
              "<div>\n",
              "<style scoped>\n",
              "    .dataframe tbody tr th:only-of-type {\n",
              "        vertical-align: middle;\n",
              "    }\n",
              "\n",
              "    .dataframe tbody tr th {\n",
              "        vertical-align: top;\n",
              "    }\n",
              "\n",
              "    .dataframe thead th {\n",
              "        text-align: right;\n",
              "    }\n",
              "</style>\n",
              "<table border=\"1\" class=\"dataframe\">\n",
              "  <thead>\n",
              "    <tr style=\"text-align: right;\">\n",
              "      <th></th>\n",
              "      <th>Fixed_charge</th>\n",
              "      <th>RoR</th>\n",
              "      <th>Cost</th>\n",
              "      <th>Load_factor</th>\n",
              "      <th>Demand_growth</th>\n",
              "      <th>Sales</th>\n",
              "      <th>Nuclear</th>\n",
              "      <th>Fuel_Cost</th>\n",
              "    </tr>\n",
              "  </thead>\n",
              "  <tbody>\n",
              "    <tr>\n",
              "      <th>0</th>\n",
              "      <td>0.393352</td>\n",
              "      <td>0.758801</td>\n",
              "      <td>-1.176527</td>\n",
              "      <td>-0.533952</td>\n",
              "      <td>-0.801203</td>\n",
              "      <td>0.444577</td>\n",
              "      <td>-0.502869</td>\n",
              "      <td>-0.416385</td>\n",
              "    </tr>\n",
              "    <tr>\n",
              "      <th>1</th>\n",
              "      <td>-0.216848</td>\n",
              "      <td>0.249478</td>\n",
              "      <td>0.326792</td>\n",
              "      <td>-0.270105</td>\n",
              "      <td>0.085044</td>\n",
              "      <td>-0.526630</td>\n",
              "      <td>1.470004</td>\n",
              "      <td>-0.369144</td>\n",
              "    </tr>\n",
              "    <tr>\n",
              "      <th>2</th>\n",
              "      <td>0.132630</td>\n",
              "      <td>-0.126052</td>\n",
              "      <td>0.238995</td>\n",
              "      <td>1.299214</td>\n",
              "      <td>0.019396</td>\n",
              "      <td>-0.533406</td>\n",
              "      <td>-0.720475</td>\n",
              "      <td>0.888389</td>\n",
              "    </tr>\n",
              "    <tr>\n",
              "      <th>3</th>\n",
              "      <td>-0.614402</td>\n",
              "      <td>-0.852787</td>\n",
              "      <td>1.370418</td>\n",
              "      <td>-0.491890</td>\n",
              "      <td>1.015056</td>\n",
              "      <td>1.900210</td>\n",
              "      <td>-0.731447</td>\n",
              "      <td>-0.988493</td>\n",
              "    </tr>\n",
              "    <tr>\n",
              "      <th>4</th>\n",
              "      <td>-1.964237</td>\n",
              "      <td>-1.977857</td>\n",
              "      <td>-0.799662</td>\n",
              "      <td>1.129434</td>\n",
              "      <td>1.890361</td>\n",
              "      <td>-0.922638</td>\n",
              "      <td>-0.225529</td>\n",
              "      <td>1.504241</td>\n",
              "    </tr>\n",
              "    <tr>\n",
              "      <th>5</th>\n",
              "      <td>2.085268</td>\n",
              "      <td>-0.883194</td>\n",
              "      <td>0.591840</td>\n",
              "      <td>-1.325495</td>\n",
              "      <td>-0.735555</td>\n",
              "      <td>-1.618644</td>\n",
              "      <td>0.219434</td>\n",
              "      <td>1.732470</td>\n",
              "    </tr>\n",
              "  </tbody>\n",
              "</table>\n",
              "</div>"
            ],
            "text/plain": [
              "   Fixed_charge       RoR      Cost  ...     Sales   Nuclear  Fuel_Cost\n",
              "0      0.393352  0.758801 -1.176527  ...  0.444577 -0.502869  -0.416385\n",
              "1     -0.216848  0.249478  0.326792  ... -0.526630  1.470004  -0.369144\n",
              "2      0.132630 -0.126052  0.238995  ... -0.533406 -0.720475   0.888389\n",
              "3     -0.614402 -0.852787  1.370418  ...  1.900210 -0.731447  -0.988493\n",
              "4     -1.964237 -1.977857 -0.799662  ... -0.922638 -0.225529   1.504241\n",
              "5      2.085268 -0.883194  0.591840  ... -1.618644  0.219434   1.732470\n",
              "\n",
              "[6 rows x 8 columns]"
            ]
          },
          "metadata": {
            "tags": []
          },
          "execution_count": 25
        }
      ]
    },
    {
      "cell_type": "markdown",
      "metadata": {
        "id": "ksuQPHAJiOC9",
        "colab_type": "text"
      },
      "source": [
        "## Euclidean distance between cluster centroids"
      ]
    },
    {
      "cell_type": "code",
      "metadata": {
        "id": "lvcm1iIXiOC-",
        "colab_type": "code",
        "outputId": "56ae7df5-764c-4f27-b9d7-b2d3eb4c57d3",
        "colab": {
          "base_uri": "https://localhost:8080/",
          "height": 142
        }
      },
      "source": [
        "print(pd.DataFrame(pairwise.pairwise_distances(kmeans.cluster_centers_, metric='euclidean')))"
      ],
      "execution_count": 0,
      "outputs": [
        {
          "output_type": "stream",
          "text": [
            "          0         1         2         3         4         5\n",
            "0  0.000000  2.929927  3.097541  3.987317  5.369908  4.325838\n",
            "1  2.929927  0.000000  3.019532  3.807340  4.587199  3.951375\n",
            "2  3.097541  3.019532  0.000000  4.001375  3.634545  3.839694\n",
            "3  3.987317  3.807340  4.001375  0.000000  5.062616  5.687267\n",
            "4  5.369908  4.587199  3.634545  5.062616  0.000000  5.761047\n",
            "5  4.325838  3.951375  3.839694  5.687267  5.761047  0.000000\n"
          ],
          "name": "stdout"
        }
      ]
    },
    {
      "cell_type": "code",
      "metadata": {
        "id": "v1_UPHmeiODF",
        "colab_type": "code",
        "outputId": "50ea644d-c922-4d59-89a8-635d4e912e3b",
        "colab": {
          "base_uri": "https://localhost:8080/",
          "height": 142
        }
      },
      "source": [
        "pd.DataFrame(pairwise.pairwise_distances(kmeans.cluster_centers_, metric='euclidean')).sum(axis=0)"
      ],
      "execution_count": 0,
      "outputs": [
        {
          "output_type": "execute_result",
          "data": {
            "text/plain": [
              "0    19.710531\n",
              "1    18.295373\n",
              "2    17.592686\n",
              "3    22.545914\n",
              "4    24.415315\n",
              "5    23.565221\n",
              "dtype: float64"
            ]
          },
          "metadata": {
            "tags": []
          },
          "execution_count": 28
        }
      ]
    },
    {
      "cell_type": "markdown",
      "metadata": {
        "id": "EgSVhBabiODP",
        "colab_type": "text"
      },
      "source": [
        "## Plot profile plot of centroids"
      ]
    },
    {
      "cell_type": "code",
      "metadata": {
        "id": "szvsQHSPiODR",
        "colab_type": "code",
        "outputId": "128543c5-f09b-4fd9-d8cb-e7f66f4da8e8",
        "colab": {
          "base_uri": "https://localhost:8080/",
          "height": 279
        }
      },
      "source": [
        "inertia = []\n",
        "for n_clusters in range(1, 7):\n",
        "    kmeans = KMeans(n_clusters=n_clusters, random_state=0).fit(utilities_df_norm)\n",
        "    inertia.append(kmeans.inertia_ / n_clusters)\n",
        "inertias = pd.DataFrame({'n_clusters': range(1, 7), 'inertia': inertia})\n",
        "ax = inertias.plot(x='n_clusters', y='inertia')\n",
        "plt.xlabel('Number of clusters(k)')\n",
        "plt.ylabel('Average Within-Cluster Squared Distances')\n",
        "plt.ylim((0, 1.1 * inertias.inertia.max()))\n",
        "ax.legend().set_visible(False)\n",
        "plt.show()"
      ],
      "execution_count": 26,
      "outputs": [
        {
          "output_type": "display_data",
          "data": {
            "image/png": "[encoded data removed]",
            "text/plain": [
              "<Figure size 432x288 with 1 Axes>"
            ]
          },
          "metadata": {
            "tags": [],
            "needs_background": "light"
          }
        }
      ]
    },
    {
      "cell_type": "markdown",
      "metadata": {
        "id": "FEDnj4O2kf8w",
        "colab_type": "text"
      },
      "source": [
        "---\n",
        "**Reference**\n",
        "\n",
        "Shmueli, G., Bruce, P. C., Gedeck, P., and Patel, N. R. (2019). *Data Mining for Business Analytics: Concepts, Techniques and Applications in Python*. John Wiley & Sons, Inc."
      ]
    }
  ]
}