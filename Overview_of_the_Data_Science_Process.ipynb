{
  "nbformat": 4,
  "nbformat_minor": 0,
  "metadata": {
    "kernelspec": {
      "display_name": "Python 3",
      "language": "python",
      "name": "python3"
    },
    "language_info": {
      "codemirror_mode": {
        "name": "ipython",
        "version": 3
      },
      "file_extension": ".py",
      "mimetype": "text/x-python",
      "name": "python",
      "nbconvert_exporter": "python",
      "pygments_lexer": "ipython3",
      "version": "3.7.1"
    },
    "colab": {
      "name": "Overview of the Data Science Process.ipynb",
      "provenance": [],
      "toc_visible": true,
      "include_colab_link": true
    }
  },
  "cells": [
    {
      "cell_type": "markdown",
      "metadata": {
        "id": "view-in-github",
        "colab_type": "text"
      },
      "source": [
        "<a href=\"https://colab.research.google.com/github/nnbphuong/datascience4biz/blob/master/Overview_of_the_Data_Science_Process.ipynb\" target=\"_parent\"><img src=\"https://colab.research.google.com/assets/colab-badge.svg\" alt=\"Open In Colab\"/></a>"
      ]
    },
    {
      "cell_type": "markdown",
      "metadata": {
        "id": "XFovVTbzMpcz",
        "colab_type": "text"
      },
      "source": [
        "#OVERVIEW OF THE DATA SCIENCE PROCESS\n",
        "> Phuong Nguyen @ [DataScience.vn](https://DataScience.vn)\n",
        "> \n",
        "> Dataset: https://gist.github.com/nnbphuong/6fdcd466c618ad48d34d61450858798c\n",
        "\n",
        "The data in WestRoxbury.csv includes information on single family owner-occupied homes in West Roxbury, a neighborhood in southwest Boston, MA, in 2014.\n",
        "\n",
        "*   TOTAL VALUE: Total assessed value for property, in thousands of USD\n",
        "*   TAX: Tax bill amount based on total assessed value multiplied by the tax rate, in USD\n",
        "*   LOT SQ FT: Total lot size of parcel (ft^2)\n",
        "*   YR BUILT: Year the property was built\n",
        "*   GROSS AREA: Gross floor area\n",
        "*   LIVING AREA: Total living area for residential properties (ft^2)\n",
        "*   FLOORS: Number of floors\n",
        "*   ROOMS: Total number of rooms\n",
        "*   BEDROOMS: Total number of bedrooms\n",
        "*   FULL BATH: Total number of full baths\n",
        "*   HALF BATH: Total number of half baths\n",
        "*   KITCHEN: Total number of kitchens\n",
        "*   FIREPLACE: Total number of fireplaces\n",
        "*   REMODEL: When the house was remodeled (recent/old/none)\n",
        "\n",
        "---\n",
        "\n"
      ]
    },
    {
      "cell_type": "markdown",
      "metadata": {
        "id": "AjbFQP3bOOZr",
        "colab_type": "text"
      },
      "source": [
        "## Import required packages"
      ]
    },
    {
      "cell_type": "code",
      "metadata": {
        "id": "_2RWikvIMpc3",
        "colab_type": "code",
        "colab": {}
      },
      "source": [
        "%matplotlib inline\n",
        "from pathlib import Path\n",
        "import numpy as np\n",
        "import pandas as pd\n",
        "from sklearn.model_selection import train_test_split\n",
        "from sklearn.metrics import r2_score\n",
        "from sklearn.linear_model import LinearRegression\n",
        "import matplotlib.pylab as plt"
      ],
      "execution_count": 1,
      "outputs": []
    },
    {
      "cell_type": "markdown",
      "metadata": {
        "id": "lj8g9Zp4Mpde",
        "colab_type": "text"
      },
      "source": [
        "##Load the West Roxbury dataset"
      ]
    },
    {
      "cell_type": "code",
      "metadata": {
        "id": "DHHkRHKtMpdh",
        "colab_type": "code",
        "colab": {}
      },
      "source": [
        "housing_df = pd.read_csv('https://gist.githubusercontent.com/nnbphuong/6fdcd466c618ad48d34d61450858798c/raw/a86d87a4c8f4472901828809fcc5f027174650af/WestRoxbury.csv')"
      ],
      "execution_count": 2,
      "outputs": []
    },
    {
      "cell_type": "code",
      "metadata": {
        "id": "8C7J2TQsMpds",
        "colab_type": "code",
        "colab": {
          "base_uri": "https://localhost:8080/",
          "height": 35
        },
        "outputId": "9ae5e879-4969-4c82-d21c-01714ca4d57c"
      },
      "source": [
        "housing_df.shape"
      ],
      "execution_count": 3,
      "outputs": [
        {
          "output_type": "execute_result",
          "data": {
            "text/plain": [
              "(5802, 14)"
            ]
          },
          "metadata": {
            "tags": []
          },
          "execution_count": 3
        }
      ]
    },
    {
      "cell_type": "code",
      "metadata": {
        "id": "W1AXR6KjMpd6",
        "colab_type": "code",
        "colab": {
          "base_uri": "https://localhost:8080/",
          "height": 224
        },
        "outputId": "6b2303bf-bf8a-4eb1-a956-969c7581f57d"
      },
      "source": [
        "housing_df.head()"
      ],
      "execution_count": 4,
      "outputs": [
        {
          "output_type": "execute_result",
          "data": {
            "text/html": [
              "<div>\n",
              "<style scoped>\n",
              "    .dataframe tbody tr th:only-of-type {\n",
              "        vertical-align: middle;\n",
              "    }\n",
              "\n",
              "    .dataframe tbody tr th {\n",
              "        vertical-align: top;\n",
              "    }\n",
              "\n",
              "    .dataframe thead th {\n",
              "        text-align: right;\n",
              "    }\n",
              "</style>\n",
              "<table border=\"1\" class=\"dataframe\">\n",
              "  <thead>\n",
              "    <tr style=\"text-align: right;\">\n",
              "      <th></th>\n",
              "      <th>TOTAL VALUE</th>\n",
              "      <th>TAX</th>\n",
              "      <th>LOT SQFT</th>\n",
              "      <th>YR BUILT</th>\n",
              "      <th>GROSS AREA</th>\n",
              "      <th>LIVING AREA</th>\n",
              "      <th>FLOORS</th>\n",
              "      <th>ROOMS</th>\n",
              "      <th>BEDROOMS</th>\n",
              "      <th>FULL BATH</th>\n",
              "      <th>HALF BATH</th>\n",
              "      <th>KITCHEN</th>\n",
              "      <th>FIREPLACE</th>\n",
              "      <th>REMODEL</th>\n",
              "    </tr>\n",
              "  </thead>\n",
              "  <tbody>\n",
              "    <tr>\n",
              "      <th>0</th>\n",
              "      <td>344.2</td>\n",
              "      <td>4330</td>\n",
              "      <td>9965</td>\n",
              "      <td>1880</td>\n",
              "      <td>2436</td>\n",
              "      <td>1352</td>\n",
              "      <td>2.0</td>\n",
              "      <td>6</td>\n",
              "      <td>3</td>\n",
              "      <td>1</td>\n",
              "      <td>1</td>\n",
              "      <td>1</td>\n",
              "      <td>0</td>\n",
              "      <td>None</td>\n",
              "    </tr>\n",
              "    <tr>\n",
              "      <th>1</th>\n",
              "      <td>412.6</td>\n",
              "      <td>5190</td>\n",
              "      <td>6590</td>\n",
              "      <td>1945</td>\n",
              "      <td>3108</td>\n",
              "      <td>1976</td>\n",
              "      <td>2.0</td>\n",
              "      <td>10</td>\n",
              "      <td>4</td>\n",
              "      <td>2</td>\n",
              "      <td>1</td>\n",
              "      <td>1</td>\n",
              "      <td>0</td>\n",
              "      <td>Recent</td>\n",
              "    </tr>\n",
              "    <tr>\n",
              "      <th>2</th>\n",
              "      <td>330.1</td>\n",
              "      <td>4152</td>\n",
              "      <td>7500</td>\n",
              "      <td>1890</td>\n",
              "      <td>2294</td>\n",
              "      <td>1371</td>\n",
              "      <td>2.0</td>\n",
              "      <td>8</td>\n",
              "      <td>4</td>\n",
              "      <td>1</td>\n",
              "      <td>1</td>\n",
              "      <td>1</td>\n",
              "      <td>0</td>\n",
              "      <td>None</td>\n",
              "    </tr>\n",
              "    <tr>\n",
              "      <th>3</th>\n",
              "      <td>498.6</td>\n",
              "      <td>6272</td>\n",
              "      <td>13773</td>\n",
              "      <td>1957</td>\n",
              "      <td>5032</td>\n",
              "      <td>2608</td>\n",
              "      <td>1.0</td>\n",
              "      <td>9</td>\n",
              "      <td>5</td>\n",
              "      <td>1</td>\n",
              "      <td>1</td>\n",
              "      <td>1</td>\n",
              "      <td>1</td>\n",
              "      <td>None</td>\n",
              "    </tr>\n",
              "    <tr>\n",
              "      <th>4</th>\n",
              "      <td>331.5</td>\n",
              "      <td>4170</td>\n",
              "      <td>5000</td>\n",
              "      <td>1910</td>\n",
              "      <td>2370</td>\n",
              "      <td>1438</td>\n",
              "      <td>2.0</td>\n",
              "      <td>7</td>\n",
              "      <td>3</td>\n",
              "      <td>2</td>\n",
              "      <td>0</td>\n",
              "      <td>1</td>\n",
              "      <td>0</td>\n",
              "      <td>None</td>\n",
              "    </tr>\n",
              "  </tbody>\n",
              "</table>\n",
              "</div>"
            ],
            "text/plain": [
              "   TOTAL VALUE    TAX  LOT SQFT   ...  KITCHEN  FIREPLACE  REMODEL\n",
              "0         344.2  4330       9965  ...        1          0     None\n",
              "1         412.6  5190       6590  ...        1          0   Recent\n",
              "2         330.1  4152       7500  ...        1          0     None\n",
              "3         498.6  6272      13773  ...        1          1     None\n",
              "4         331.5  4170       5000  ...        1          0     None\n",
              "\n",
              "[5 rows x 14 columns]"
            ]
          },
          "metadata": {
            "tags": []
          },
          "execution_count": 4
        }
      ]
    },
    {
      "cell_type": "markdown",
      "metadata": {
        "id": "JRn5LxDvMpeE",
        "colab_type": "text"
      },
      "source": [
        "## Cleanup\n",
        "Preprocessing and cleaning up data is an important aspect of data analysis. \n",
        "\n",
        "Show the column names."
      ]
    },
    {
      "cell_type": "code",
      "metadata": {
        "id": "V5dONYPcMpeG",
        "colab_type": "code",
        "colab": {
          "base_uri": "https://localhost:8080/",
          "height": 88
        },
        "outputId": "87ad49eb-f086-4ea0-fc4f-43a87582d835"
      },
      "source": [
        "housing_df.columns"
      ],
      "execution_count": 5,
      "outputs": [
        {
          "output_type": "execute_result",
          "data": {
            "text/plain": [
              "Index(['TOTAL VALUE ', 'TAX', 'LOT SQFT ', 'YR BUILT', 'GROSS AREA ',\n",
              "       'LIVING AREA', 'FLOORS ', 'ROOMS', 'BEDROOMS ', 'FULL BATH',\n",
              "       'HALF BATH', 'KITCHEN', 'FIREPLACE', 'REMODEL'],\n",
              "      dtype='object')"
            ]
          },
          "metadata": {
            "tags": []
          },
          "execution_count": 5
        }
      ]
    },
    {
      "cell_type": "markdown",
      "metadata": {
        "id": "FRvUBSldMpeQ",
        "colab_type": "text"
      },
      "source": [
        "Note that some column titles end with spaces and some consist of two space separated words. For further analysis it's more convenient to have column names which are single words. \n",
        "\n",
        "In the rename command you can specify individual columns by name and provide their new name using a dictionary. Note that we use the `inplace` argument here. This means that the data frame is modified directly. By default, the modification is done on a copy and the copy returned by the method."
      ]
    },
    {
      "cell_type": "code",
      "metadata": {
        "id": "e5PhnVTQMpeU",
        "colab_type": "code",
        "colab": {
          "base_uri": "https://localhost:8080/",
          "height": 88
        },
        "outputId": "9b787a4f-13f3-4242-da22-a99da9346cf4"
      },
      "source": [
        "housing_df = housing_df.rename(columns={'TOTAL VALUE ': 'TOTAL_VALUE'})\n",
        "housing_df.columns"
      ],
      "execution_count": 6,
      "outputs": [
        {
          "output_type": "execute_result",
          "data": {
            "text/plain": [
              "Index(['TOTAL_VALUE', 'TAX', 'LOT SQFT ', 'YR BUILT', 'GROSS AREA ',\n",
              "       'LIVING AREA', 'FLOORS ', 'ROOMS', 'BEDROOMS ', 'FULL BATH',\n",
              "       'HALF BATH', 'KITCHEN', 'FIREPLACE', 'REMODEL'],\n",
              "      dtype='object')"
            ]
          },
          "metadata": {
            "tags": []
          },
          "execution_count": 6
        }
      ]
    },
    {
      "cell_type": "markdown",
      "metadata": {
        "id": "lanMrCUYMpea",
        "colab_type": "text"
      },
      "source": [
        "We therefore strip trailing spaces and replace the remaining spaces with an underscore _. Instead of using the `rename` method, we create a modified copy of `columns` and assign to the `columns` field of the dataframe."
      ]
    },
    {
      "cell_type": "code",
      "metadata": {
        "id": "McZ1LHVdMpec",
        "colab_type": "code",
        "colab": {
          "base_uri": "https://localhost:8080/",
          "height": 88
        },
        "outputId": "072695db-898d-4d8c-c51e-7979a87f2f41"
      },
      "source": [
        "housing_df.columns = [s.strip().replace(' ', '_') for s in housing_df.columns]\n",
        "housing_df.columns"
      ],
      "execution_count": 7,
      "outputs": [
        {
          "output_type": "execute_result",
          "data": {
            "text/plain": [
              "Index(['TOTAL_VALUE', 'TAX', 'LOT_SQFT', 'YR_BUILT', 'GROSS_AREA',\n",
              "       'LIVING_AREA', 'FLOORS', 'ROOMS', 'BEDROOMS', 'FULL_BATH', 'HALF_BATH',\n",
              "       'KITCHEN', 'FIREPLACE', 'REMODEL'],\n",
              "      dtype='object')"
            ]
          },
          "metadata": {
            "tags": []
          },
          "execution_count": 7
        }
      ]
    },
    {
      "cell_type": "markdown",
      "metadata": {
        "id": "KA-oYLZ-Mpem",
        "colab_type": "text"
      },
      "source": [
        "## Accessing subsets of the data\n",
        "Pandas uses two methods to access rows in a data frame; `loc` and `iloc`. The `loc` method is more general and allows accessing rows using labels. The `iloc` method on the other hand only allows using integer numbers. To specify a range of rows use the slice notation, e.g. `0:9`.\n",
        "\n",
        "<div class='alert alert-info'>Note that in contrast to R, Python uses 0-indexing, which means that indices start at 0 and not at 1.</div>\n",
        "\n",
        "To show the first four rows of the data frame, you can use the following commands."
      ]
    },
    {
      "cell_type": "code",
      "metadata": {
        "id": "-9mLsUJ4Mpep",
        "colab_type": "code",
        "colab": {
          "base_uri": "https://localhost:8080/",
          "height": 195
        },
        "outputId": "31b23040-347d-4daf-8ed3-843c15864153"
      },
      "source": [
        "housing_df.loc[0:3]  # for loc, the second index in the slice is inclusive"
      ],
      "execution_count": 8,
      "outputs": [
        {
          "output_type": "execute_result",
          "data": {
            "text/html": [
              "<div>\n",
              "<style scoped>\n",
              "    .dataframe tbody tr th:only-of-type {\n",
              "        vertical-align: middle;\n",
              "    }\n",
              "\n",
              "    .dataframe tbody tr th {\n",
              "        vertical-align: top;\n",
              "    }\n",
              "\n",
              "    .dataframe thead th {\n",
              "        text-align: right;\n",
              "    }\n",
              "</style>\n",
              "<table border=\"1\" class=\"dataframe\">\n",
              "  <thead>\n",
              "    <tr style=\"text-align: right;\">\n",
              "      <th></th>\n",
              "      <th>TOTAL_VALUE</th>\n",
              "      <th>TAX</th>\n",
              "      <th>LOT_SQFT</th>\n",
              "      <th>YR_BUILT</th>\n",
              "      <th>GROSS_AREA</th>\n",
              "      <th>LIVING_AREA</th>\n",
              "      <th>FLOORS</th>\n",
              "      <th>ROOMS</th>\n",
              "      <th>BEDROOMS</th>\n",
              "      <th>FULL_BATH</th>\n",
              "      <th>HALF_BATH</th>\n",
              "      <th>KITCHEN</th>\n",
              "      <th>FIREPLACE</th>\n",
              "      <th>REMODEL</th>\n",
              "    </tr>\n",
              "  </thead>\n",
              "  <tbody>\n",
              "    <tr>\n",
              "      <th>0</th>\n",
              "      <td>344.2</td>\n",
              "      <td>4330</td>\n",
              "      <td>9965</td>\n",
              "      <td>1880</td>\n",
              "      <td>2436</td>\n",
              "      <td>1352</td>\n",
              "      <td>2.0</td>\n",
              "      <td>6</td>\n",
              "      <td>3</td>\n",
              "      <td>1</td>\n",
              "      <td>1</td>\n",
              "      <td>1</td>\n",
              "      <td>0</td>\n",
              "      <td>None</td>\n",
              "    </tr>\n",
              "    <tr>\n",
              "      <th>1</th>\n",
              "      <td>412.6</td>\n",
              "      <td>5190</td>\n",
              "      <td>6590</td>\n",
              "      <td>1945</td>\n",
              "      <td>3108</td>\n",
              "      <td>1976</td>\n",
              "      <td>2.0</td>\n",
              "      <td>10</td>\n",
              "      <td>4</td>\n",
              "      <td>2</td>\n",
              "      <td>1</td>\n",
              "      <td>1</td>\n",
              "      <td>0</td>\n",
              "      <td>Recent</td>\n",
              "    </tr>\n",
              "    <tr>\n",
              "      <th>2</th>\n",
              "      <td>330.1</td>\n",
              "      <td>4152</td>\n",
              "      <td>7500</td>\n",
              "      <td>1890</td>\n",
              "      <td>2294</td>\n",
              "      <td>1371</td>\n",
              "      <td>2.0</td>\n",
              "      <td>8</td>\n",
              "      <td>4</td>\n",
              "      <td>1</td>\n",
              "      <td>1</td>\n",
              "      <td>1</td>\n",
              "      <td>0</td>\n",
              "      <td>None</td>\n",
              "    </tr>\n",
              "    <tr>\n",
              "      <th>3</th>\n",
              "      <td>498.6</td>\n",
              "      <td>6272</td>\n",
              "      <td>13773</td>\n",
              "      <td>1957</td>\n",
              "      <td>5032</td>\n",
              "      <td>2608</td>\n",
              "      <td>1.0</td>\n",
              "      <td>9</td>\n",
              "      <td>5</td>\n",
              "      <td>1</td>\n",
              "      <td>1</td>\n",
              "      <td>1</td>\n",
              "      <td>1</td>\n",
              "      <td>None</td>\n",
              "    </tr>\n",
              "  </tbody>\n",
              "</table>\n",
              "</div>"
            ],
            "text/plain": [
              "   TOTAL_VALUE   TAX  LOT_SQFT  YR_BUILT  ...  HALF_BATH  KITCHEN  FIREPLACE  REMODEL\n",
              "0        344.2  4330      9965      1880  ...          1        1          0     None\n",
              "1        412.6  5190      6590      1945  ...          1        1          0   Recent\n",
              "2        330.1  4152      7500      1890  ...          1        1          0     None\n",
              "3        498.6  6272     13773      1957  ...          1        1          1     None\n",
              "\n",
              "[4 rows x 14 columns]"
            ]
          },
          "metadata": {
            "tags": []
          },
          "execution_count": 8
        }
      ]
    },
    {
      "cell_type": "code",
      "metadata": {
        "id": "RmOxK7MXMpew",
        "colab_type": "code",
        "colab": {
          "base_uri": "https://localhost:8080/",
          "height": 195
        },
        "outputId": "076245a5-233d-4f37-fbbf-211f4af28598"
      },
      "source": [
        "housing_df.iloc[0:4]  # for loc, the second index in the slice is exclusive"
      ],
      "execution_count": 9,
      "outputs": [
        {
          "output_type": "execute_result",
          "data": {
            "text/html": [
              "<div>\n",
              "<style scoped>\n",
              "    .dataframe tbody tr th:only-of-type {\n",
              "        vertical-align: middle;\n",
              "    }\n",
              "\n",
              "    .dataframe tbody tr th {\n",
              "        vertical-align: top;\n",
              "    }\n",
              "\n",
              "    .dataframe thead th {\n",
              "        text-align: right;\n",
              "    }\n",
              "</style>\n",
              "<table border=\"1\" class=\"dataframe\">\n",
              "  <thead>\n",
              "    <tr style=\"text-align: right;\">\n",
              "      <th></th>\n",
              "      <th>TOTAL_VALUE</th>\n",
              "      <th>TAX</th>\n",
              "      <th>LOT_SQFT</th>\n",
              "      <th>YR_BUILT</th>\n",
              "      <th>GROSS_AREA</th>\n",
              "      <th>LIVING_AREA</th>\n",
              "      <th>FLOORS</th>\n",
              "      <th>ROOMS</th>\n",
              "      <th>BEDROOMS</th>\n",
              "      <th>FULL_BATH</th>\n",
              "      <th>HALF_BATH</th>\n",
              "      <th>KITCHEN</th>\n",
              "      <th>FIREPLACE</th>\n",
              "      <th>REMODEL</th>\n",
              "    </tr>\n",
              "  </thead>\n",
              "  <tbody>\n",
              "    <tr>\n",
              "      <th>0</th>\n",
              "      <td>344.2</td>\n",
              "      <td>4330</td>\n",
              "      <td>9965</td>\n",
              "      <td>1880</td>\n",
              "      <td>2436</td>\n",
              "      <td>1352</td>\n",
              "      <td>2.0</td>\n",
              "      <td>6</td>\n",
              "      <td>3</td>\n",
              "      <td>1</td>\n",
              "      <td>1</td>\n",
              "      <td>1</td>\n",
              "      <td>0</td>\n",
              "      <td>None</td>\n",
              "    </tr>\n",
              "    <tr>\n",
              "      <th>1</th>\n",
              "      <td>412.6</td>\n",
              "      <td>5190</td>\n",
              "      <td>6590</td>\n",
              "      <td>1945</td>\n",
              "      <td>3108</td>\n",
              "      <td>1976</td>\n",
              "      <td>2.0</td>\n",
              "      <td>10</td>\n",
              "      <td>4</td>\n",
              "      <td>2</td>\n",
              "      <td>1</td>\n",
              "      <td>1</td>\n",
              "      <td>0</td>\n",
              "      <td>Recent</td>\n",
              "    </tr>\n",
              "    <tr>\n",
              "      <th>2</th>\n",
              "      <td>330.1</td>\n",
              "      <td>4152</td>\n",
              "      <td>7500</td>\n",
              "      <td>1890</td>\n",
              "      <td>2294</td>\n",
              "      <td>1371</td>\n",
              "      <td>2.0</td>\n",
              "      <td>8</td>\n",
              "      <td>4</td>\n",
              "      <td>1</td>\n",
              "      <td>1</td>\n",
              "      <td>1</td>\n",
              "      <td>0</td>\n",
              "      <td>None</td>\n",
              "    </tr>\n",
              "    <tr>\n",
              "      <th>3</th>\n",
              "      <td>498.6</td>\n",
              "      <td>6272</td>\n",
              "      <td>13773</td>\n",
              "      <td>1957</td>\n",
              "      <td>5032</td>\n",
              "      <td>2608</td>\n",
              "      <td>1.0</td>\n",
              "      <td>9</td>\n",
              "      <td>5</td>\n",
              "      <td>1</td>\n",
              "      <td>1</td>\n",
              "      <td>1</td>\n",
              "      <td>1</td>\n",
              "      <td>None</td>\n",
              "    </tr>\n",
              "  </tbody>\n",
              "</table>\n",
              "</div>"
            ],
            "text/plain": [
              "   TOTAL_VALUE   TAX  LOT_SQFT  YR_BUILT  ...  HALF_BATH  KITCHEN  FIREPLACE  REMODEL\n",
              "0        344.2  4330      9965      1880  ...          1        1          0     None\n",
              "1        412.6  5190      6590      1945  ...          1        1          0   Recent\n",
              "2        330.1  4152      7500      1890  ...          1        1          0     None\n",
              "3        498.6  6272     13773      1957  ...          1        1          1     None\n",
              "\n",
              "[4 rows x 14 columns]"
            ]
          },
          "metadata": {
            "tags": []
          },
          "execution_count": 9
        }
      ]
    },
    {
      "cell_type": "markdown",
      "metadata": {
        "id": "cys2CYq9Mpe4",
        "colab_type": "text"
      },
      "source": [
        "Note the difference in the two methods with respect to the slice notation! For consistency with how slices are defined in Python, we will use the `iloc` method mostly from here on.\n",
        "\n",
        "Next, show the first ten rows of the first column"
      ]
    },
    {
      "cell_type": "code",
      "metadata": {
        "id": "XpXX6aRaMpe6",
        "colab_type": "code",
        "colab": {
          "base_uri": "https://localhost:8080/",
          "height": 214
        },
        "outputId": "34ef68f8-b13c-47be-833b-b6790c10d375"
      },
      "source": [
        "housing_df['TOTAL_VALUE'].iloc[0:10]\n",
        "housing_df.iloc[0:10]['TOTAL_VALUE']  # the order is not important\n",
        "housing_df.iloc[0:10].TOTAL_VALUE"
      ],
      "execution_count": 10,
      "outputs": [
        {
          "output_type": "execute_result",
          "data": {
            "text/plain": [
              "0    344.2\n",
              "1    412.6\n",
              "2    330.1\n",
              "3    498.6\n",
              "4    331.5\n",
              "5    337.4\n",
              "6    359.4\n",
              "7    320.4\n",
              "8    333.5\n",
              "9    409.4\n",
              "Name: TOTAL_VALUE, dtype: float64"
            ]
          },
          "metadata": {
            "tags": []
          },
          "execution_count": 10
        }
      ]
    },
    {
      "cell_type": "markdown",
      "metadata": {
        "id": "q03z_m7CMpfE",
        "colab_type": "text"
      },
      "source": [
        "Show the fifth row of the first 10 columns. The `iloc` methods allows specifying the rows and columns within one set of brackets. `dataframe.iloc[rows, columns]`"
      ]
    },
    {
      "cell_type": "code",
      "metadata": {
        "id": "hT_aJqc6MpfI",
        "colab_type": "code",
        "colab": {
          "base_uri": "https://localhost:8080/",
          "height": 214
        },
        "outputId": "b690c7f1-1211-4958-906f-36dd10806f52"
      },
      "source": [
        "housing_df.iloc[4][0:10]\n",
        "housing_df.iloc[4, 0:10]  # this is equivalent"
      ],
      "execution_count": 11,
      "outputs": [
        {
          "output_type": "execute_result",
          "data": {
            "text/plain": [
              "TOTAL_VALUE    331.5\n",
              "TAX             4170\n",
              "LOT_SQFT        5000\n",
              "YR_BUILT        1910\n",
              "GROSS_AREA      2370\n",
              "LIVING_AREA     1438\n",
              "FLOORS             2\n",
              "ROOMS              7\n",
              "BEDROOMS           3\n",
              "FULL_BATH          2\n",
              "Name: 4, dtype: object"
            ]
          },
          "metadata": {
            "tags": []
          },
          "execution_count": 11
        }
      ]
    },
    {
      "cell_type": "markdown",
      "metadata": {
        "id": "MLvbjuSGMpfQ",
        "colab_type": "text"
      },
      "source": [
        "If you prefer to preserve the data frame format, use a slice for the rows as well."
      ]
    },
    {
      "cell_type": "code",
      "metadata": {
        "id": "JE4v3w_DMpfV",
        "colab_type": "code",
        "colab": {
          "base_uri": "https://localhost:8080/",
          "height": 81
        },
        "outputId": "a1314ecb-db51-4281-8c80-0989cb7c6484"
      },
      "source": [
        "housing_df.iloc[4:5, 0:10]"
      ],
      "execution_count": 12,
      "outputs": [
        {
          "output_type": "execute_result",
          "data": {
            "text/html": [
              "<div>\n",
              "<style scoped>\n",
              "    .dataframe tbody tr th:only-of-type {\n",
              "        vertical-align: middle;\n",
              "    }\n",
              "\n",
              "    .dataframe tbody tr th {\n",
              "        vertical-align: top;\n",
              "    }\n",
              "\n",
              "    .dataframe thead th {\n",
              "        text-align: right;\n",
              "    }\n",
              "</style>\n",
              "<table border=\"1\" class=\"dataframe\">\n",
              "  <thead>\n",
              "    <tr style=\"text-align: right;\">\n",
              "      <th></th>\n",
              "      <th>TOTAL_VALUE</th>\n",
              "      <th>TAX</th>\n",
              "      <th>LOT_SQFT</th>\n",
              "      <th>YR_BUILT</th>\n",
              "      <th>GROSS_AREA</th>\n",
              "      <th>LIVING_AREA</th>\n",
              "      <th>FLOORS</th>\n",
              "      <th>ROOMS</th>\n",
              "      <th>BEDROOMS</th>\n",
              "      <th>FULL_BATH</th>\n",
              "    </tr>\n",
              "  </thead>\n",
              "  <tbody>\n",
              "    <tr>\n",
              "      <th>4</th>\n",
              "      <td>331.5</td>\n",
              "      <td>4170</td>\n",
              "      <td>5000</td>\n",
              "      <td>1910</td>\n",
              "      <td>2370</td>\n",
              "      <td>1438</td>\n",
              "      <td>2.0</td>\n",
              "      <td>7</td>\n",
              "      <td>3</td>\n",
              "      <td>2</td>\n",
              "    </tr>\n",
              "  </tbody>\n",
              "</table>\n",
              "</div>"
            ],
            "text/plain": [
              "   TOTAL_VALUE   TAX  LOT_SQFT  YR_BUILT  ...  FLOORS  ROOMS  BEDROOMS  FULL_BATH\n",
              "4        331.5  4170      5000      1910  ...     2.0      7         3          2\n",
              "\n",
              "[1 rows x 10 columns]"
            ]
          },
          "metadata": {
            "tags": []
          },
          "execution_count": 12
        }
      ]
    },
    {
      "cell_type": "markdown",
      "metadata": {
        "id": "cc_OVZFrMpfe",
        "colab_type": "text"
      },
      "source": [
        "Use the `pd.concat` method if you want to combine non-consecutive columns into a new data frame. The `axis` argument specifies the dimension along which the concatenation happens, 0=rows, 1=columns."
      ]
    },
    {
      "cell_type": "code",
      "metadata": {
        "id": "Ytze0tUGMpfg",
        "colab_type": "code",
        "colab": {
          "base_uri": "https://localhost:8080/",
          "height": 112
        },
        "outputId": "48a2ee8d-ba40-4db8-fa3f-39bc9dacd335"
      },
      "source": [
        "pd.concat([housing_df.iloc[4:6,0:2], housing_df.iloc[4:6,4:6]], axis=1)"
      ],
      "execution_count": 13,
      "outputs": [
        {
          "output_type": "execute_result",
          "data": {
            "text/html": [
              "<div>\n",
              "<style scoped>\n",
              "    .dataframe tbody tr th:only-of-type {\n",
              "        vertical-align: middle;\n",
              "    }\n",
              "\n",
              "    .dataframe tbody tr th {\n",
              "        vertical-align: top;\n",
              "    }\n",
              "\n",
              "    .dataframe thead th {\n",
              "        text-align: right;\n",
              "    }\n",
              "</style>\n",
              "<table border=\"1\" class=\"dataframe\">\n",
              "  <thead>\n",
              "    <tr style=\"text-align: right;\">\n",
              "      <th></th>\n",
              "      <th>TOTAL_VALUE</th>\n",
              "      <th>TAX</th>\n",
              "      <th>GROSS_AREA</th>\n",
              "      <th>LIVING_AREA</th>\n",
              "    </tr>\n",
              "  </thead>\n",
              "  <tbody>\n",
              "    <tr>\n",
              "      <th>4</th>\n",
              "      <td>331.5</td>\n",
              "      <td>4170</td>\n",
              "      <td>2370</td>\n",
              "      <td>1438</td>\n",
              "    </tr>\n",
              "    <tr>\n",
              "      <th>5</th>\n",
              "      <td>337.4</td>\n",
              "      <td>4244</td>\n",
              "      <td>2124</td>\n",
              "      <td>1060</td>\n",
              "    </tr>\n",
              "  </tbody>\n",
              "</table>\n",
              "</div>"
            ],
            "text/plain": [
              "   TOTAL_VALUE   TAX  GROSS_AREA  LIVING_AREA\n",
              "4        331.5  4170        2370         1438\n",
              "5        337.4  4244        2124         1060"
            ]
          },
          "metadata": {
            "tags": []
          },
          "execution_count": 13
        }
      ]
    },
    {
      "cell_type": "markdown",
      "metadata": {
        "id": "m__mkWtMMpfp",
        "colab_type": "text"
      },
      "source": [
        "To specify a full column, use the `:` on its own.\n",
        "```\n",
        "housing.iloc[:,0:1]\n",
        "```\n",
        "A often more practical way is to use the column name as follows"
      ]
    },
    {
      "cell_type": "code",
      "metadata": {
        "scrolled": false,
        "id": "wSizTGAYMpfq",
        "colab_type": "code",
        "colab": {
          "base_uri": "https://localhost:8080/",
          "height": 231
        },
        "outputId": "1ccb3df3-5b2a-4063-ea97-c221e0bd2b08"
      },
      "source": [
        "housing_df['TOTAL_VALUE']"
      ],
      "execution_count": 14,
      "outputs": [
        {
          "output_type": "execute_result",
          "data": {
            "text/plain": [
              "0       344.2\n",
              "1       412.6\n",
              "2       330.1\n",
              "3       498.6\n",
              "4       331.5\n",
              "        ...  \n",
              "5797    404.8\n",
              "5798    407.9\n",
              "5799    406.5\n",
              "5800    308.7\n",
              "5801    447.6\n",
              "Name: TOTAL_VALUE, Length: 5802, dtype: float64"
            ]
          },
          "metadata": {
            "tags": []
          },
          "execution_count": 14
        }
      ]
    },
    {
      "cell_type": "markdown",
      "metadata": {
        "id": "NaQjYGgKMpfw",
        "colab_type": "text"
      },
      "source": [
        "We can subset the column using a slice"
      ]
    },
    {
      "cell_type": "code",
      "metadata": {
        "id": "RHY1VpezMpfz",
        "colab_type": "code",
        "colab": {
          "base_uri": "https://localhost:8080/",
          "height": 214
        },
        "outputId": "d1e7ce52-7853-4502-daa4-5d2ac2f04c80"
      },
      "source": [
        "housing_df['TOTAL_VALUE'][0:10]"
      ],
      "execution_count": 15,
      "outputs": [
        {
          "output_type": "execute_result",
          "data": {
            "text/plain": [
              "0    344.2\n",
              "1    412.6\n",
              "2    330.1\n",
              "3    498.6\n",
              "4    331.5\n",
              "5    337.4\n",
              "6    359.4\n",
              "7    320.4\n",
              "8    333.5\n",
              "9    409.4\n",
              "Name: TOTAL_VALUE, dtype: float64"
            ]
          },
          "metadata": {
            "tags": []
          },
          "execution_count": 15
        }
      ]
    },
    {
      "cell_type": "markdown",
      "metadata": {
        "id": "KUab8oqfMpf5",
        "colab_type": "text"
      },
      "source": [
        "Pandas provides a number of ways to access statistics of the columns."
      ]
    },
    {
      "cell_type": "code",
      "metadata": {
        "id": "74ukyV0iMpf8",
        "colab_type": "code",
        "colab": {
          "base_uri": "https://localhost:8080/",
          "height": 53
        },
        "outputId": "9f209935-77af-4a2b-f24a-024a9279a9a2"
      },
      "source": [
        "print('Number of rows ', len(housing_df['TOTAL_VALUE']))\n",
        "print('Mean of TOTAL_VALUE ', housing_df['TOTAL_VALUE'].mean())"
      ],
      "execution_count": 16,
      "outputs": [
        {
          "output_type": "stream",
          "text": [
            "Number of rows  5802\n",
            "Mean of TOTAL_VALUE  392.6857149258885\n"
          ],
          "name": "stdout"
        }
      ]
    },
    {
      "cell_type": "markdown",
      "metadata": {
        "id": "B2dWGT7xMpgB",
        "colab_type": "text"
      },
      "source": [
        "A data frame also has the method `describe` that prints a number of common statistics "
      ]
    },
    {
      "cell_type": "code",
      "metadata": {
        "id": "G6vYD6z0MpgF",
        "colab_type": "code",
        "colab": {
          "base_uri": "https://localhost:8080/",
          "height": 178
        },
        "outputId": "6fa068b3-6fdf-400d-cc5d-6be1853211b9"
      },
      "source": [
        "housing_df['TOTAL_VALUE'].describe()"
      ],
      "execution_count": 17,
      "outputs": [
        {
          "output_type": "execute_result",
          "data": {
            "text/plain": [
              "count    5802.000000\n",
              "mean      392.685715\n",
              "std        99.177414\n",
              "min       105.000000\n",
              "25%       325.125000\n",
              "50%       375.900000\n",
              "75%       438.775000\n",
              "max      1217.800000\n",
              "Name: TOTAL_VALUE, dtype: float64"
            ]
          },
          "metadata": {
            "tags": []
          },
          "execution_count": 17
        }
      ]
    },
    {
      "cell_type": "code",
      "metadata": {
        "id": "wreLVDAeMpgM",
        "colab_type": "code",
        "colab": {
          "base_uri": "https://localhost:8080/",
          "height": 320
        },
        "outputId": "f7bd1028-03c0-43a5-d076-877dab01ece7"
      },
      "source": [
        "housing_df.describe()"
      ],
      "execution_count": 18,
      "outputs": [
        {
          "output_type": "execute_result",
          "data": {
            "text/html": [
              "<div>\n",
              "<style scoped>\n",
              "    .dataframe tbody tr th:only-of-type {\n",
              "        vertical-align: middle;\n",
              "    }\n",
              "\n",
              "    .dataframe tbody tr th {\n",
              "        vertical-align: top;\n",
              "    }\n",
              "\n",
              "    .dataframe thead th {\n",
              "        text-align: right;\n",
              "    }\n",
              "</style>\n",
              "<table border=\"1\" class=\"dataframe\">\n",
              "  <thead>\n",
              "    <tr style=\"text-align: right;\">\n",
              "      <th></th>\n",
              "      <th>TOTAL_VALUE</th>\n",
              "      <th>TAX</th>\n",
              "      <th>LOT_SQFT</th>\n",
              "      <th>YR_BUILT</th>\n",
              "      <th>GROSS_AREA</th>\n",
              "      <th>LIVING_AREA</th>\n",
              "      <th>FLOORS</th>\n",
              "      <th>ROOMS</th>\n",
              "      <th>BEDROOMS</th>\n",
              "      <th>FULL_BATH</th>\n",
              "      <th>HALF_BATH</th>\n",
              "      <th>KITCHEN</th>\n",
              "      <th>FIREPLACE</th>\n",
              "    </tr>\n",
              "  </thead>\n",
              "  <tbody>\n",
              "    <tr>\n",
              "      <th>count</th>\n",
              "      <td>5802.000000</td>\n",
              "      <td>5802.000000</td>\n",
              "      <td>5802.000000</td>\n",
              "      <td>5802.000000</td>\n",
              "      <td>5802.000000</td>\n",
              "      <td>5802.000000</td>\n",
              "      <td>5802.000000</td>\n",
              "      <td>5802.000000</td>\n",
              "      <td>5802.000000</td>\n",
              "      <td>5802.000000</td>\n",
              "      <td>5802.000000</td>\n",
              "      <td>5802.00000</td>\n",
              "      <td>5802.000000</td>\n",
              "    </tr>\n",
              "    <tr>\n",
              "      <th>mean</th>\n",
              "      <td>392.685715</td>\n",
              "      <td>4939.485867</td>\n",
              "      <td>6278.083764</td>\n",
              "      <td>1936.744916</td>\n",
              "      <td>2924.842123</td>\n",
              "      <td>1657.065322</td>\n",
              "      <td>1.683730</td>\n",
              "      <td>6.994829</td>\n",
              "      <td>3.230093</td>\n",
              "      <td>1.296794</td>\n",
              "      <td>0.613926</td>\n",
              "      <td>1.01534</td>\n",
              "      <td>0.739917</td>\n",
              "    </tr>\n",
              "    <tr>\n",
              "      <th>std</th>\n",
              "      <td>99.177414</td>\n",
              "      <td>1247.649118</td>\n",
              "      <td>2669.707974</td>\n",
              "      <td>35.989910</td>\n",
              "      <td>883.984726</td>\n",
              "      <td>540.456726</td>\n",
              "      <td>0.444884</td>\n",
              "      <td>1.437657</td>\n",
              "      <td>0.846607</td>\n",
              "      <td>0.522040</td>\n",
              "      <td>0.533839</td>\n",
              "      <td>0.12291</td>\n",
              "      <td>0.565108</td>\n",
              "    </tr>\n",
              "    <tr>\n",
              "      <th>min</th>\n",
              "      <td>105.000000</td>\n",
              "      <td>1320.000000</td>\n",
              "      <td>997.000000</td>\n",
              "      <td>0.000000</td>\n",
              "      <td>821.000000</td>\n",
              "      <td>504.000000</td>\n",
              "      <td>1.000000</td>\n",
              "      <td>3.000000</td>\n",
              "      <td>1.000000</td>\n",
              "      <td>1.000000</td>\n",
              "      <td>0.000000</td>\n",
              "      <td>1.00000</td>\n",
              "      <td>0.000000</td>\n",
              "    </tr>\n",
              "    <tr>\n",
              "      <th>25%</th>\n",
              "      <td>325.125000</td>\n",
              "      <td>4089.500000</td>\n",
              "      <td>4772.000000</td>\n",
              "      <td>1920.000000</td>\n",
              "      <td>2347.000000</td>\n",
              "      <td>1308.000000</td>\n",
              "      <td>1.000000</td>\n",
              "      <td>6.000000</td>\n",
              "      <td>3.000000</td>\n",
              "      <td>1.000000</td>\n",
              "      <td>0.000000</td>\n",
              "      <td>1.00000</td>\n",
              "      <td>0.000000</td>\n",
              "    </tr>\n",
              "    <tr>\n",
              "      <th>50%</th>\n",
              "      <td>375.900000</td>\n",
              "      <td>4728.000000</td>\n",
              "      <td>5683.000000</td>\n",
              "      <td>1935.000000</td>\n",
              "      <td>2700.000000</td>\n",
              "      <td>1548.500000</td>\n",
              "      <td>2.000000</td>\n",
              "      <td>7.000000</td>\n",
              "      <td>3.000000</td>\n",
              "      <td>1.000000</td>\n",
              "      <td>1.000000</td>\n",
              "      <td>1.00000</td>\n",
              "      <td>1.000000</td>\n",
              "    </tr>\n",
              "    <tr>\n",
              "      <th>75%</th>\n",
              "      <td>438.775000</td>\n",
              "      <td>5519.500000</td>\n",
              "      <td>7022.250000</td>\n",
              "      <td>1955.000000</td>\n",
              "      <td>3239.000000</td>\n",
              "      <td>1873.750000</td>\n",
              "      <td>2.000000</td>\n",
              "      <td>8.000000</td>\n",
              "      <td>4.000000</td>\n",
              "      <td>2.000000</td>\n",
              "      <td>1.000000</td>\n",
              "      <td>1.00000</td>\n",
              "      <td>1.000000</td>\n",
              "    </tr>\n",
              "    <tr>\n",
              "      <th>max</th>\n",
              "      <td>1217.800000</td>\n",
              "      <td>15319.000000</td>\n",
              "      <td>46411.000000</td>\n",
              "      <td>2011.000000</td>\n",
              "      <td>8154.000000</td>\n",
              "      <td>5289.000000</td>\n",
              "      <td>3.000000</td>\n",
              "      <td>14.000000</td>\n",
              "      <td>9.000000</td>\n",
              "      <td>5.000000</td>\n",
              "      <td>3.000000</td>\n",
              "      <td>2.00000</td>\n",
              "      <td>4.000000</td>\n",
              "    </tr>\n",
              "  </tbody>\n",
              "</table>\n",
              "</div>"
            ],
            "text/plain": [
              "       TOTAL_VALUE           TAX  ...     KITCHEN    FIREPLACE\n",
              "count  5802.000000   5802.000000  ...  5802.00000  5802.000000\n",
              "mean    392.685715   4939.485867  ...     1.01534     0.739917\n",
              "std      99.177414   1247.649118  ...     0.12291     0.565108\n",
              "min     105.000000   1320.000000  ...     1.00000     0.000000\n",
              "25%     325.125000   4089.500000  ...     1.00000     0.000000\n",
              "50%     375.900000   4728.000000  ...     1.00000     1.000000\n",
              "75%     438.775000   5519.500000  ...     1.00000     1.000000\n",
              "max    1217.800000  15319.000000  ...     2.00000     4.000000\n",
              "\n",
              "[8 rows x 13 columns]"
            ]
          },
          "metadata": {
            "tags": []
          },
          "execution_count": 18
        }
      ]
    },
    {
      "cell_type": "markdown",
      "metadata": {
        "id": "s9CdgganMpgQ",
        "colab_type": "text"
      },
      "source": [
        "## Sampling and over/under-sampling\n",
        "Use the `sample` method to retrieve a random sample of observations. Here we sample 5 observations without replacement."
      ]
    },
    {
      "cell_type": "code",
      "metadata": {
        "id": "W_tb9xe7MpgR",
        "colab_type": "code",
        "colab": {
          "base_uri": "https://localhost:8080/",
          "height": 226
        },
        "outputId": "43f7177b-2792-4ae6-b861-7e0fb4b7b457"
      },
      "source": [
        "housing_df.sample(5)"
      ],
      "execution_count": 19,
      "outputs": [
        {
          "output_type": "execute_result",
          "data": {
            "text/html": [
              "<div>\n",
              "<style scoped>\n",
              "    .dataframe tbody tr th:only-of-type {\n",
              "        vertical-align: middle;\n",
              "    }\n",
              "\n",
              "    .dataframe tbody tr th {\n",
              "        vertical-align: top;\n",
              "    }\n",
              "\n",
              "    .dataframe thead th {\n",
              "        text-align: right;\n",
              "    }\n",
              "</style>\n",
              "<table border=\"1\" class=\"dataframe\">\n",
              "  <thead>\n",
              "    <tr style=\"text-align: right;\">\n",
              "      <th></th>\n",
              "      <th>TOTAL_VALUE</th>\n",
              "      <th>TAX</th>\n",
              "      <th>LOT_SQFT</th>\n",
              "      <th>YR_BUILT</th>\n",
              "      <th>GROSS_AREA</th>\n",
              "      <th>LIVING_AREA</th>\n",
              "      <th>FLOORS</th>\n",
              "      <th>ROOMS</th>\n",
              "      <th>BEDROOMS</th>\n",
              "      <th>FULL_BATH</th>\n",
              "      <th>HALF_BATH</th>\n",
              "      <th>KITCHEN</th>\n",
              "      <th>FIREPLACE</th>\n",
              "      <th>REMODEL</th>\n",
              "    </tr>\n",
              "  </thead>\n",
              "  <tbody>\n",
              "    <tr>\n",
              "      <th>703</th>\n",
              "      <td>325.7</td>\n",
              "      <td>4097</td>\n",
              "      <td>5113</td>\n",
              "      <td>1960</td>\n",
              "      <td>2386</td>\n",
              "      <td>1056</td>\n",
              "      <td>1.0</td>\n",
              "      <td>6</td>\n",
              "      <td>2</td>\n",
              "      <td>2</td>\n",
              "      <td>0</td>\n",
              "      <td>1</td>\n",
              "      <td>1</td>\n",
              "      <td>None</td>\n",
              "    </tr>\n",
              "    <tr>\n",
              "      <th>5037</th>\n",
              "      <td>389.8</td>\n",
              "      <td>4903</td>\n",
              "      <td>7200</td>\n",
              "      <td>1950</td>\n",
              "      <td>3023</td>\n",
              "      <td>1221</td>\n",
              "      <td>1.0</td>\n",
              "      <td>5</td>\n",
              "      <td>2</td>\n",
              "      <td>1</td>\n",
              "      <td>0</td>\n",
              "      <td>1</td>\n",
              "      <td>1</td>\n",
              "      <td>None</td>\n",
              "    </tr>\n",
              "    <tr>\n",
              "      <th>5468</th>\n",
              "      <td>486.3</td>\n",
              "      <td>6117</td>\n",
              "      <td>8700</td>\n",
              "      <td>1960</td>\n",
              "      <td>3308</td>\n",
              "      <td>1817</td>\n",
              "      <td>1.5</td>\n",
              "      <td>7</td>\n",
              "      <td>4</td>\n",
              "      <td>2</td>\n",
              "      <td>0</td>\n",
              "      <td>1</td>\n",
              "      <td>0</td>\n",
              "      <td>Recent</td>\n",
              "    </tr>\n",
              "    <tr>\n",
              "      <th>1774</th>\n",
              "      <td>356.1</td>\n",
              "      <td>4479</td>\n",
              "      <td>3360</td>\n",
              "      <td>1965</td>\n",
              "      <td>2464</td>\n",
              "      <td>1536</td>\n",
              "      <td>2.0</td>\n",
              "      <td>7</td>\n",
              "      <td>4</td>\n",
              "      <td>1</td>\n",
              "      <td>1</td>\n",
              "      <td>1</td>\n",
              "      <td>1</td>\n",
              "      <td>None</td>\n",
              "    </tr>\n",
              "    <tr>\n",
              "      <th>2041</th>\n",
              "      <td>383.5</td>\n",
              "      <td>4824</td>\n",
              "      <td>6290</td>\n",
              "      <td>1940</td>\n",
              "      <td>2610</td>\n",
              "      <td>1404</td>\n",
              "      <td>2.0</td>\n",
              "      <td>7</td>\n",
              "      <td>4</td>\n",
              "      <td>1</td>\n",
              "      <td>0</td>\n",
              "      <td>1</td>\n",
              "      <td>0</td>\n",
              "      <td>None</td>\n",
              "    </tr>\n",
              "  </tbody>\n",
              "</table>\n",
              "</div>"
            ],
            "text/plain": [
              "      TOTAL_VALUE   TAX  LOT_SQFT  ...  KITCHEN  FIREPLACE  REMODEL\n",
              "703         325.7  4097      5113  ...        1          1     None\n",
              "5037        389.8  4903      7200  ...        1          1     None\n",
              "5468        486.3  6117      8700  ...        1          0   Recent\n",
              "1774        356.1  4479      3360  ...        1          1     None\n",
              "2041        383.5  4824      6290  ...        1          0     None\n",
              "\n",
              "[5 rows x 14 columns]"
            ]
          },
          "metadata": {
            "tags": []
          },
          "execution_count": 19
        }
      ]
    },
    {
      "cell_type": "markdown",
      "metadata": {
        "id": "PRbx0LWuMpga",
        "colab_type": "text"
      },
      "source": [
        "The sample method allows to specify weights for the individual rows. We use this here to oversample houses with over 10 rooms."
      ]
    },
    {
      "cell_type": "code",
      "metadata": {
        "id": "ptDYL4KSMpgd",
        "colab_type": "code",
        "colab": {
          "base_uri": "https://localhost:8080/",
          "height": 226
        },
        "outputId": "a0a19441-0877-46e4-b652-b6ce3af86317"
      },
      "source": [
        "weights = [0.9 if rooms > 10 else 0.01 for rooms in housing_df.ROOMS]\n",
        "housing_df.sample(5, weights=weights)"
      ],
      "execution_count": 20,
      "outputs": [
        {
          "output_type": "execute_result",
          "data": {
            "text/html": [
              "<div>\n",
              "<style scoped>\n",
              "    .dataframe tbody tr th:only-of-type {\n",
              "        vertical-align: middle;\n",
              "    }\n",
              "\n",
              "    .dataframe tbody tr th {\n",
              "        vertical-align: top;\n",
              "    }\n",
              "\n",
              "    .dataframe thead th {\n",
              "        text-align: right;\n",
              "    }\n",
              "</style>\n",
              "<table border=\"1\" class=\"dataframe\">\n",
              "  <thead>\n",
              "    <tr style=\"text-align: right;\">\n",
              "      <th></th>\n",
              "      <th>TOTAL_VALUE</th>\n",
              "      <th>TAX</th>\n",
              "      <th>LOT_SQFT</th>\n",
              "      <th>YR_BUILT</th>\n",
              "      <th>GROSS_AREA</th>\n",
              "      <th>LIVING_AREA</th>\n",
              "      <th>FLOORS</th>\n",
              "      <th>ROOMS</th>\n",
              "      <th>BEDROOMS</th>\n",
              "      <th>FULL_BATH</th>\n",
              "      <th>HALF_BATH</th>\n",
              "      <th>KITCHEN</th>\n",
              "      <th>FIREPLACE</th>\n",
              "      <th>REMODEL</th>\n",
              "    </tr>\n",
              "  </thead>\n",
              "  <tbody>\n",
              "    <tr>\n",
              "      <th>1837</th>\n",
              "      <td>409.5</td>\n",
              "      <td>5151</td>\n",
              "      <td>4864</td>\n",
              "      <td>1950</td>\n",
              "      <td>3998</td>\n",
              "      <td>2176</td>\n",
              "      <td>1.5</td>\n",
              "      <td>11</td>\n",
              "      <td>4</td>\n",
              "      <td>2</td>\n",
              "      <td>1</td>\n",
              "      <td>2</td>\n",
              "      <td>1</td>\n",
              "      <td>None</td>\n",
              "    </tr>\n",
              "    <tr>\n",
              "      <th>1262</th>\n",
              "      <td>317.5</td>\n",
              "      <td>3994</td>\n",
              "      <td>5200</td>\n",
              "      <td>1950</td>\n",
              "      <td>2234</td>\n",
              "      <td>864</td>\n",
              "      <td>1.0</td>\n",
              "      <td>5</td>\n",
              "      <td>3</td>\n",
              "      <td>1</td>\n",
              "      <td>0</td>\n",
              "      <td>1</td>\n",
              "      <td>1</td>\n",
              "      <td>Recent</td>\n",
              "    </tr>\n",
              "    <tr>\n",
              "      <th>3389</th>\n",
              "      <td>574.7</td>\n",
              "      <td>7229</td>\n",
              "      <td>8994</td>\n",
              "      <td>1900</td>\n",
              "      <td>5897</td>\n",
              "      <td>3491</td>\n",
              "      <td>2.0</td>\n",
              "      <td>12</td>\n",
              "      <td>6</td>\n",
              "      <td>2</td>\n",
              "      <td>1</td>\n",
              "      <td>2</td>\n",
              "      <td>1</td>\n",
              "      <td>None</td>\n",
              "    </tr>\n",
              "    <tr>\n",
              "      <th>3246</th>\n",
              "      <td>642.7</td>\n",
              "      <td>8085</td>\n",
              "      <td>9375</td>\n",
              "      <td>1910</td>\n",
              "      <td>5749</td>\n",
              "      <td>3224</td>\n",
              "      <td>2.5</td>\n",
              "      <td>11</td>\n",
              "      <td>6</td>\n",
              "      <td>2</td>\n",
              "      <td>1</td>\n",
              "      <td>1</td>\n",
              "      <td>1</td>\n",
              "      <td>Old</td>\n",
              "    </tr>\n",
              "    <tr>\n",
              "      <th>3111</th>\n",
              "      <td>713.1</td>\n",
              "      <td>8970</td>\n",
              "      <td>13113</td>\n",
              "      <td>1909</td>\n",
              "      <td>6244</td>\n",
              "      <td>3176</td>\n",
              "      <td>2.0</td>\n",
              "      <td>12</td>\n",
              "      <td>6</td>\n",
              "      <td>2</td>\n",
              "      <td>1</td>\n",
              "      <td>1</td>\n",
              "      <td>1</td>\n",
              "      <td>None</td>\n",
              "    </tr>\n",
              "  </tbody>\n",
              "</table>\n",
              "</div>"
            ],
            "text/plain": [
              "      TOTAL_VALUE   TAX  LOT_SQFT  ...  KITCHEN  FIREPLACE  REMODEL\n",
              "1837        409.5  5151      4864  ...        2          1     None\n",
              "1262        317.5  3994      5200  ...        1          1   Recent\n",
              "3389        574.7  7229      8994  ...        2          1     None\n",
              "3246        642.7  8085      9375  ...        1          1      Old\n",
              "3111        713.1  8970     13113  ...        1          1     None\n",
              "\n",
              "[5 rows x 14 columns]"
            ]
          },
          "metadata": {
            "tags": []
          },
          "execution_count": 20
        }
      ]
    },
    {
      "cell_type": "markdown",
      "metadata": {
        "id": "vu3GEWjoMpgo",
        "colab_type": "text"
      },
      "source": [
        "## Reviewing variables"
      ]
    },
    {
      "cell_type": "code",
      "metadata": {
        "id": "jBnMrTPCMpgq",
        "colab_type": "code",
        "colab": {
          "base_uri": "https://localhost:8080/",
          "height": 88
        },
        "outputId": "2c1c598b-251c-4409-b539-fc6de14939db"
      },
      "source": [
        "housing_df.columns"
      ],
      "execution_count": 21,
      "outputs": [
        {
          "output_type": "execute_result",
          "data": {
            "text/plain": [
              "Index(['TOTAL_VALUE', 'TAX', 'LOT_SQFT', 'YR_BUILT', 'GROSS_AREA',\n",
              "       'LIVING_AREA', 'FLOORS', 'ROOMS', 'BEDROOMS', 'FULL_BATH', 'HALF_BATH',\n",
              "       'KITCHEN', 'FIREPLACE', 'REMODEL'],\n",
              "      dtype='object')"
            ]
          },
          "metadata": {
            "tags": []
          },
          "execution_count": 21
        }
      ]
    },
    {
      "cell_type": "markdown",
      "metadata": {
        "id": "nzYBXYqYMpgw",
        "colab_type": "text"
      },
      "source": [
        "The REMODEL column is a factor, so we need to change it's type."
      ]
    },
    {
      "cell_type": "code",
      "metadata": {
        "id": "rZpd5yb5Mpg0",
        "colab_type": "code",
        "colab": {
          "base_uri": "https://localhost:8080/",
          "height": 71
        },
        "outputId": "0ba4beac-9e87-406b-a61b-d9d825727ea8"
      },
      "source": [
        "print(housing_df.REMODEL.dtype)\n",
        "housing_df.REMODEL = housing_df.REMODEL.astype('category')\n",
        "print(housing_df.REMODEL.cat.categories)  # It can take one of three levels\n",
        "print(housing_df.REMODEL.dtype)  # Type is now 'category'"
      ],
      "execution_count": 22,
      "outputs": [
        {
          "output_type": "stream",
          "text": [
            "object\n",
            "Index(['None', 'Old', 'Recent'], dtype='object')\n",
            "category\n"
          ],
          "name": "stdout"
        }
      ]
    },
    {
      "cell_type": "markdown",
      "metadata": {
        "id": "uOBvxg39Mpg8",
        "colab_type": "text"
      },
      "source": [
        "Other columns also have types."
      ]
    },
    {
      "cell_type": "code",
      "metadata": {
        "id": "m4Ft5vvUMpg9",
        "colab_type": "code",
        "colab": {
          "base_uri": "https://localhost:8080/",
          "height": 53
        },
        "outputId": "345ba880-8a07-4e5d-8c83-a2c9a5bfdc32"
      },
      "source": [
        "print(housing_df.BEDROOMS.dtype)  # BEDROOMS is an integer variable\n",
        "print(housing_df.TOTAL_VALUE.dtype)  # Total_Value is a numeric variable"
      ],
      "execution_count": 23,
      "outputs": [
        {
          "output_type": "stream",
          "text": [
            "int64\n",
            "float64\n"
          ],
          "name": "stdout"
        }
      ]
    },
    {
      "cell_type": "markdown",
      "metadata": {
        "id": "76A2mvWJMphD",
        "colab_type": "text"
      },
      "source": [
        "It's also possible to the all columns data types "
      ]
    },
    {
      "cell_type": "code",
      "metadata": {
        "id": "9Sgj-yihMphD",
        "colab_type": "code",
        "colab": {
          "base_uri": "https://localhost:8080/",
          "height": 285
        },
        "outputId": "e10e4b97-e628-46b0-e20a-7556cc74fc32"
      },
      "source": [
        "housing_df.dtypes"
      ],
      "execution_count": 24,
      "outputs": [
        {
          "output_type": "execute_result",
          "data": {
            "text/plain": [
              "TOTAL_VALUE     float64\n",
              "TAX               int64\n",
              "LOT_SQFT          int64\n",
              "YR_BUILT          int64\n",
              "GROSS_AREA        int64\n",
              "LIVING_AREA       int64\n",
              "FLOORS          float64\n",
              "ROOMS             int64\n",
              "BEDROOMS          int64\n",
              "FULL_BATH         int64\n",
              "HALF_BATH         int64\n",
              "KITCHEN           int64\n",
              "FIREPLACE         int64\n",
              "REMODEL        category\n",
              "dtype: object"
            ]
          },
          "metadata": {
            "tags": []
          },
          "execution_count": 24
        }
      ]
    },
    {
      "cell_type": "markdown",
      "metadata": {
        "id": "hXZz4ArwMphL",
        "colab_type": "text"
      },
      "source": [
        "## Creating binary dummies (indicators)\n",
        "Pandas provides a method to convert factors into dummy variables."
      ]
    },
    {
      "cell_type": "code",
      "metadata": {
        "id": "xFzBFbxQMphM",
        "colab_type": "code",
        "colab": {
          "base_uri": "https://localhost:8080/",
          "height": 88
        },
        "outputId": "c82d780a-9490-4658-deb2-9b18c4ab040d"
      },
      "source": [
        "housing_df = pd.get_dummies(housing_df, prefix_sep='_', drop_first=True)\n",
        "housing_df.columns"
      ],
      "execution_count": 25,
      "outputs": [
        {
          "output_type": "execute_result",
          "data": {
            "text/plain": [
              "Index(['TOTAL_VALUE', 'TAX', 'LOT_SQFT', 'YR_BUILT', 'GROSS_AREA',\n",
              "       'LIVING_AREA', 'FLOORS', 'ROOMS', 'BEDROOMS', 'FULL_BATH', 'HALF_BATH',\n",
              "       'KITCHEN', 'FIREPLACE', 'REMODEL_Old', 'REMODEL_Recent'],\n",
              "      dtype='object')"
            ]
          },
          "metadata": {
            "tags": []
          },
          "execution_count": 25
        }
      ]
    },
    {
      "cell_type": "code",
      "metadata": {
        "id": "4O65mFW6MphP",
        "colab_type": "code",
        "colab": {
          "base_uri": "https://localhost:8080/",
          "height": 124
        },
        "outputId": "24def30f-4311-433a-8f01-9437e390a2a0"
      },
      "source": [
        "print(housing_df.loc[:, 'REMODEL_Old':'REMODEL_Recent'].head(5))"
      ],
      "execution_count": 26,
      "outputs": [
        {
          "output_type": "stream",
          "text": [
            "   REMODEL_Old  REMODEL_Recent\n",
            "0            0               0\n",
            "1            0               1\n",
            "2            0               0\n",
            "3            0               0\n",
            "4            0               0\n"
          ],
          "name": "stdout"
        }
      ]
    },
    {
      "cell_type": "markdown",
      "metadata": {
        "id": "Gr6BpAoLMphU",
        "colab_type": "text"
      },
      "source": [
        "##  Imputing missing data with median\n",
        "To illustrate missing data procedures, we first convert a few entries for bedrooms to NA's. Then we impute these missing values using the median of the remaining values."
      ]
    },
    {
      "cell_type": "code",
      "metadata": {
        "id": "2-JSNA-tMphV",
        "colab_type": "code",
        "colab": {
          "base_uri": "https://localhost:8080/",
          "height": 71
        },
        "outputId": "99345aa8-3cd0-42a2-91ba-a96d6e962725"
      },
      "source": [
        "print('Number of rows with valid BEDROOMS values before: ', \n",
        "      housing_df['BEDROOMS'].count()) \n",
        "missingRows = housing_df.sample(10).index\n",
        "housing_df.loc[missingRows, 'BEDROOMS'] = np.nan\n",
        "print('Number of rows with valid BEDROOMS values after setting to NAN: ', \n",
        "      housing_df['BEDROOMS'].count()) \n",
        "housing_df['BEDROOMS'].count()"
      ],
      "execution_count": 27,
      "outputs": [
        {
          "output_type": "stream",
          "text": [
            "Number of rows with valid BEDROOMS values before:  5802\n",
            "Number of rows with valid BEDROOMS values after setting to NAN:  5792\n"
          ],
          "name": "stdout"
        },
        {
          "output_type": "execute_result",
          "data": {
            "text/plain": [
              "5792"
            ]
          },
          "metadata": {
            "tags": []
          },
          "execution_count": 27
        }
      ]
    },
    {
      "cell_type": "code",
      "metadata": {
        "id": "u01QT1UxMphb",
        "colab_type": "code",
        "colab": {
          "base_uri": "https://localhost:8080/",
          "height": 35
        },
        "outputId": "69c2400f-7468-493c-f1ee-f4cfbd6bfb24"
      },
      "source": [
        "# remove rows with missing values \n",
        "reduced_df = housing_df.dropna()\n",
        "print('Number of rows after removing rows with missing values: ', len(reduced_df))"
      ],
      "execution_count": 28,
      "outputs": [
        {
          "output_type": "stream",
          "text": [
            "Number of rows after removing rows with missing values:  5792\n"
          ],
          "name": "stdout"
        }
      ]
    },
    {
      "cell_type": "markdown",
      "metadata": {
        "id": "UcB5Vb9NMphg",
        "colab_type": "text"
      },
      "source": [
        "Replace the missing values using the median of the remaining values.\n",
        "\n",
        "By default, the `median` method of a pandas dataframe ignores NA values. This is in contrast to R where this must be specified explicitly."
      ]
    },
    {
      "cell_type": "code",
      "metadata": {
        "id": "-lnPj4A0Mphg",
        "colab_type": "code",
        "colab": {
          "base_uri": "https://localhost:8080/",
          "height": 35
        },
        "outputId": "f24cccb9-e921-4131-df60-b169f80c3ab3"
      },
      "source": [
        "medianBedrooms = housing_df['BEDROOMS'].median()\n",
        "housing_df.BEDROOMS = housing_df.BEDROOMS.fillna(value=medianBedrooms)\n",
        "print('Number of rows with valid BEDROOMS values after filling NA values: ',\n",
        "      housing_df['BEDROOMS'].count())"
      ],
      "execution_count": 29,
      "outputs": [
        {
          "output_type": "stream",
          "text": [
            "Number of rows with valid BEDROOMS values after filling NA values:  5802\n"
          ],
          "name": "stdout"
        }
      ]
    },
    {
      "cell_type": "markdown",
      "metadata": {
        "id": "GiCK6pyhMphj",
        "colab_type": "text"
      },
      "source": [
        "## Normalizing and rescaling a data frame"
      ]
    },
    {
      "cell_type": "code",
      "metadata": {
        "id": "8mo239C4Mphk",
        "colab_type": "code",
        "colab": {}
      },
      "source": [
        "from sklearn.preprocessing import MinMaxScaler, StandardScaler\n",
        "df = housing_df.copy()\n",
        "\n",
        "# Normalizing a data frame\n",
        "\n",
        "# pandas:\n",
        "norm_df = (housing_df - housing_df.mean()) / housing_df.std()\n",
        "\n",
        "# scikit-learn: \n",
        "scaler = StandardScaler()\n",
        "norm_df = pd.DataFrame(scaler.fit_transform(housing_df), \n",
        "                       index=housing_df.index, columns=housing_df.columns)\n",
        "# the result of the transformation is a numpy array, we convert it into a dataframe\n",
        "\n",
        "# Rescaling a data frame\n",
        "# pandas:\n",
        "rescaled_df = (housing_df - housing_df.min()) / (housing_df.max() - housing_df.min())\n",
        "\n",
        "# scikit-learn:\n",
        "scaler = MinMaxScaler()\n",
        "rescaled_df = pd.DataFrame(scaler.fit_transform(housing_df), \n",
        "                       index=housing_df.index, columns=housing_df.columns)"
      ],
      "execution_count": 30,
      "outputs": []
    },
    {
      "cell_type": "markdown",
      "metadata": {
        "id": "wypQ-49-Mphp",
        "colab_type": "text"
      },
      "source": [
        "The standardization of the dataset may give a <code>DataConversionWarning</code>. This informs you that the integer columns in the dataframe are automatically converted to real numbers (<code>float64</code>). This is expected and you can therefore ignore this warning. If you want to suppress the warning, you can explicitly convert the integer columns to real numbers</p>\n",
        "<pre>\n",
        "# Option 1: Identify all integer columns, remove personal loan, \n",
        "# and change their type\n",
        "intColumns = [c for c in housing_df.columns if housing_df[c].dtype == 'int']\n",
        "housing_df[intColumns] = housing_df[intColumns].astype('float64')\n",
        "</pre>\n",
        "Alternatively, you can suppress the warning as follows:\n",
        "<pre>\n",
        "# Option 2: use the warnings package to suppress the display of the warning\n",
        "import warnings\n",
        "with warnings.catch_warnings():\n",
        "    warnings.simplefilter('ignore')\n",
        "    norm_df = pd.DataFrame(scaler.fit_transform(housing_df), \n",
        "                       index=housing_df.index, columns=housing_df.columns)    \n",
        "</pre>"
      ]
    },
    {
      "cell_type": "markdown",
      "metadata": {
        "id": "OVejGxxjMphq",
        "colab_type": "text"
      },
      "source": [
        "## Partitioning the West Roxbury data into training, validation (and test)\n",
        "sets\n",
        "Split the dataset into training (60%) and validation (40%) sets. Randomly sample 60% of the dataset into a new data frame `trainData`. The remaining 40% serve as validation."
      ]
    },
    {
      "cell_type": "code",
      "metadata": {
        "id": "PXjT0fQNMphs",
        "colab_type": "code",
        "colab": {
          "base_uri": "https://localhost:8080/",
          "height": 106
        },
        "outputId": "58fec780-c874-447d-99cb-2ee408575266"
      },
      "source": [
        "# random_state is set to a defined value to get the same partitions when re-running the code\n",
        "trainData= housing_df.sample(frac=0.6, random_state=1)\n",
        "# assign rows that are not already in the training set, into validation \n",
        "validData = housing_df.drop(trainData.index)\n",
        "\n",
        "print('Training   : ', trainData.shape)\n",
        "print('Validation : ', validData.shape)\n",
        "print()\n",
        "\n",
        "# alternative way using scikit-learn\n",
        "trainData, validData = train_test_split(housing_df, test_size=0.40, random_state=1)\n",
        "print('Training   : ', trainData.shape)\n",
        "print('Validation : ', validData.shape)"
      ],
      "execution_count": 31,
      "outputs": [
        {
          "output_type": "stream",
          "text": [
            "Training   :  (3481, 15)\n",
            "Validation :  (2321, 15)\n",
            "\n",
            "Training   :  (3481, 15)\n",
            "Validation :  (2321, 15)\n"
          ],
          "name": "stdout"
        }
      ]
    },
    {
      "cell_type": "markdown",
      "metadata": {
        "id": "mew_Bj8QMphx",
        "colab_type": "text"
      },
      "source": [
        "Partition the dataset into training (50%), validation (30%), and test sets (20%). "
      ]
    },
    {
      "cell_type": "code",
      "metadata": {
        "id": "vytCiyrnMphy",
        "colab_type": "code",
        "colab": {
          "base_uri": "https://localhost:8080/",
          "height": 142
        },
        "outputId": "eebff39b-5782-49eb-ab41-5e00050f080f"
      },
      "source": [
        "# randomly sample 50% of the row IDs for training\n",
        "trainData = housing_df.sample(frac=0.5, random_state=1)\n",
        "# sample 30% of the row IDs into the validation set, drawing only from records\n",
        "# not already in the training set; 60% of 50% is 30%\n",
        "validData = housing_df.drop(trainData.index).sample(frac=0.6, random_state=1)  \n",
        "# the remaining 20% rows serve as test\n",
        "testData = housing_df.drop(trainData.index).drop(validData.index)\n",
        "\n",
        "print('Training   : ', trainData.shape)\n",
        "print('Validation : ', validData.shape)\n",
        "print('Test       : ', testData.shape)\n",
        "print()\n",
        "\n",
        "# alternative way using scikit-learn\n",
        "trainData, temp = train_test_split(housing_df, test_size=0.5, random_state=1)\n",
        "validData, testData = train_test_split(temp, test_size=0.4, random_state=1)\n",
        "print('Training   : ', trainData.shape)\n",
        "print('Validation : ', validData.shape)\n",
        "print('Test       : ', testData.shape)"
      ],
      "execution_count": 32,
      "outputs": [
        {
          "output_type": "stream",
          "text": [
            "Training   :  (2901, 15)\n",
            "Validation :  (1741, 15)\n",
            "Test       :  (1160, 15)\n",
            "\n",
            "Training   :  (2901, 15)\n",
            "Validation :  (1740, 15)\n",
            "Test       :  (1161, 15)\n"
          ],
          "name": "stdout"
        }
      ]
    },
    {
      "cell_type": "markdown",
      "metadata": {
        "id": "RneDCR1dMph1",
        "colab_type": "text"
      },
      "source": [
        "## Ftting a regression model to training data (West Roxbury)\n",
        "The statsmodels package allows to define linear regression models using a formula definition similar to R. In contrast to R, all variables need to be specified explicitly. We construct a formula excluding the dependent variable and the `TAX` column"
      ]
    },
    {
      "cell_type": "code",
      "metadata": {
        "scrolled": false,
        "id": "8pAPMYEEMph2",
        "colab_type": "code",
        "colab": {
          "base_uri": "https://localhost:8080/",
          "height": 124
        },
        "outputId": "61f71465-8cf4-4c89-c57c-8ef2c3b6dab0"
      },
      "source": [
        "# Data loading and preprocessing\n",
        "housing_df = pd.read_csv('https://gist.githubusercontent.com/nnbphuong/6fdcd466c618ad48d34d61450858798c/raw/a86d87a4c8f4472901828809fcc5f027174650af/WestRoxbury.csv')\n",
        "housing_df.columns = [s.strip().replace(' ', '_') for s in housing_df.columns]\n",
        "housing_df = pd.get_dummies(housing_df, prefix_sep='_', drop_first=True)\n",
        "\n",
        "excludeColumns = ('TOTAL_VALUE', 'TAX')\n",
        "predictors = [s for s in housing_df.columns if s not in excludeColumns]\n",
        "outcome = 'TOTAL_VALUE'\n",
        "\n",
        "# partition data\n",
        "X = housing_df[predictors]\n",
        "y = housing_df[outcome]\n",
        "train_X, valid_X, train_y, valid_y = train_test_split(X, y, test_size=0.4, random_state=1)\n",
        "\n",
        "model = LinearRegression()\n",
        "model.fit(train_X, train_y)\n",
        "\n",
        "train_pred = model.predict(train_X)\n",
        "train_results = pd.DataFrame({\n",
        "    'TOTAL_VALUE': train_y, \n",
        "    'predicted': train_pred, \n",
        "    'residual': train_y - train_pred\n",
        "})\n",
        "print(train_results.head())"
      ],
      "execution_count": 34,
      "outputs": [
        {
          "output_type": "stream",
          "text": [
            "      TOTAL_VALUE   predicted   residual\n",
            "2024        392.0  387.726258   4.273742\n",
            "5140        476.3  430.785540  45.514460\n",
            "5259        367.4  384.042952 -16.642952\n",
            "421         350.3  369.005551 -18.705551\n",
            "1401        348.1  314.725722  33.374278\n"
          ],
          "name": "stdout"
        }
      ]
    },
    {
      "cell_type": "code",
      "metadata": {
        "id": "zitOhDCeMph-",
        "colab_type": "code",
        "colab": {
          "base_uri": "https://localhost:8080/",
          "height": 279
        },
        "outputId": "c6caf1fe-f4da-45e1-a5c2-7fbbdb03c582"
      },
      "source": [
        "plt.plot(train_results.TOTAL_VALUE, train_results.predicted, '.')\n",
        "plt.xlabel('actual')  # set x-axis label\n",
        "plt.ylabel('predicted')  # set y-axis label\n",
        "axes = plt.gca()\n",
        "plt.plot(axes.get_xlim(), axes.get_xlim(), '--')\n",
        "plt.show()"
      ],
      "execution_count": 35,
      "outputs": [
        {
          "output_type": "display_data",
          "data": {
            "image/png": "[encoded data removed]",
            "text/plain": [
              "<Figure size 432x288 with 1 Axes>"
            ]
          },
          "metadata": {
            "tags": [],
            "needs_background": "light"
          }
        }
      ]
    },
    {
      "cell_type": "markdown",
      "metadata": {
        "id": "ciAyZN-nMpiE",
        "colab_type": "text"
      },
      "source": [
        "Predict the validation data"
      ]
    },
    {
      "cell_type": "code",
      "metadata": {
        "id": "hb68YXclMpiF",
        "colab_type": "code",
        "colab": {
          "base_uri": "https://localhost:8080/",
          "height": 124
        },
        "outputId": "ab2ed36a-e60b-4269-e0ac-ca1a57af66f4"
      },
      "source": [
        "valid_pred = model.predict(valid_X)\n",
        "valid_results = pd.DataFrame({\n",
        "    'TOTAL_VALUE': valid_y, \n",
        "    'predicted': valid_pred, \n",
        "    'residual': valid_y - valid_pred\n",
        "})\n",
        "print(valid_results.head())"
      ],
      "execution_count": 36,
      "outputs": [
        {
          "output_type": "stream",
          "text": [
            "      TOTAL_VALUE   predicted   residual\n",
            "1822        462.0  406.946377  55.053623\n",
            "1998        370.4  362.888928   7.511072\n",
            "5126        407.4  390.287208  17.112792\n",
            "808         316.1  382.470203 -66.370203\n",
            "4034        393.2  434.334998 -41.134998\n"
          ],
          "name": "stdout"
        }
      ]
    },
    {
      "cell_type": "code",
      "metadata": {
        "id": "7MBccFbKMpiK",
        "colab_type": "code",
        "colab": {
          "base_uri": "https://localhost:8080/",
          "height": 279
        },
        "outputId": "a7b0ff30-b656-44ea-a76b-df6eb263164e"
      },
      "source": [
        "plt.plot(valid_results.TOTAL_VALUE, valid_results.predicted, '.')\n",
        "plt.xlabel('actual')  # set x-axis label\n",
        "plt.ylabel('predicted')  # set y-axis label\n",
        "axes = plt.gca()\n",
        "plt.plot(axes.get_xlim(), axes.get_xlim(), '--')\n",
        "plt.show()"
      ],
      "execution_count": 37,
      "outputs": [
        {
          "output_type": "display_data",
          "data": {
            "image/png": "[encoded data removed]",
            "text/plain": [
              "<Figure size 432x288 with 1 Axes>"
            ]
          },
          "metadata": {
            "tags": [],
            "needs_background": "light"
          }
        }
      ]
    },
    {
      "cell_type": "markdown",
      "metadata": {
        "id": "JiheKa5FMpiO",
        "colab_type": "text"
      },
      "source": [
        "## Applying the regression model to predict validation set (West Roxbury)\n",
        "We can use the metrics that scikit-learn provides."
      ]
    },
    {
      "cell_type": "code",
      "metadata": {
        "id": "NuMiev_4MpiP",
        "colab_type": "code",
        "colab": {
          "base_uri": "https://localhost:8080/",
          "height": 53
        },
        "outputId": "82363279-587a-4028-ae0d-59630c5ec0af"
      },
      "source": [
        "print('Training set r2: ', r2_score(train_results.TOTAL_VALUE, train_results.predicted))\n",
        "print('Validation set r2: ', r2_score(valid_results.TOTAL_VALUE, valid_results.predicted))"
      ],
      "execution_count": 38,
      "outputs": [
        {
          "output_type": "stream",
          "text": [
            "Training set r2:  0.8097361461091852\n",
            "Validation set r2:  0.8171327286147876\n"
          ],
          "name": "stdout"
        }
      ]
    },
    {
      "cell_type": "code",
      "metadata": {
        "id": "4IdX2AeW7x5y",
        "colab_type": "code",
        "colab": {
          "base_uri": "https://localhost:8080/",
          "height": 35
        },
        "outputId": "9d62c9d3-cc5c-4d79-c765-ac4535bd10a0"
      },
      "source": [
        "# import the utility function regressionSummary\n",
        "!pip install dmba\n",
        "from dmba import regressionSummary"
      ],
      "execution_count": 44,
      "outputs": [
        {
          "output_type": "stream",
          "text": [
            "Requirement already satisfied: dmba in /usr/local/lib/python3.6/dist-packages (0.0.12)\n"
          ],
          "name": "stdout"
        }
      ]
    },
    {
      "cell_type": "code",
      "metadata": {
        "id": "43jPsIz7MpiV",
        "colab_type": "code",
        "colab": {
          "base_uri": "https://localhost:8080/",
          "height": 303
        },
        "outputId": "abd51c4e-1bf0-461d-a988-263596d12bca"
      },
      "source": [
        "# training set\n",
        "regressionSummary(train_results.TOTAL_VALUE, train_results.predicted)\n",
        "\n",
        "# validation set\n",
        "regressionSummary(valid_results.TOTAL_VALUE, valid_results.predicted)"
      ],
      "execution_count": 45,
      "outputs": [
        {
          "output_type": "stream",
          "text": [
            "\n",
            "Regression statistics\n",
            "\n",
            "                      Mean Error (ME) : 0.0000\n",
            "       Root Mean Squared Error (RMSE) : 43.0306\n",
            "            Mean Absolute Error (MAE) : 32.6042\n",
            "          Mean Percentage Error (MPE) : -1.1116\n",
            "Mean Absolute Percentage Error (MAPE) : 8.4886\n",
            "\n",
            "Regression statistics\n",
            "\n",
            "                      Mean Error (ME) : -0.1463\n",
            "       Root Mean Squared Error (RMSE) : 42.7292\n",
            "            Mean Absolute Error (MAE) : 31.9663\n",
            "          Mean Percentage Error (MPE) : -1.0884\n",
            "Mean Absolute Percentage Error (MAPE) : 8.3283\n"
          ],
          "name": "stdout"
        }
      ]
    },
    {
      "cell_type": "markdown",
      "metadata": {
        "id": "Jt64npnAMpiZ",
        "colab_type": "text"
      },
      "source": [
        "## Computing model evaluation metrics"
      ]
    },
    {
      "cell_type": "code",
      "metadata": {
        "id": "wsne7LMJMpib",
        "colab_type": "code",
        "colab": {
          "base_uri": "https://localhost:8080/",
          "height": 142
        },
        "outputId": "cb75f1fd-a093-4cd2-eb17-cd00a5360064"
      },
      "source": [
        "new_data = pd.DataFrame({\n",
        "    'LOT_SQFT': [4200, 6444, 5035],\n",
        "    'YR_BUILT': [1960, 1940, 1925],\n",
        "    'GROSS_AREA': [2670, 2886, 3264],\n",
        "    'LIVING_AREA': [1710, 1474, 1523],\n",
        "    'FLOORS': [2.0, 1.5, 1.9],\n",
        "    'ROOMS': [10, 6, 6],\n",
        "    'BEDROOMS': [4, 3, 2],\n",
        "    'FULL_BATH': [1, 1, 1],\n",
        "    'HALF_BATH': [1, 1, 0],\n",
        "    'KITCHEN': [1, 1, 1],\n",
        "    'FIREPLACE': [1, 1, 0],\n",
        "    'REMODEL_Old': [0, 0, 0],\n",
        "    'REMODEL_Recent': [0, 0, 1],\n",
        "})\n",
        "print(new_data)\n",
        "\n",
        "print('Predictions: ', model.predict(new_data))"
      ],
      "execution_count": 46,
      "outputs": [
        {
          "output_type": "stream",
          "text": [
            "   LOT_SQFT  YR_BUILT  GROSS_AREA  ...  FIREPLACE  REMODEL_Old  REMODEL_Recent\n",
            "0      4200      1960        2670  ...          1            0               0\n",
            "1      6444      1940        2886  ...          1            0               0\n",
            "2      5035      1925        3264  ...          0            0               1\n",
            "\n",
            "[3 rows x 13 columns]\n",
            "Predictions:  [384.47210285 378.06696706 386.01773842]\n"
          ],
          "name": "stdout"
        }
      ]
    },
    {
      "cell_type": "markdown",
      "metadata": {
        "id": "Q8QAWVaP791v",
        "colab_type": "text"
      },
      "source": [
        "---\n",
        "**Reference**\n",
        "\n",
        "Shmueli, G., Bruce, P. C., Gedeck, P., and Patel, N. R. (2019). *Data Mining for Business Analytics: Concepts, Techniques and Applications in Python*. John Wiley & Sons, Inc."
      ]
    }
  ]
}