{
  "nbformat": 4,
  "nbformat_minor": 0,
  "metadata": {
    "kernelspec": {
      "display_name": "Python 3",
      "language": "python",
      "name": "python3"
    },
    "language_info": {
      "codemirror_mode": {
        "name": "ipython",
        "version": 3
      },
      "file_extension": ".py",
      "mimetype": "text/x-python",
      "name": "python",
      "nbconvert_exporter": "python",
      "pygments_lexer": "ipython3",
      "version": "3.7.1"
    },
    "colab": {
      "name": "Recommendation Systems.ipynb",
      "provenance": [],
      "toc_visible": true,
      "include_colab_link": true
    }
  },
  "cells": [
    {
      "cell_type": "markdown",
      "metadata": {
        "id": "view-in-github",
        "colab_type": "text"
      },
      "source": [
        "<a href=\"https://colab.research.google.com/github/nnbphuong/datascience4biz/blob/master/Recommendation_Systems.ipynb\" target=\"_parent\"><img src=\"https://colab.research.google.com/assets/colab-badge.svg\" alt=\"Open In Colab\"/></a>"
      ]
    },
    {
      "cell_type": "markdown",
      "metadata": {
        "id": "9Ojl0-4Wq3g2",
        "colab_type": "text"
      },
      "source": [
        "#RECOMMENDATION SYSTEMS\n",
        "> Phuong Nguyen @ [DataScience.vn](https://DataScience.vn)\n",
        "> \n",
        "> Dataset: https://gist.github.com/nnbphuong/016093619a86f643211211779592e336\n",
        "> \n",
        "> https://gist.github.com/nnbphuong/ef07850a13de09f3029f34e4a4333576"
      ]
    },
    {
      "cell_type": "markdown",
      "metadata": {
        "id": "TN4VALQk0va4",
        "colab_type": "text"
      },
      "source": [
        "# Association Rules"
      ]
    },
    {
      "cell_type": "code",
      "metadata": {
        "id": "pwPc1D8Jq3g5",
        "colab_type": "code",
        "colab": {
          "base_uri": "https://localhost:8080/",
          "height": 287
        },
        "outputId": "ddf1ccfa-6f5b-4b7c-f920-fc2a11810685"
      },
      "source": [
        "%matplotlib inline\n",
        "\n",
        "from pathlib import Path\n",
        "\n",
        "import heapq\n",
        "from collections import defaultdict\n",
        "\n",
        "import pandas as pd\n",
        "import matplotlib.pylab as plt\n",
        "from mlxtend.frequent_patterns import apriori\n",
        "from mlxtend.frequent_patterns import association_rules\n",
        "\n",
        "!pip install scikit-surprise\n",
        "from surprise import Dataset, Reader, KNNBasic\n",
        "from surprise.model_selection import train_test_split\n"
      ],
      "execution_count": 1,
      "outputs": [
        {
          "output_type": "stream",
          "text": [
            "Collecting scikit-surprise\n",
            "\u001b[?25l  Downloading https://files.pythonhosted.org/packages/f5/da/b5700d96495fb4f092be497f02492768a3d96a3f4fa2ae7dea46d4081cfa/scikit-surprise-1.1.0.tar.gz (6.4MB)\n",
            "\u001b[K     |████████████████████████████████| 6.5MB 2.6MB/s \n",
            "\u001b[?25hRequirement already satisfied: joblib>=0.11 in /usr/local/lib/python3.6/dist-packages (from scikit-surprise) (0.15.1)\n",
            "Requirement already satisfied: numpy>=1.11.2 in /usr/local/lib/python3.6/dist-packages (from scikit-surprise) (1.18.5)\n",
            "Requirement already satisfied: scipy>=1.0.0 in /usr/local/lib/python3.6/dist-packages (from scikit-surprise) (1.4.1)\n",
            "Requirement already satisfied: six>=1.10.0 in /usr/local/lib/python3.6/dist-packages (from scikit-surprise) (1.12.0)\n",
            "Building wheels for collected packages: scikit-surprise\n",
            "  Building wheel for scikit-surprise (setup.py) ... \u001b[?25l\u001b[?25hdone\n",
            "  Created wheel for scikit-surprise: filename=scikit_surprise-1.1.0-cp36-cp36m-linux_x86_64.whl size=1675733 sha256=b79b7814dc0a6968e7a6b4c37753f1b92dd8e8d6de17e9523f96581ed3695b14\n",
            "  Stored in directory: /root/.cache/pip/wheels/cc/fa/8c/16c93fccce688ae1bde7d979ff102f7bee980d9cfeb8641bcf\n",
            "Successfully built scikit-surprise\n",
            "Installing collected packages: scikit-surprise\n",
            "Successfully installed scikit-surprise-1.1.0\n"
          ],
          "name": "stdout"
        }
      ]
    },
    {
      "cell_type": "markdown",
      "metadata": {
        "id": "ySVrLniZq3hI",
        "colab_type": "text"
      },
      "source": [
        "## Association Rules for Faceplate Example"
      ]
    },
    {
      "cell_type": "code",
      "metadata": {
        "scrolled": true,
        "id": "4wTIGuJPq3hN",
        "colab_type": "code",
        "colab": {
          "base_uri": "https://localhost:8080/",
          "height": 394
        },
        "outputId": "3501aa8d-9142-45f3-869a-526c399fb39f"
      },
      "source": [
        "# Load and preprocess dataset \n",
        "fp_df = pd.read_csv('https://gist.githubusercontent.com/nnbphuong/016093619a86f643211211779592e336/raw/a98c0144b442eafebadb2ca841f7ae68e7261a71/Faceplate.csv')\n",
        "fp_df.set_index('Transaction', inplace=True)\n",
        "fp_df"
      ],
      "execution_count": 3,
      "outputs": [
        {
          "output_type": "execute_result",
          "data": {
            "text/html": [
              "<div>\n",
              "<style scoped>\n",
              "    .dataframe tbody tr th:only-of-type {\n",
              "        vertical-align: middle;\n",
              "    }\n",
              "\n",
              "    .dataframe tbody tr th {\n",
              "        vertical-align: top;\n",
              "    }\n",
              "\n",
              "    .dataframe thead th {\n",
              "        text-align: right;\n",
              "    }\n",
              "</style>\n",
              "<table border=\"1\" class=\"dataframe\">\n",
              "  <thead>\n",
              "    <tr style=\"text-align: right;\">\n",
              "      <th></th>\n",
              "      <th>Red</th>\n",
              "      <th>White</th>\n",
              "      <th>Blue</th>\n",
              "      <th>Orange</th>\n",
              "      <th>Green</th>\n",
              "      <th>Yellow</th>\n",
              "    </tr>\n",
              "    <tr>\n",
              "      <th>Transaction</th>\n",
              "      <th></th>\n",
              "      <th></th>\n",
              "      <th></th>\n",
              "      <th></th>\n",
              "      <th></th>\n",
              "      <th></th>\n",
              "    </tr>\n",
              "  </thead>\n",
              "  <tbody>\n",
              "    <tr>\n",
              "      <th>1</th>\n",
              "      <td>1</td>\n",
              "      <td>1</td>\n",
              "      <td>0</td>\n",
              "      <td>0</td>\n",
              "      <td>1</td>\n",
              "      <td>0</td>\n",
              "    </tr>\n",
              "    <tr>\n",
              "      <th>2</th>\n",
              "      <td>0</td>\n",
              "      <td>1</td>\n",
              "      <td>0</td>\n",
              "      <td>1</td>\n",
              "      <td>0</td>\n",
              "      <td>0</td>\n",
              "    </tr>\n",
              "    <tr>\n",
              "      <th>3</th>\n",
              "      <td>0</td>\n",
              "      <td>1</td>\n",
              "      <td>1</td>\n",
              "      <td>0</td>\n",
              "      <td>0</td>\n",
              "      <td>0</td>\n",
              "    </tr>\n",
              "    <tr>\n",
              "      <th>4</th>\n",
              "      <td>1</td>\n",
              "      <td>1</td>\n",
              "      <td>0</td>\n",
              "      <td>1</td>\n",
              "      <td>0</td>\n",
              "      <td>0</td>\n",
              "    </tr>\n",
              "    <tr>\n",
              "      <th>5</th>\n",
              "      <td>1</td>\n",
              "      <td>0</td>\n",
              "      <td>1</td>\n",
              "      <td>0</td>\n",
              "      <td>0</td>\n",
              "      <td>0</td>\n",
              "    </tr>\n",
              "    <tr>\n",
              "      <th>6</th>\n",
              "      <td>0</td>\n",
              "      <td>1</td>\n",
              "      <td>1</td>\n",
              "      <td>0</td>\n",
              "      <td>0</td>\n",
              "      <td>0</td>\n",
              "    </tr>\n",
              "    <tr>\n",
              "      <th>7</th>\n",
              "      <td>1</td>\n",
              "      <td>0</td>\n",
              "      <td>1</td>\n",
              "      <td>0</td>\n",
              "      <td>0</td>\n",
              "      <td>0</td>\n",
              "    </tr>\n",
              "    <tr>\n",
              "      <th>8</th>\n",
              "      <td>1</td>\n",
              "      <td>1</td>\n",
              "      <td>1</td>\n",
              "      <td>0</td>\n",
              "      <td>1</td>\n",
              "      <td>0</td>\n",
              "    </tr>\n",
              "    <tr>\n",
              "      <th>9</th>\n",
              "      <td>1</td>\n",
              "      <td>1</td>\n",
              "      <td>1</td>\n",
              "      <td>0</td>\n",
              "      <td>0</td>\n",
              "      <td>0</td>\n",
              "    </tr>\n",
              "    <tr>\n",
              "      <th>10</th>\n",
              "      <td>0</td>\n",
              "      <td>0</td>\n",
              "      <td>0</td>\n",
              "      <td>0</td>\n",
              "      <td>0</td>\n",
              "      <td>1</td>\n",
              "    </tr>\n",
              "  </tbody>\n",
              "</table>\n",
              "</div>"
            ],
            "text/plain": [
              "             Red  White  Blue  Orange  Green  Yellow\n",
              "Transaction                                         \n",
              "1              1      1     0       0      1       0\n",
              "2              0      1     0       1      0       0\n",
              "3              0      1     1       0      0       0\n",
              "4              1      1     0       1      0       0\n",
              "5              1      0     1       0      0       0\n",
              "6              0      1     1       0      0       0\n",
              "7              1      0     1       0      0       0\n",
              "8              1      1     1       0      1       0\n",
              "9              1      1     1       0      0       0\n",
              "10             0      0     0       0      0       1"
            ]
          },
          "metadata": {
            "tags": []
          },
          "execution_count": 3
        }
      ]
    },
    {
      "cell_type": "code",
      "metadata": {
        "id": "TgkXq6Qkq3hZ",
        "colab_type": "code",
        "colab": {
          "base_uri": "https://localhost:8080/",
          "height": 142
        },
        "outputId": "562e76a7-7f6e-4530-b9bf-70767ccf0b54"
      },
      "source": [
        "# create frequent itemsets\n",
        "itemsets = apriori(fp_df, min_support=0.2, use_colnames=True)\n",
        "\n",
        "# and convert into rules\n",
        "rules = association_rules(itemsets, metric='confidence', min_threshold=0.5)\n",
        "rules.sort_values(by=['lift'], ascending=False).head(6)\n",
        "\n",
        "print(rules.sort_values(by=['lift'], ascending=False)\n",
        "      .drop(columns=['antecedent support', 'consequent support', 'conviction'])\n",
        "      .head(6))"
      ],
      "execution_count": 5,
      "outputs": [
        {
          "output_type": "stream",
          "text": [
            "       antecedents   consequents  support  confidence      lift  leverage\n",
            "13    (White, Red)       (Green)      0.2         0.5  2.500000      0.12\n",
            "15         (Green)  (White, Red)      0.2         1.0  2.500000      0.12\n",
            "4          (Green)         (Red)      0.2         1.0  1.666667      0.08\n",
            "12  (White, Green)         (Red)      0.2         1.0  1.666667      0.08\n",
            "7         (Orange)       (White)      0.2         1.0  1.428571      0.06\n",
            "8          (Green)       (White)      0.2         1.0  1.428571      0.06\n"
          ],
          "name": "stdout"
        }
      ]
    },
    {
      "cell_type": "code",
      "metadata": {
        "id": "IHudE-Q-q3hj",
        "colab_type": "code",
        "colab": {
          "base_uri": "https://localhost:8080/",
          "height": 272
        },
        "outputId": "8e1041f1-5806-49cf-e691-c0cefb9f096b"
      },
      "source": [
        "# filter to get rules with single consequents only\n",
        "rules[[len(c) == 1 for c in rules.consequents]].sort_values(by=['lift'], ascending=False).head(6)"
      ],
      "execution_count": 6,
      "outputs": [
        {
          "output_type": "execute_result",
          "data": {
            "text/html": [
              "<div>\n",
              "<style scoped>\n",
              "    .dataframe tbody tr th:only-of-type {\n",
              "        vertical-align: middle;\n",
              "    }\n",
              "\n",
              "    .dataframe tbody tr th {\n",
              "        vertical-align: top;\n",
              "    }\n",
              "\n",
              "    .dataframe thead th {\n",
              "        text-align: right;\n",
              "    }\n",
              "</style>\n",
              "<table border=\"1\" class=\"dataframe\">\n",
              "  <thead>\n",
              "    <tr style=\"text-align: right;\">\n",
              "      <th></th>\n",
              "      <th>antecedents</th>\n",
              "      <th>consequents</th>\n",
              "      <th>antecedent support</th>\n",
              "      <th>consequent support</th>\n",
              "      <th>support</th>\n",
              "      <th>confidence</th>\n",
              "      <th>lift</th>\n",
              "      <th>leverage</th>\n",
              "      <th>conviction</th>\n",
              "    </tr>\n",
              "  </thead>\n",
              "  <tbody>\n",
              "    <tr>\n",
              "      <th>13</th>\n",
              "      <td>(White, Red)</td>\n",
              "      <td>(Green)</td>\n",
              "      <td>0.4</td>\n",
              "      <td>0.2</td>\n",
              "      <td>0.2</td>\n",
              "      <td>0.5</td>\n",
              "      <td>2.500000</td>\n",
              "      <td>0.12</td>\n",
              "      <td>1.6</td>\n",
              "    </tr>\n",
              "    <tr>\n",
              "      <th>4</th>\n",
              "      <td>(Green)</td>\n",
              "      <td>(Red)</td>\n",
              "      <td>0.2</td>\n",
              "      <td>0.6</td>\n",
              "      <td>0.2</td>\n",
              "      <td>1.0</td>\n",
              "      <td>1.666667</td>\n",
              "      <td>0.08</td>\n",
              "      <td>inf</td>\n",
              "    </tr>\n",
              "    <tr>\n",
              "      <th>12</th>\n",
              "      <td>(White, Green)</td>\n",
              "      <td>(Red)</td>\n",
              "      <td>0.2</td>\n",
              "      <td>0.6</td>\n",
              "      <td>0.2</td>\n",
              "      <td>1.0</td>\n",
              "      <td>1.666667</td>\n",
              "      <td>0.08</td>\n",
              "      <td>inf</td>\n",
              "    </tr>\n",
              "    <tr>\n",
              "      <th>7</th>\n",
              "      <td>(Orange)</td>\n",
              "      <td>(White)</td>\n",
              "      <td>0.2</td>\n",
              "      <td>0.7</td>\n",
              "      <td>0.2</td>\n",
              "      <td>1.0</td>\n",
              "      <td>1.428571</td>\n",
              "      <td>0.06</td>\n",
              "      <td>inf</td>\n",
              "    </tr>\n",
              "    <tr>\n",
              "      <th>8</th>\n",
              "      <td>(Green)</td>\n",
              "      <td>(White)</td>\n",
              "      <td>0.2</td>\n",
              "      <td>0.7</td>\n",
              "      <td>0.2</td>\n",
              "      <td>1.0</td>\n",
              "      <td>1.428571</td>\n",
              "      <td>0.06</td>\n",
              "      <td>inf</td>\n",
              "    </tr>\n",
              "    <tr>\n",
              "      <th>14</th>\n",
              "      <td>(Green, Red)</td>\n",
              "      <td>(White)</td>\n",
              "      <td>0.2</td>\n",
              "      <td>0.7</td>\n",
              "      <td>0.2</td>\n",
              "      <td>1.0</td>\n",
              "      <td>1.428571</td>\n",
              "      <td>0.06</td>\n",
              "      <td>inf</td>\n",
              "    </tr>\n",
              "  </tbody>\n",
              "</table>\n",
              "</div>"
            ],
            "text/plain": [
              "       antecedents consequents  ...  leverage  conviction\n",
              "13    (White, Red)     (Green)  ...      0.12         1.6\n",
              "4          (Green)       (Red)  ...      0.08         inf\n",
              "12  (White, Green)       (Red)  ...      0.08         inf\n",
              "7         (Orange)     (White)  ...      0.06         inf\n",
              "8          (Green)     (White)  ...      0.06         inf\n",
              "14    (Green, Red)     (White)  ...      0.06         inf\n",
              "\n",
              "[6 rows x 9 columns]"
            ]
          },
          "metadata": {
            "tags": []
          },
          "execution_count": 6
        }
      ]
    },
    {
      "cell_type": "markdown",
      "metadata": {
        "id": "NfUEVXaRq3h3",
        "colab_type": "text"
      },
      "source": [
        "## Association Rules for Random Data"
      ]
    },
    {
      "cell_type": "code",
      "metadata": {
        "id": "6E2hvzBIq3h6",
        "colab_type": "code",
        "colab": {
          "base_uri": "https://localhost:8080/",
          "height": 244
        },
        "outputId": "4c42beac-257d-40f0-947b-2af3c9fd9a0b"
      },
      "source": [
        "# Prepare the dataset\n",
        "from itertools import chain\n",
        "randomTransactions = [{8}, {3,4,8}, {8}, {3,9}, {9}, {1,8}, {6,9}, {3,5,7,9}, {8}, set(), \n",
        "                      {1,7,9}, {1,4,5,8,9}, {5,7,9}, {6,7,8}, {3,7,9}, {1,4,9}, {6,7,8}, {8}, set(), {9},\n",
        "                      {2,5,6,8}, {4,6,9}, {4,9}, {8,9}, {6,8}, {1,6,8}, {5,8}, {4,8,9}, {9}, {8},\n",
        "                      {1,5,8}, {3,6,9}, {7,9}, {7,8,9}, {3,4,6,8}, {1,4,8}, {4,7,8}, {8,9}, {4,5,7,9}, {2,8,9},\n",
        "                      {2,5,9}, {1,2,7,9}, {5,8}, {1,7,8}, {8}, {2,7,9}, {4,6,9}, {9}, {9}, {6,7,8}]\n",
        "print(randomTransactions)\n",
        "uniqueItems = sorted(set(chain.from_iterable(randomTransactions)))\n",
        "randomData = pd.DataFrame(0, index=range(len(randomTransactions)), columns=uniqueItems)\n",
        "for row, transaction in enumerate(randomTransactions):\n",
        "    for item in transaction:\n",
        "        randomData.loc[row][item] = 1\n",
        "randomData.head()"
      ],
      "execution_count": 7,
      "outputs": [
        {
          "output_type": "stream",
          "text": [
            "[{8}, {8, 3, 4}, {8}, {9, 3}, {9}, {8, 1}, {9, 6}, {9, 3, 5, 7}, {8}, set(), {1, 9, 7}, {1, 4, 5, 8, 9}, {9, 5, 7}, {8, 6, 7}, {9, 3, 7}, {1, 4, 9}, {8, 6, 7}, {8}, set(), {9}, {8, 2, 5, 6}, {9, 4, 6}, {9, 4}, {8, 9}, {8, 6}, {8, 1, 6}, {8, 5}, {8, 9, 4}, {9}, {8}, {8, 1, 5}, {9, 3, 6}, {9, 7}, {8, 9, 7}, {8, 3, 4, 6}, {8, 1, 4}, {8, 4, 7}, {8, 9}, {9, 4, 5, 7}, {8, 9, 2}, {9, 2, 5}, {1, 2, 9, 7}, {8, 5}, {8, 1, 7}, {8}, {9, 2, 7}, {9, 4, 6}, {9}, {9}, {8, 6, 7}]\n"
          ],
          "name": "stdout"
        },
        {
          "output_type": "execute_result",
          "data": {
            "text/html": [
              "<div>\n",
              "<style scoped>\n",
              "    .dataframe tbody tr th:only-of-type {\n",
              "        vertical-align: middle;\n",
              "    }\n",
              "\n",
              "    .dataframe tbody tr th {\n",
              "        vertical-align: top;\n",
              "    }\n",
              "\n",
              "    .dataframe thead th {\n",
              "        text-align: right;\n",
              "    }\n",
              "</style>\n",
              "<table border=\"1\" class=\"dataframe\">\n",
              "  <thead>\n",
              "    <tr style=\"text-align: right;\">\n",
              "      <th></th>\n",
              "      <th>1</th>\n",
              "      <th>2</th>\n",
              "      <th>3</th>\n",
              "      <th>4</th>\n",
              "      <th>5</th>\n",
              "      <th>6</th>\n",
              "      <th>7</th>\n",
              "      <th>8</th>\n",
              "      <th>9</th>\n",
              "    </tr>\n",
              "  </thead>\n",
              "  <tbody>\n",
              "    <tr>\n",
              "      <th>0</th>\n",
              "      <td>0</td>\n",
              "      <td>0</td>\n",
              "      <td>0</td>\n",
              "      <td>0</td>\n",
              "      <td>0</td>\n",
              "      <td>0</td>\n",
              "      <td>0</td>\n",
              "      <td>1</td>\n",
              "      <td>0</td>\n",
              "    </tr>\n",
              "    <tr>\n",
              "      <th>1</th>\n",
              "      <td>0</td>\n",
              "      <td>0</td>\n",
              "      <td>1</td>\n",
              "      <td>1</td>\n",
              "      <td>0</td>\n",
              "      <td>0</td>\n",
              "      <td>0</td>\n",
              "      <td>1</td>\n",
              "      <td>0</td>\n",
              "    </tr>\n",
              "    <tr>\n",
              "      <th>2</th>\n",
              "      <td>0</td>\n",
              "      <td>0</td>\n",
              "      <td>0</td>\n",
              "      <td>0</td>\n",
              "      <td>0</td>\n",
              "      <td>0</td>\n",
              "      <td>0</td>\n",
              "      <td>1</td>\n",
              "      <td>0</td>\n",
              "    </tr>\n",
              "    <tr>\n",
              "      <th>3</th>\n",
              "      <td>0</td>\n",
              "      <td>0</td>\n",
              "      <td>1</td>\n",
              "      <td>0</td>\n",
              "      <td>0</td>\n",
              "      <td>0</td>\n",
              "      <td>0</td>\n",
              "      <td>0</td>\n",
              "      <td>1</td>\n",
              "    </tr>\n",
              "    <tr>\n",
              "      <th>4</th>\n",
              "      <td>0</td>\n",
              "      <td>0</td>\n",
              "      <td>0</td>\n",
              "      <td>0</td>\n",
              "      <td>0</td>\n",
              "      <td>0</td>\n",
              "      <td>0</td>\n",
              "      <td>0</td>\n",
              "      <td>1</td>\n",
              "    </tr>\n",
              "  </tbody>\n",
              "</table>\n",
              "</div>"
            ],
            "text/plain": [
              "   1  2  3  4  5  6  7  8  9\n",
              "0  0  0  0  0  0  0  0  1  0\n",
              "1  0  0  1  1  0  0  0  1  0\n",
              "2  0  0  0  0  0  0  0  1  0\n",
              "3  0  0  1  0  0  0  0  0  1\n",
              "4  0  0  0  0  0  0  0  0  1"
            ]
          },
          "metadata": {
            "tags": []
          },
          "execution_count": 7
        }
      ]
    },
    {
      "cell_type": "code",
      "metadata": {
        "id": "isEDr0krq3iE",
        "colab_type": "code",
        "colab": {
          "base_uri": "https://localhost:8080/",
          "height": 142
        },
        "outputId": "e3a6fa1c-a401-4564-e7be-33fd0ef56983"
      },
      "source": [
        "# create frequent itemsets\n",
        "itemsets = apriori(randomData, min_support=2/len(randomData), use_colnames=True)\n",
        "# and convert into rules\n",
        "rules = association_rules(itemsets, metric='confidence', min_threshold=0.7)\n",
        "print(rules.sort_values(by=['lift'], ascending=False)\n",
        "      .drop(columns=['antecedent support', 'consequent support', 'conviction'])\n",
        "      .head(6))"
      ],
      "execution_count": 8,
      "outputs": [
        {
          "output_type": "stream",
          "text": [
            "  antecedents consequents  support  confidence      lift  leverage\n",
            "3      (8, 3)         (4)     0.04         1.0  4.545455    0.0312\n",
            "1      (1, 5)         (8)     0.04         1.0  1.851852    0.0184\n",
            "2      (2, 7)         (9)     0.04         1.0  1.851852    0.0184\n",
            "4      (3, 4)         (8)     0.04         1.0  1.851852    0.0184\n",
            "5      (3, 7)         (9)     0.04         1.0  1.851852    0.0184\n",
            "6      (4, 5)         (9)     0.04         1.0  1.851852    0.0184\n"
          ],
          "name": "stdout"
        }
      ]
    },
    {
      "cell_type": "markdown",
      "metadata": {
        "id": "Hf9O4e-nq3iK",
        "colab_type": "text"
      },
      "source": [
        "## Association Rules for Similar Book Purchases"
      ]
    },
    {
      "cell_type": "code",
      "metadata": {
        "id": "t-DElaGvq3iM",
        "colab_type": "code",
        "colab": {
          "base_uri": "https://localhost:8080/",
          "height": 206
        },
        "outputId": "594919d0-baf7-49a4-9d52-a55d206634ac"
      },
      "source": [
        "# load dataset\n",
        "all_books_df = pd.read_csv('https://gist.githubusercontent.com/nnbphuong/ef07850a13de09f3029f34e4a4333576/raw/0f920e9173ca2c2d63861025d85d80e3505346e8/CharlesBookClub.csv')\n",
        "\n",
        "# create the binary incidence matrix\n",
        "ignore = ['Seq#', 'ID#', 'Gender', 'M', 'R', 'F', 'FirstPurch', 'Related Purchase',\n",
        "          'Mcode', 'Rcode', 'Fcode', 'Yes_Florence', 'No_Florence']\n",
        "count_books = all_books_df.drop(columns=ignore)\n",
        "count_books[count_books > 0] = 1\n",
        "\n",
        "count_books.head()"
      ],
      "execution_count": 10,
      "outputs": [
        {
          "output_type": "execute_result",
          "data": {
            "text/html": [
              "<div>\n",
              "<style scoped>\n",
              "    .dataframe tbody tr th:only-of-type {\n",
              "        vertical-align: middle;\n",
              "    }\n",
              "\n",
              "    .dataframe tbody tr th {\n",
              "        vertical-align: top;\n",
              "    }\n",
              "\n",
              "    .dataframe thead th {\n",
              "        text-align: right;\n",
              "    }\n",
              "</style>\n",
              "<table border=\"1\" class=\"dataframe\">\n",
              "  <thead>\n",
              "    <tr style=\"text-align: right;\">\n",
              "      <th></th>\n",
              "      <th>ChildBks</th>\n",
              "      <th>YouthBks</th>\n",
              "      <th>CookBks</th>\n",
              "      <th>DoItYBks</th>\n",
              "      <th>RefBks</th>\n",
              "      <th>ArtBks</th>\n",
              "      <th>GeogBks</th>\n",
              "      <th>ItalCook</th>\n",
              "      <th>ItalAtlas</th>\n",
              "      <th>ItalArt</th>\n",
              "      <th>Florence</th>\n",
              "    </tr>\n",
              "  </thead>\n",
              "  <tbody>\n",
              "    <tr>\n",
              "      <th>0</th>\n",
              "      <td>0</td>\n",
              "      <td>1</td>\n",
              "      <td>1</td>\n",
              "      <td>0</td>\n",
              "      <td>0</td>\n",
              "      <td>0</td>\n",
              "      <td>0</td>\n",
              "      <td>0</td>\n",
              "      <td>0</td>\n",
              "      <td>0</td>\n",
              "      <td>0</td>\n",
              "    </tr>\n",
              "    <tr>\n",
              "      <th>1</th>\n",
              "      <td>0</td>\n",
              "      <td>0</td>\n",
              "      <td>0</td>\n",
              "      <td>0</td>\n",
              "      <td>0</td>\n",
              "      <td>0</td>\n",
              "      <td>0</td>\n",
              "      <td>0</td>\n",
              "      <td>0</td>\n",
              "      <td>0</td>\n",
              "      <td>0</td>\n",
              "    </tr>\n",
              "    <tr>\n",
              "      <th>2</th>\n",
              "      <td>1</td>\n",
              "      <td>1</td>\n",
              "      <td>1</td>\n",
              "      <td>0</td>\n",
              "      <td>1</td>\n",
              "      <td>0</td>\n",
              "      <td>1</td>\n",
              "      <td>1</td>\n",
              "      <td>0</td>\n",
              "      <td>0</td>\n",
              "      <td>0</td>\n",
              "    </tr>\n",
              "    <tr>\n",
              "      <th>3</th>\n",
              "      <td>0</td>\n",
              "      <td>0</td>\n",
              "      <td>0</td>\n",
              "      <td>0</td>\n",
              "      <td>0</td>\n",
              "      <td>0</td>\n",
              "      <td>0</td>\n",
              "      <td>0</td>\n",
              "      <td>0</td>\n",
              "      <td>0</td>\n",
              "      <td>0</td>\n",
              "    </tr>\n",
              "    <tr>\n",
              "      <th>4</th>\n",
              "      <td>0</td>\n",
              "      <td>0</td>\n",
              "      <td>0</td>\n",
              "      <td>0</td>\n",
              "      <td>0</td>\n",
              "      <td>0</td>\n",
              "      <td>0</td>\n",
              "      <td>0</td>\n",
              "      <td>0</td>\n",
              "      <td>0</td>\n",
              "      <td>0</td>\n",
              "    </tr>\n",
              "  </tbody>\n",
              "</table>\n",
              "</div>"
            ],
            "text/plain": [
              "   ChildBks  YouthBks  CookBks  ...  ItalAtlas  ItalArt  Florence\n",
              "0         0         1        1  ...          0        0         0\n",
              "1         0         0        0  ...          0        0         0\n",
              "2         1         1        1  ...          0        0         0\n",
              "3         0         0        0  ...          0        0         0\n",
              "4         0         0        0  ...          0        0         0\n",
              "\n",
              "[5 rows x 11 columns]"
            ]
          },
          "metadata": {
            "tags": []
          },
          "execution_count": 10
        }
      ]
    },
    {
      "cell_type": "code",
      "metadata": {
        "id": "4FiTJVSwq3iU",
        "colab_type": "code",
        "colab": {
          "base_uri": "https://localhost:8080/",
          "height": 300
        },
        "outputId": "6445e5ee-6d45-4418-bde5-fbc511262fc4"
      },
      "source": [
        "# determine item frequencies\n",
        "itemFrequency = count_books.sum(axis=0) / len(count_books)\n",
        "\n",
        "# and plot as histogram\n",
        "ax = itemFrequency.plot.bar(color='blue')\n",
        "plt.ylabel('Item frequency (relative)')\n",
        "plt.show()"
      ],
      "execution_count": 11,
      "outputs": [
        {
          "output_type": "display_data",
          "data": {
            "image/png": "[encoded data removed]",
            "text/plain": [
              "<Figure size 432x288 with 1 Axes>"
            ]
          },
          "metadata": {
            "tags": [],
            "needs_background": "light"
          }
        }
      ]
    },
    {
      "cell_type": "code",
      "metadata": {
        "id": "vRyoVHLRq3ib",
        "colab_type": "code",
        "colab": {
          "base_uri": "https://localhost:8080/",
          "height": 535
        },
        "outputId": "bb1fa945-3c4c-44ba-fff8-417e28008d10"
      },
      "source": [
        "# create frequent itemsets and rules\n",
        "itemsets = apriori(count_books, min_support=200/4000, use_colnames=True)\n",
        "rules = association_rules(itemsets, metric='confidence', min_threshold=0.5)\n",
        "\n",
        "print('Number of rules', len(rules))\n",
        "\n",
        "# Display 25 rules with highest lift\n",
        "rules.sort_values(by=['lift'], ascending=False).head(25)\n",
        "\n",
        "pd.set_option('precision', 5)\n",
        "pd.set_option('display.width', 100)\n",
        "print(rules.sort_values(by=['lift'], ascending=False).drop(columns=['antecedent support', 'consequent support', 'conviction']).head(25))\n",
        "pd.set_option('precision', 6)"
      ],
      "execution_count": 12,
      "outputs": [
        {
          "output_type": "stream",
          "text": [
            "Number of rules 81\n",
            "                      antecedents          consequents  ...     lift  leverage\n",
            "64             (RefBks, YouthBks)  (CookBks, ChildBks)  ...  2.80992   0.03559\n",
            "73             (RefBks, DoItYBks)  (CookBks, ChildBks)  ...  2.73621   0.03886\n",
            "60           (YouthBks, DoItYBks)  (CookBks, ChildBks)  ...  2.68145   0.04201\n",
            "80              (RefBks, GeogBks)  (CookBks, ChildBks)  ...  2.54000   0.03047\n",
            "69            (GeogBks, YouthBks)  (CookBks, ChildBks)  ...  2.50109   0.03796\n",
            "77            (GeogBks, DoItYBks)  (CookBks, ChildBks)  ...  2.47525   0.03606\n",
            "66   (CookBks, GeogBks, ChildBks)           (YouthBks)  ...  2.42445   0.03716\n",
            "71    (CookBks, RefBks, ChildBks)           (DoItYBks)  ...  2.32301   0.03488\n",
            "48            (GeogBks, DoItYBks)           (YouthBks)  ...  2.26486   0.03044\n",
            "62    (CookBks, RefBks, ChildBks)           (YouthBks)  ...  2.24057   0.03059\n",
            "58  (CookBks, DoItYBks, ChildBks)           (YouthBks)  ...  2.20131   0.03656\n",
            "57  (CookBks, YouthBks, ChildBks)           (DoItYBks)  ...  2.19169   0.03643\n",
            "34             (RefBks, ChildBks)           (DoItYBks)  ...  2.17314   0.03833\n",
            "75   (CookBks, GeogBks, ChildBks)           (DoItYBks)  ...  2.16884   0.03260\n",
            "20            (GeogBks, ChildBks)           (YouthBks)  ...  2.16680   0.04066\n",
            "45             (CookBks, GeogBks)           (YouthBks)  ...  2.15572   0.04302\n",
            "63   (RefBks, YouthBks, ChildBks)            (CookBks)  ...  2.14471   0.02949\n",
            "17           (YouthBks, ChildBks)           (DoItYBks)  ...  2.13569   0.04267\n",
            "50              (CookBks, RefBks)           (DoItYBks)  ...  2.09262   0.03890\n",
            "28                       (RefBks)  (CookBks, ChildBks)  ...  2.08882   0.05395\n",
            "70    (CookBks, RefBks, DoItYBks)           (ChildBks)  ...  2.08667   0.03190\n",
            "15                     (YouthBks)  (CookBks, ChildBks)  ...  2.08129   0.06234\n",
            "72   (RefBks, DoItYBks, ChildBks)            (CookBks)  ...  2.07624   0.03175\n",
            "23            (CookBks, ChildBks)           (DoItYBks)  ...  2.07220   0.06610\n",
            "25                     (DoItYBks)  (CookBks, ChildBks)  ...  2.07220   0.06610\n",
            "\n",
            "[25 rows x 6 columns]\n"
          ],
          "name": "stdout"
        }
      ]
    },
    {
      "cell_type": "code",
      "metadata": {
        "id": "kwS0bkrZq3ij",
        "colab_type": "code",
        "colab": {
          "base_uri": "https://localhost:8080/",
          "height": 537
        },
        "outputId": "39c1a2ee-b911-4ec8-edc6-f18c1bac3311"
      },
      "source": [
        "# Filter rules by number of antecedents (maximum 2) and consequents (maximum 1)\n",
        "rules = rules[[len(c) <= 2 for c in rules.antecedents]]\n",
        "rules = rules[[len(c) == 1 for c in rules.consequents]]\n",
        "\n",
        "rules.sort_values(by=['lift'], ascending=False).head(10)"
      ],
      "execution_count": 13,
      "outputs": [
        {
          "output_type": "execute_result",
          "data": {
            "text/html": [
              "<div>\n",
              "<style scoped>\n",
              "    .dataframe tbody tr th:only-of-type {\n",
              "        vertical-align: middle;\n",
              "    }\n",
              "\n",
              "    .dataframe tbody tr th {\n",
              "        vertical-align: top;\n",
              "    }\n",
              "\n",
              "    .dataframe thead th {\n",
              "        text-align: right;\n",
              "    }\n",
              "</style>\n",
              "<table border=\"1\" class=\"dataframe\">\n",
              "  <thead>\n",
              "    <tr style=\"text-align: right;\">\n",
              "      <th></th>\n",
              "      <th>antecedents</th>\n",
              "      <th>consequents</th>\n",
              "      <th>antecedent support</th>\n",
              "      <th>consequent support</th>\n",
              "      <th>support</th>\n",
              "      <th>confidence</th>\n",
              "      <th>lift</th>\n",
              "      <th>leverage</th>\n",
              "      <th>conviction</th>\n",
              "    </tr>\n",
              "  </thead>\n",
              "  <tbody>\n",
              "    <tr>\n",
              "      <th>48</th>\n",
              "      <td>(GeogBks, DoItYBks)</td>\n",
              "      <td>(YouthBks)</td>\n",
              "      <td>0.10100</td>\n",
              "      <td>0.23825</td>\n",
              "      <td>0.05450</td>\n",
              "      <td>0.539604</td>\n",
              "      <td>2.264864</td>\n",
              "      <td>0.030437</td>\n",
              "      <td>1.654554</td>\n",
              "    </tr>\n",
              "    <tr>\n",
              "      <th>34</th>\n",
              "      <td>(RefBks, ChildBks)</td>\n",
              "      <td>(DoItYBks)</td>\n",
              "      <td>0.12825</td>\n",
              "      <td>0.25475</td>\n",
              "      <td>0.07100</td>\n",
              "      <td>0.553606</td>\n",
              "      <td>2.173135</td>\n",
              "      <td>0.038328</td>\n",
              "      <td>1.669490</td>\n",
              "    </tr>\n",
              "    <tr>\n",
              "      <th>20</th>\n",
              "      <td>(GeogBks, ChildBks)</td>\n",
              "      <td>(YouthBks)</td>\n",
              "      <td>0.14625</td>\n",
              "      <td>0.23825</td>\n",
              "      <td>0.07550</td>\n",
              "      <td>0.516239</td>\n",
              "      <td>2.166797</td>\n",
              "      <td>0.040656</td>\n",
              "      <td>1.574642</td>\n",
              "    </tr>\n",
              "    <tr>\n",
              "      <th>45</th>\n",
              "      <td>(CookBks, GeogBks)</td>\n",
              "      <td>(YouthBks)</td>\n",
              "      <td>0.15625</td>\n",
              "      <td>0.23825</td>\n",
              "      <td>0.08025</td>\n",
              "      <td>0.513600</td>\n",
              "      <td>2.155719</td>\n",
              "      <td>0.043023</td>\n",
              "      <td>1.566098</td>\n",
              "    </tr>\n",
              "    <tr>\n",
              "      <th>17</th>\n",
              "      <td>(YouthBks, ChildBks)</td>\n",
              "      <td>(DoItYBks)</td>\n",
              "      <td>0.14750</td>\n",
              "      <td>0.25475</td>\n",
              "      <td>0.08025</td>\n",
              "      <td>0.544068</td>\n",
              "      <td>2.135693</td>\n",
              "      <td>0.042674</td>\n",
              "      <td>1.634563</td>\n",
              "    </tr>\n",
              "    <tr>\n",
              "      <th>50</th>\n",
              "      <td>(CookBks, RefBks)</td>\n",
              "      <td>(DoItYBks)</td>\n",
              "      <td>0.13975</td>\n",
              "      <td>0.25475</td>\n",
              "      <td>0.07450</td>\n",
              "      <td>0.533095</td>\n",
              "      <td>2.092619</td>\n",
              "      <td>0.038899</td>\n",
              "      <td>1.596148</td>\n",
              "    </tr>\n",
              "    <tr>\n",
              "      <th>23</th>\n",
              "      <td>(CookBks, ChildBks)</td>\n",
              "      <td>(DoItYBks)</td>\n",
              "      <td>0.24200</td>\n",
              "      <td>0.25475</td>\n",
              "      <td>0.12775</td>\n",
              "      <td>0.527893</td>\n",
              "      <td>2.072198</td>\n",
              "      <td>0.066101</td>\n",
              "      <td>1.578560</td>\n",
              "    </tr>\n",
              "    <tr>\n",
              "      <th>47</th>\n",
              "      <td>(GeogBks, YouthBks)</td>\n",
              "      <td>(DoItYBks)</td>\n",
              "      <td>0.10450</td>\n",
              "      <td>0.25475</td>\n",
              "      <td>0.05450</td>\n",
              "      <td>0.521531</td>\n",
              "      <td>2.047227</td>\n",
              "      <td>0.027879</td>\n",
              "      <td>1.557573</td>\n",
              "    </tr>\n",
              "    <tr>\n",
              "      <th>41</th>\n",
              "      <td>(CookBks, YouthBks)</td>\n",
              "      <td>(DoItYBks)</td>\n",
              "      <td>0.16100</td>\n",
              "      <td>0.25475</td>\n",
              "      <td>0.08375</td>\n",
              "      <td>0.520186</td>\n",
              "      <td>2.041948</td>\n",
              "      <td>0.042735</td>\n",
              "      <td>1.553207</td>\n",
              "    </tr>\n",
              "    <tr>\n",
              "      <th>43</th>\n",
              "      <td>(RefBks, YouthBks)</td>\n",
              "      <td>(CookBks)</td>\n",
              "      <td>0.08125</td>\n",
              "      <td>0.41550</td>\n",
              "      <td>0.06825</td>\n",
              "      <td>0.840000</td>\n",
              "      <td>2.021661</td>\n",
              "      <td>0.034491</td>\n",
              "      <td>3.653125</td>\n",
              "    </tr>\n",
              "  </tbody>\n",
              "</table>\n",
              "</div>"
            ],
            "text/plain": [
              "             antecedents consequents  ...  leverage  conviction\n",
              "48   (GeogBks, DoItYBks)  (YouthBks)  ...  0.030437    1.654554\n",
              "34    (RefBks, ChildBks)  (DoItYBks)  ...  0.038328    1.669490\n",
              "20   (GeogBks, ChildBks)  (YouthBks)  ...  0.040656    1.574642\n",
              "45    (CookBks, GeogBks)  (YouthBks)  ...  0.043023    1.566098\n",
              "17  (YouthBks, ChildBks)  (DoItYBks)  ...  0.042674    1.634563\n",
              "50     (CookBks, RefBks)  (DoItYBks)  ...  0.038899    1.596148\n",
              "23   (CookBks, ChildBks)  (DoItYBks)  ...  0.066101    1.578560\n",
              "47   (GeogBks, YouthBks)  (DoItYBks)  ...  0.027879    1.557573\n",
              "41   (CookBks, YouthBks)  (DoItYBks)  ...  0.042735    1.553207\n",
              "43    (RefBks, YouthBks)   (CookBks)  ...  0.034491    3.653125\n",
              "\n",
              "[10 rows x 9 columns]"
            ]
          },
          "metadata": {
            "tags": []
          },
          "execution_count": 13
        }
      ]
    },
    {
      "cell_type": "markdown",
      "metadata": {
        "id": "2rTaU0Buq3i1",
        "colab_type": "text"
      },
      "source": [
        "# Collaborative filtering"
      ]
    },
    {
      "cell_type": "markdown",
      "metadata": {
        "id": "VCCJvmqAq3is",
        "colab_type": "text"
      },
      "source": [
        "## Collaborative Filtering for Tiny Netflix "
      ]
    },
    {
      "cell_type": "code",
      "metadata": {
        "id": "ZCs_wciVq3iv",
        "colab_type": "code",
        "colab": {
          "base_uri": "https://localhost:8080/",
          "height": 91
        },
        "outputId": "abe928d9-e8d6-4fc3-eba0-a64f143558aa"
      },
      "source": [
        "ratings = pd.DataFrame([\n",
        "    [30878, 1, 4], [30878, 5, 1], [30878, 18, 3], [30878, 28, 3], [30878, 30, 4], [30878, 44, 5], \n",
        "    [124105, 1, 4], \n",
        "    [822109, 1, 5], \n",
        "    [823519, 1, 3], [823519, 8, 1], [823519, 17, 4], [823519, 28, 4], [823519, 30, 5], \n",
        "    [885013, 1, 4], [885013, 5, 5], \n",
        "    [893988, 1, 3], [893988, 30, 4], [893988, 44, 4], \n",
        "    [1248029, 1, 3], [1248029, 28, 2], [1248029, 30, 4], [1248029, 48, 3], \n",
        "    [1503895, 1, 4], \n",
        "    [1842128, 1, 4], [1842128, 30, 3], \n",
        "    [2238063, 1, 3], \n",
        "], columns=['customerID', 'movieID', 'rating'])\n",
        "\n",
        "reader = Reader(rating_scale=(1, 5))\n",
        "data = Dataset.load_from_df(ratings[['customerID', 'movieID', 'rating']], reader)\n",
        "trainset = data.build_full_trainset()\n",
        "sim_options = {'name': 'cosine', 'user_based': False}  # compute cosine similarities between items\n",
        "algo = KNNBasic(sim_options=sim_options)\n",
        "algo.fit(trainset)\n",
        "pred = algo.predict(str(823519), str(30), r_ui=4, verbose=True)"
      ],
      "execution_count": 14,
      "outputs": [
        {
          "output_type": "stream",
          "text": [
            "Computing the cosine similarity matrix...\n",
            "Done computing similarity matrix.\n",
            "user: 823519     item: 30         r_ui = 4.00   est = 3.54   {'was_impossible': True, 'reason': 'User and/or item is unkown.'}\n"
          ],
          "name": "stdout"
        }
      ]
    },
    {
      "cell_type": "markdown",
      "metadata": {
        "id": "sUFwiIgLe1ad",
        "colab_type": "text"
      },
      "source": [
        "## Collaborative Filtering for Simulated Data"
      ]
    },
    {
      "cell_type": "markdown",
      "metadata": {
        "id": "-PNjBYnq06J9",
        "colab_type": "text"
      },
      "source": [
        "### Dataset preparation and definition of helper function"
      ]
    },
    {
      "cell_type": "code",
      "metadata": {
        "id": "TwK0Scelq3i3",
        "colab_type": "code",
        "colab": {
          "base_uri": "https://localhost:8080/",
          "height": 535
        },
        "outputId": "e1a42d05-435d-403d-ff72-64b2b6c458c5"
      },
      "source": [
        "import random\n",
        "\n",
        "random.seed(0)\n",
        "nratings = 5000\n",
        "randomData = pd.DataFrame({\n",
        "    'itemID': [random.randint(0,99) for _ in range(nratings)],\n",
        "    'userID': [random.randint(0,999) for _ in range(nratings)],\n",
        "    'rating': [random.randint(1,5) for _ in range(nratings)],\n",
        "})\n",
        "\n",
        "def get_top_n(predictions, n=10):\n",
        "    # First map the predictions to each user.\n",
        "    byUser = defaultdict(list)\n",
        "    for p in predictions:\n",
        "        byUser[p.uid].append(p)\n",
        "    \n",
        "    # For each user, reduce predictions to top-n\n",
        "    for uid, userPredictions in byUser.items():\n",
        "        byUser[uid] = heapq.nlargest(n, userPredictions, key=lambda p: p.est)\n",
        "    return byUser"
      ],
      "execution_count": 19,
      "outputs": [
        {
          "output_type": "stream",
          "text": [
            "Computing the cosine similarity matrix...\n",
            "Done computing similarity matrix.\n",
            "\n",
            "Top-3 recommended items for each user\n",
            "User 6\n",
            "  Item 6 (5.00)  Item 77 (2.50)  Item 60 (1.00)\n",
            "User 222\n",
            "  Item 77 (3.50)  Item 75 (2.78)\n",
            "User 424\n",
            "  Item 14 (3.50)  Item 45 (3.10)  Item 54 (2.34)\n",
            "User 87\n",
            "  Item 27 (3.00)  Item 54 (3.00)  Item 82 (3.00)  Item 32 (1.00)\n",
            "User 121\n",
            "  Item 98 (3.48)  Item 32 (2.83)\n",
            "\n",
            "Computing the cosine similarity matrix...\n",
            "Done computing similarity matrix.\n",
            "\n",
            "Top-3 recommended items for each user\n",
            "User 6\n",
            "  Item 77 (3.00)  Item 60 (3.00)  Item 6 (3.00)\n",
            "User 222\n",
            "  Item 77 (2.24)  Item 75 (2.00)\n",
            "User 424\n",
            "  Item 54 (3.47)  Item 14 (3.44)  Item 45 (3.00)\n",
            "User 87\n",
            "  Item 27 (3.00)  Item 32 (3.00)  Item 82 (3.00)  Item 54 (2.50)\n",
            "User 121\n",
            "  Item 32 (3.06)  Item 98 (2.31)\n"
          ],
          "name": "stdout"
        }
      ]
    },
    {
      "cell_type": "markdown",
      "metadata": {
        "id": "vTzZGreJ1L0A",
        "colab_type": "text"
      },
      "source": [
        "### Collaborative Filtering"
      ]
    },
    {
      "cell_type": "code",
      "metadata": {
        "id": "vokcZ0n71CeW",
        "colab_type": "code",
        "colab": {}
      },
      "source": [
        "# Convert thes data set into the format required by the surprise package\n",
        "# The columns must correspond to user id, item id and ratings (in that order)\n",
        "reader = Reader(rating_scale=(1, 5))\n",
        "data = Dataset.load_from_df(randomData[['userID', 'itemID', 'rating']], reader)\n",
        "\n",
        "# Split into training and test set\n",
        "trainset, testset = train_test_split(data, test_size=.25, random_state=1)\n",
        "\n",
        "## User-based filtering\n",
        "# compute cosine similarity between users \n",
        "sim_options = {'name': 'cosine', 'user_based': True}\n",
        "algo = KNNBasic(sim_options=sim_options)\n",
        "algo.fit(trainset)\n",
        "\n",
        "# Than predict ratings for all pairs (u, i) that are NOT in the training set.\n",
        "predictions = algo.test(testset)\n",
        "\n",
        "top_n = get_top_n(predictions, n=4)\n",
        "\n",
        "# Print the recommended items for each user\n",
        "print()\n",
        "print('Top-3 recommended items for each user')\n",
        "for uid, user_ratings in list(top_n.items())[:5]:\n",
        "    print('User {}'.format(uid))\n",
        "    for prediction in user_ratings:\n",
        "        print('  Item {0.iid} ({0.est:.2f})'.format(prediction), end='')\n",
        "    print()\n",
        "print()\n",
        "\n",
        "    \n",
        "## Item-based filtering\n",
        "# compute cosine similarity between users \n",
        "sim_options = {'name': 'cosine', 'user_based': False}\n",
        "algo = KNNBasic(sim_options=sim_options)\n",
        "algo.fit(trainset)\n",
        "\n",
        "# Than predict ratings for all pairs (u, i) that are NOT in the training set.\n",
        "predictions = algo.test(testset)\n",
        "top_n = get_top_n(predictions, n=4)\n",
        "\n",
        "# Print the recommended items for each user\n",
        "print()\n",
        "print('Top-3 recommended items for each user')\n",
        "for uid, user_ratings in list(top_n.items())[:5]:\n",
        "    print('User {}'.format(uid))\n",
        "    for prediction in user_ratings:\n",
        "        print('  Item {0.iid} ({0.est:.2f})'.format(prediction), end='')\n",
        "    print()"
      ],
      "execution_count": null,
      "outputs": []
    },
    {
      "cell_type": "markdown",
      "metadata": {
        "id": "Lnd4B5wz1F6G",
        "colab_type": "text"
      },
      "source": [
        "### Build a model using the full dataset"
      ]
    },
    {
      "cell_type": "code",
      "metadata": {
        "id": "TXNpqF9Rq3i-",
        "colab_type": "code",
        "colab": {
          "base_uri": "https://localhost:8080/",
          "height": 91
        },
        "outputId": "c065c703-39fc-4188-f465-2648cc393258"
      },
      "source": [
        "trainset = data.build_full_trainset()\n",
        "sim_options = {'name': 'cosine', 'user_based': False}\n",
        "algo = KNNBasic(sim_options=sim_options)\n",
        "algo.fit(trainset)\n",
        "\n",
        "# Predict rating for user 383 and item 7\n",
        "algo.predict(383, 7)"
      ],
      "execution_count": 15,
      "outputs": [
        {
          "output_type": "stream",
          "text": [
            "Computing the cosine similarity matrix...\n",
            "Done computing similarity matrix.\n"
          ],
          "name": "stdout"
        },
        {
          "output_type": "execute_result",
          "data": {
            "text/plain": [
              "Prediction(uid=383, iid=7, r_ui=None, est=3.5384615384615383, details={'was_impossible': True, 'reason': 'User and/or item is unkown.'})"
            ]
          },
          "metadata": {
            "tags": []
          },
          "execution_count": 15
        }
      ]
    },
    {
      "cell_type": "markdown",
      "metadata": {
        "id": "4MzZZdP0sUkW",
        "colab_type": "text"
      },
      "source": [
        "---\n",
        "**Reference**\n",
        "\n",
        "Shmueli, G., Bruce, P. C., Gedeck, P., and Patel, N. R. (2019). *Data Mining for Business Analytics: Concepts, Techniques and Applications in Python*. John Wiley & Sons, Inc."
      ]
    }
  ]
}